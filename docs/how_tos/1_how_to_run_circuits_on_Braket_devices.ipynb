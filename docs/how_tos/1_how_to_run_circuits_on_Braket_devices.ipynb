{
 "cells": [
  {
   "cell_type": "markdown",
   "id": "c74932e2",
   "metadata": {},
   "source": [
    "# How-to: run circuit on Braket devices"
   ]
  },
  {
   "cell_type": "code",
   "execution_count": null,
   "id": "f543c651",
   "metadata": {},
   "outputs": [],
   "source": [
    "from qiskit import transpile\n",
    "from qiskit.circuit.random import random_circuit\n",
    "from qiskit.visualization import plot_histogram\n",
    "\n",
    "from qiskit_braket_plugin import AWSBraketProvider"
   ]
  },
  {
   "cell_type": "markdown",
   "id": "e306df72",
   "metadata": {},
   "source": [
    "Let's create random circuit"
   ]
  },
  {
   "cell_type": "code",
   "execution_count": 12,
   "id": "ddc70eea",
   "metadata": {},
   "outputs": [
    {
     "data": {
      "text/html": [
       "<pre style=\"word-wrap: normal;white-space: pre;background: #fff0;line-height: 1.1;font-family: &quot;Courier New&quot;,Courier,monospace\">                                                   ┌───┐\n",
       "q_0: ─────X────────────■───────────────────────────┤ X ├\n",
       "          │            │      ┌─────┐┌────────────┐└─┬─┘\n",
       "q_1: ─────X────────────┼──────┤ Sdg ├┤ Rx(3.9689) ├──┼──\n",
       "     ┌──────────┐      │      └─────┘└────────────┘  │  \n",
       "q_2: ┤ U1(6.13) ├──────┼─────────X───────────────────■──\n",
       "     └──┬───┬───┘┌─────┴─────┐   │       ┌───┐       │  \n",
       "q_3: ───┤ T ├────┤ Rz(5.823) ├───┼───────┤ S ├───────┼──\n",
       "       ┌┴───┴┐   └───────────┘   │       └───┘       │  \n",
       "q_4: ──┤ Tdg ├───────────────────X───────────────────■──\n",
       "       └─────┘                                          </pre>"
      ],
      "text/plain": [
       "                                                   ┌───┐\n",
       "q_0: ─────X────────────■───────────────────────────┤ X ├\n",
       "          │            │      ┌─────┐┌────────────┐└─┬─┘\n",
       "q_1: ─────X────────────┼──────┤ Sdg ├┤ Rx(3.9689) ├──┼──\n",
       "     ┌──────────┐      │      └─────┘└────────────┘  │  \n",
       "q_2: ┤ U1(6.13) ├──────┼─────────X───────────────────■──\n",
       "     └──┬───┬───┘┌─────┴─────┐   │       ┌───┐       │  \n",
       "q_3: ───┤ T ├────┤ Rz(5.823) ├───┼───────┤ S ├───────┼──\n",
       "       ┌┴───┴┐   └───────────┘   │       └───┘       │  \n",
       "q_4: ──┤ Tdg ├───────────────────X───────────────────■──\n",
       "       └─────┘                                          "
      ]
     },
     "execution_count": 12,
     "metadata": {},
     "output_type": "execute_result"
    }
   ],
   "source": [
    "circuit = random_circuit(5, 3, seed=42)\n",
    "circuit.draw()"
   ]
  },
  {
   "cell_type": "markdown",
   "id": "d96fb4ef",
   "metadata": {},
   "source": [
    "Get statevector simulator"
   ]
  },
  {
   "cell_type": "code",
   "execution_count": 9,
   "id": "50522a02",
   "metadata": {},
   "outputs": [
    {
     "data": {
      "text/plain": [
       "BraketBackend[SV1]"
      ]
     },
     "execution_count": 9,
     "metadata": {},
     "output_type": "execute_result"
    }
   ],
   "source": [
    "provider = AWSBraketProvider()\n",
    "state_vector_simulator_backend = provider.get_backend(\"SV1\")\n",
    "state_vector_simulator_backend"
   ]
  },
  {
   "cell_type": "markdown",
   "id": "a9963aac",
   "metadata": {},
   "source": [
    "Transpile circuit against given backend"
   ]
  },
  {
   "cell_type": "code",
   "execution_count": 24,
   "id": "efd93336",
   "metadata": {
    "scrolled": true
   },
   "outputs": [
    {
     "data": {
      "text/html": [
       "<pre style=\"word-wrap: normal;white-space: pre;background: #fff0;line-height: 1.1;font-family: &quot;Courier New&quot;,Courier,monospace\">global phase: 4.8274\n",
       "                                                                          ┌───┐┌───┐┌─────┐┌───┐┌───┐┌───┐┌─────┐┌───┐┌───┐ ┌───┐      \n",
       "q_0 -> 0 ───────────X────────────────────■─────────────────────────────■──┤ H ├┤ X ├┤ Tdg ├┤ X ├┤ T ├┤ X ├┤ Tdg ├┤ X ├┤ T ├─┤ H ├──────\n",
       "                    │           ┌─────┐  │        ┌────────────┐       │  └───┘└─┬─┘└─────┘└─┬─┘└───┘└─┬─┘└─────┘└─┬─┘└───┘ └───┘      \n",
       "q_1 -> 1 ───────────X───────────┤ Sdg ├──┼────────┤ Rx(3.9689) ├───────┼─────────┼───────────┼─────────┼───────────┼───────────────────\n",
       "         ┌─────────────────────┐└─────┘  │        └────────────┘       │         │           │         │           │        ┌───┐      \n",
       "q_2 -> 2 ┤ P(6.13001602516006) ├───X─────┼─────────────────────────────┼─────────┼───────────■─────────┼───────────■────■───┤ T ├───■──\n",
       "         └────┬────────────┬───┘   │   ┌─┴─┐┌───────────────────────┐┌─┴─┐┌───┐  │                     │                │   └───┘   │  \n",
       "q_3 -> 3 ─────┤ P(-2.5863) ├───────┼───┤ X ├┤ Rz(-2.91151808057099) ├┤ X ├┤ S ├──┼─────────────────────┼────────────────┼───────────┼──\n",
       "              └──┬─────┬───┘       │   └───┘└───────────────────────┘└───┘└───┘  │                     │   ┌───┐      ┌─┴─┐┌─────┐┌─┴─┐\n",
       "q_4 -> 4 ────────┤ Tdg ├───────────X─────────────────────────────────────────────■─────────────────────■───┤ T ├──────┤ X ├┤ Tdg ├┤ X ├\n",
       "                 └─────┘                                                                                   └───┘      └───┘└─────┘└───┘</pre>"
      ],
      "text/plain": [
       "global phase: 4.8274\n",
       "                                                                          ┌───┐┌───┐┌─────┐┌───┐┌───┐┌───┐┌─────┐┌───┐┌───┐ ┌───┐      \n",
       "q_0 -> 0 ───────────X────────────────────■─────────────────────────────■──┤ H ├┤ X ├┤ Tdg ├┤ X ├┤ T ├┤ X ├┤ Tdg ├┤ X ├┤ T ├─┤ H ├──────\n",
       "                    │           ┌─────┐  │        ┌────────────┐       │  └───┘└─┬─┘└─────┘└─┬─┘└───┘└─┬─┘└─────┘└─┬─┘└───┘ └───┘      \n",
       "q_1 -> 1 ───────────X───────────┤ Sdg ├──┼────────┤ Rx(3.9689) ├───────┼─────────┼───────────┼─────────┼───────────┼───────────────────\n",
       "         ┌─────────────────────┐└─────┘  │        └────────────┘       │         │           │         │           │        ┌───┐      \n",
       "q_2 -> 2 ┤ P(6.13001602516006) ├───X─────┼─────────────────────────────┼─────────┼───────────■─────────┼───────────■────■───┤ T ├───■──\n",
       "         └────┬────────────┬───┘   │   ┌─┴─┐┌───────────────────────┐┌─┴─┐┌───┐  │                     │                │   └───┘   │  \n",
       "q_3 -> 3 ─────┤ P(-2.5863) ├───────┼───┤ X ├┤ Rz(-2.91151808057099) ├┤ X ├┤ S ├──┼─────────────────────┼────────────────┼───────────┼──\n",
       "              └──┬─────┬───┘       │   └───┘└───────────────────────┘└───┘└───┘  │                     │   ┌───┐      ┌─┴─┐┌─────┐┌─┴─┐\n",
       "q_4 -> 4 ────────┤ Tdg ├───────────X─────────────────────────────────────────────■─────────────────────■───┤ T ├──────┤ X ├┤ Tdg ├┤ X ├\n",
       "                 └─────┘                                                                                   └───┘      └───┘└─────┘└───┘"
      ]
     },
     "execution_count": 24,
     "metadata": {},
     "output_type": "execute_result"
    }
   ],
   "source": [
    "transpiled_circuit = transpile(\n",
    "    circuit, backend=state_vector_simulator_backend, seed_transpiler=42\n",
    ")\n",
    "transpiled_circuit.draw(idle_wires=False, fold=-1)"
   ]
  },
  {
   "cell_type": "markdown",
   "id": "fa7d65c1",
   "metadata": {},
   "source": [
    "Run circuit"
   ]
  },
  {
   "cell_type": "code",
   "execution_count": 14,
   "id": "fc6aa158",
   "metadata": {},
   "outputs": [],
   "source": [
    "result = state_vector_simulator_backend.run(transpiled_circuit, shots=10)"
   ]
  },
  {
   "cell_type": "code",
   "execution_count": 20,
   "id": "a4ea3a45",
   "metadata": {},
   "outputs": [
    {
     "data": {
      "image/png": "[encoded data removed]",
      "text/plain": [
       "<Figure size 504x360 with 1 Axes>"
      ]
     },
     "execution_count": 20,
     "metadata": {},
     "output_type": "execute_result"
    }
   ],
   "source": [
    "plot_histogram(result.result().get_counts())"
   ]
  }
 ],
 "metadata": {
  "kernelspec": {
   "display_name": "Python 3 (ipykernel)",
   "language": "python",
   "name": "python3"
  },
  "language_info": {
   "codemirror_mode": {
    "name": "ipython",
    "version": 3
   },
   "file_extension": ".py",
   "mimetype": "text/x-python",
   "name": "python",
   "nbconvert_exporter": "python",
   "pygments_lexer": "ipython3",
   "version": "3.9.7"
  }
 },
 "nbformat": 4,
 "nbformat_minor": 5
}
