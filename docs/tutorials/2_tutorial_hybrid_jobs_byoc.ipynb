{
 "cells": [
  {
   "cell_type": "markdown",
   "id": "adc318c6",
   "metadata": {},
   "source": [
    "# Tutorial: Hybrid jobs with Qiskit-Braket provider"
   ]
  },
  {
   "cell_type": "markdown",
   "id": "248f8fc2",
   "metadata": {},
   "source": [
    "### Prepare Hybrid job script"
   ]
  },
  {
   "cell_type": "code",
   "execution_count": 31,
   "id": "b9184273",
   "metadata": {},
   "outputs": [
    {
     "name": "stdout",
     "output_type": "stream",
     "text": [
      "\"\"\"Example of Hybrid Job payload with VQE.\"\"\"\r\n",
      "from braket.jobs import save_job_result\r\n",
      "from qiskit.opflow import (\r\n",
      "    I,\r\n",
      "    X,\r\n",
      "    Z,\r\n",
      ")\r\n",
      "from qiskit.algorithms import VQE\r\n",
      "from qiskit.algorithms.optimizers import SLSQP\r\n",
      "from qiskit.circuit.library import TwoLocal\r\n",
      "from qiskit.utils import QuantumInstance\r\n",
      "\r\n",
      "from qiskit_braket_provider import BraketLocalBackend\r\n",
      "\r\n",
      "\r\n",
      "def main():\r\n",
      "    backend = BraketLocalBackend(name=\"default\")\r\n",
      "\r\n",
      "    h2_op = (\r\n",
      "            (-1.052373245772859 * I ^ I)\r\n",
      "            + (0.39793742484318045 * I ^ Z)\r\n",
      "            + (-0.39793742484318045 * Z ^ I)\r\n",
      "            + (-0.01128010425623538 * Z ^ Z)\r\n",
      "            + (0.18093119978423156 * X ^ X)\r\n",
      "    )\r\n",
      "\r\n",
      "    quantum_instance = QuantumInstance(\r\n",
      "        backend, seed_transpiler=42, seed_simulator=42, shots=10\r\n",
      "    )\r\n",
      "    ansatz = TwoLocal(rotation_blocks=\"ry\", entanglement_blocks=\"cz\")\r\n",
      "    slsqp = SLSQP(maxiter=1)\r\n",
      "\r\n",
      "    vqe = VQE(ansatz, optimizer=slsqp, quantum_instance=quantum_instance)\r\n",
      "\r\n",
      "    vqe_result = vqe.compute_minimum_eigenvalue(h2_op)\r\n",
      "\r\n",
      "    save_job_result({\r\n",
      "        \"VQE\": {\r\n",
      "            \"eigenstate\": vqe_result.eigenstate,\r\n",
      "            \"eigenvalue\": vqe_result.eigenvalue.real,\r\n",
      "            \"optimal_parameters\": vqe_result.optimal_parameters.values(),\r\n",
      "            \"optimal_point\": vqe_result.optimal_point.tolist(),\r\n",
      "            \"optimal_value\": vqe_result.optimal_value.real\r\n",
      "        }\r\n",
      "    })\r\n"
     ]
    }
   ],
   "source": [
    "! cat ./data/2_hybrid_jobs/job_script.py "
   ]
  },
  {
   "cell_type": "markdown",
   "id": "ebe61a61",
   "metadata": {},
   "source": [
    "### Prepare docker image"
   ]
  },
  {
   "cell_type": "code",
   "execution_count": 3,
   "id": "9fb7d229",
   "metadata": {},
   "outputs": [
    {
     "name": "stdout",
     "output_type": "stream",
     "text": [
      "FROM 292282985366.dkr.ecr.us-west-2.amazonaws.com/amazon-braket-base-jobs:1.0-cpu-py37-ubuntu18.04\r\n",
      "\r\n",
      "RUN python3 -m pip install --upgrade pip\r\n",
      "\r\n",
      "RUN python3 -m pip install --no-cache --upgrade git+https://github.com/qiskit-community/qiskit-braket-provider\r\n"
     ]
    }
   ],
   "source": [
    "! cat ./data/2_hybrid_jobs/Dockerfile"
   ]
  },
  {
   "cell_type": "markdown",
   "id": "0204e056",
   "metadata": {},
   "source": [
    "### Login to AWS CLI and docker\n",
    "\n",
    "Login to AWS' ERC to pull base image\n",
    "\n",
    "`aws ecr get-login-password --region us-west-2 | docker login --username AWS --password-stdin 292282985366.dkr.ecr.us-west-2.amazonaws.com`\n",
    "\n",
    "Login to yours ERC to push your image\n",
    "\n",
    "`aws ecr get-login-password --region <YOUR_AWS_REGION> | docker login --username AWS --password-stdin <YOUR_ACCOUNT_ID>.dkr.ecr.<YOUR_AWS_REGION>.amazonaws.com`"
   ]
  },
  {
   "cell_type": "markdown",
   "id": "40a4fdae",
   "metadata": {},
   "source": [
    "### Create ECR repo\n",
    "\n",
    "`! aws ecr create-repository --repository-name amazon-braket-qiskit-provider`"
   ]
  },
  {
   "cell_type": "markdown",
   "id": "0067d66b",
   "metadata": {},
   "source": [
    "### Build docker image\n",
    "\n",
    "`! docker build -t amazon-braket-qiskit-provider ./data/2_hybrid_jobs/`\n",
    "\n",
    "`! docker tag amazon-braket-qiskit-provider:latest <YOUR_ACCOUNT_ID>.dkr.ecr.<YOUR_AWS_REGION>.amazonaws.com/amazon-braket-qiskit-provider:latest`"
   ]
  },
  {
   "cell_type": "markdown",
   "id": "6010160f",
   "metadata": {},
   "source": [
    "### Submit your job"
   ]
  },
  {
   "cell_type": "code",
   "execution_count": 35,
   "id": "5e644a0f",
   "metadata": {},
   "outputs": [],
   "source": [
    "import uuid\n",
    "\n",
    "from braket.aws import AwsQuantumJob\n",
    "from braket.jobs.config import InstanceConfig\n",
    "\n",
    "image_uri = \"<YOUR_ACCOUNT_ID>.dkr.ecr.<YOUR_AWS_REGION>.amazonaws.com/amazon-braket-qiskit-provider:latest\"\n",
    "\n",
    "job = AwsQuantumJob.create(\n",
    "    device=\"arn:aws:braket:::device/quantum-simulator/amazon/sv1\",\n",
    "    source_module=\"data/2_hybrid_jobs/job_script.py\",\n",
    "    entry_point=\"job_script:main\",\n",
    "    wait_until_complete=False,\n",
    "    job_name=\"qiskit-braket-vqe-4\",\n",
    "    image_uri=image_uri\n",
    ")"
   ]
  },
  {
   "cell_type": "code",
   "execution_count": 38,
   "id": "23e007d1",
   "metadata": {},
   "outputs": [
    {
     "name": "stdout",
     "output_type": "stream",
     "text": [
      "{'VQE': {'eigenstate': {'00': 0.7071067811865476,\n",
      "                        '01': 0.5477225575051661,\n",
      "                        '11': 0.4472135954999579},\n",
      "         'eigenvalue': -1.1870890225107222,\n",
      "         'optimal_parameters': [-1.6508004825151215,\n",
      "                                4.957957340527567,\n",
      "                                2.4372737710481633,\n",
      "                                -3.820554991737687,\n",
      "                                4.368582921026,\n",
      "                                4.255770864016807,\n",
      "                                -2.662412922004604,\n",
      "                                -4.008723189294315],\n",
      "         'optimal_point': [-1.6508004825151215,\n",
      "                           4.957957340527567,\n",
      "                           2.4372737710481633,\n",
      "                           -3.820554991737687,\n",
      "                           4.368582921026,\n",
      "                           4.255770864016807,\n",
      "                           -2.662412922004604,\n",
      "                           -4.008723189294315],\n",
      "         'optimal_value': -1.1870890225107222}}\n"
     ]
    }
   ],
   "source": [
    "from pprint import pprint\n",
    "\n",
    "pprint(job.result())"
   ]
  },
  {
   "cell_type": "code",
   "execution_count": null,
   "id": "44c11539",
   "metadata": {},
   "outputs": [],
   "source": []
  }
 ],
 "metadata": {
  "kernelspec": {
   "display_name": "Python 3 (ipykernel)",
   "language": "python",
   "name": "python3"
  },
  "language_info": {
   "codemirror_mode": {
    "name": "ipython",
    "version": 3
   },
   "file_extension": ".py",
   "mimetype": "text/x-python",
   "name": "python",
   "nbconvert_exporter": "python",
   "pygments_lexer": "ipython3",
   "version": "3.9.7"
  }
 },
 "nbformat": 4,
 "nbformat_minor": 5
}
