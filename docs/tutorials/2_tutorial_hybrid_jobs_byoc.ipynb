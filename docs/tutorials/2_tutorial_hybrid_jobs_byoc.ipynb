{
 "cells": [
  {
   "cell_type": "markdown",
   "id": "adc318c6",
   "metadata": {},
   "source": [
    "# Tutorial: Variational algorithms on Hybrid jobs"
   ]
  },
  {
   "cell_type": "markdown",
   "id": "8e36b315",
   "metadata": {},
   "source": [
    "## Prepare files"
   ]
  },
  {
   "cell_type": "markdown",
   "id": "248f8fc2",
   "metadata": {},
   "source": [
    "### Prepare Hybrid job script"
   ]
  },
  {
   "cell_type": "code",
   "execution_count": 1,
   "id": "b9184273",
   "metadata": {},
   "outputs": [
    {
     "name": "stdout",
     "output_type": "stream",
     "text": [
      "\"\"\"Example of Hybrid Job payload with VQE.\"\"\"\n",
      "from braket.jobs import save_job_result\n",
      "from qiskit.quantum_info import SparsePauliOp\n",
      "from qiskit.algorithms.minimum_eigensolvers import VQE\n",
      "from qiskit.algorithms.optimizers import SLSQP\n",
      "from qiskit.circuit.library import TwoLocal\n",
      "from qiskit.primitives import BackendEstimator\n",
      "\n",
      "from qiskit_braket_provider import AWSBraketProvider\n",
      "\n",
      "\n",
      "def main():\n",
      "    backend = AWSBraketProvider().get_backend(\"SV1\")\n",
      "\n",
      "    h2_op = SparsePauliOp(\n",
      "        [\"II\", \"IZ\", \"ZI\", \"ZZ\", \"XX\"],\n",
      "        coeffs=[\n",
      "            -1.052373245772859,\n",
      "            0.39793742484318045,\n",
      "            -0.39793742484318045,\n",
      "            -0.01128010425623538,\n",
      "            0.18093119978423156,\n",
      "        ],\n",
      "    )\n",
      "\n",
      "    estimator = BackendEstimator(\n",
      "        backend=backend,\n",
      "        options={\"seed_simulator\": 42, \"seed_transpiler\": 42, \"shots\": 10},\n",
      "        skip_transpilation=False,\n",
      "    )\n",
      "    ansatz = TwoLocal(rotation_blocks=\"ry\", entanglement_blocks=\"cz\")\n",
      "    slsqp = SLSQP(maxiter=1)\n",
      "\n",
      "    vqe = VQE(estimator=estimator, ansatz=ansatz, optimizer=slsqp)\n",
      "\n",
      "    vqe_result = vqe.compute_minimum_eigenvalue(h2_op)\n",
      "\n",
      "    save_job_result(\n",
      "        {\n",
      "            \"VQE\": {\n",
      "                \"eigenvalue\": vqe_result.eigenvalue.real,\n",
      "                \"optimal_parameters\": list(vqe_result.optimal_parameters.values()),\n",
      "                \"optimal_point\": vqe_result.optimal_point.tolist(),\n",
      "                \"optimal_value\": vqe_result.optimal_value.real,\n",
      "            }\n",
      "        }\n",
      "    )\n"
     ]
    }
   ],
   "source": [
    "! cat ./data/2_hybrid_jobs/job_script.py"
   ]
  },
  {
   "cell_type": "markdown",
   "id": "ebe61a61",
   "metadata": {},
   "source": [
    "### Prepare docker image"
   ]
  },
  {
   "cell_type": "code",
   "execution_count": 3,
   "id": "9fb7d229",
   "metadata": {},
   "outputs": [
    {
     "name": "stdout",
     "output_type": "stream",
     "text": [
      "FROM 292282985366.dkr.ecr.us-west-2.amazonaws.com/amazon-braket-base-jobs:1.0-cpu-py37-ubuntu18.04\r\n",
      "\r\n",
      "RUN python3 -m pip install --upgrade pip\r\n",
      "\r\n",
      "RUN python3 -m pip install --no-cache --upgrade git+https://github.com/qiskit-community/qiskit-braket-provider\r\n"
     ]
    }
   ],
   "source": [
    "! cat ./data/2_hybrid_jobs/Dockerfile"
   ]
  },
  {
   "cell_type": "markdown",
   "id": "2d6964a9",
   "metadata": {},
   "source": [
    "## Prepare env"
   ]
  },
  {
   "cell_type": "markdown",
   "id": "0204e056",
   "metadata": {},
   "source": [
    "### Login to AWS CLI and docker\n",
    "\n",
    "Login to AWS' ERC to pull base image\n",
    "\n",
    "`aws ecr get-login-password --region us-west-2 | docker login --username AWS --password-stdin 292282985366.dkr.ecr.us-west-2.amazonaws.com`\n",
    "\n",
    "Login to yours ERC to push your image\n",
    "\n",
    "`aws ecr get-login-password --region <YOUR_AWS_REGION> | docker login --username AWS --password-stdin <YOUR_ACCOUNT_ID>.dkr.ecr.<YOUR_AWS_REGION>.amazonaws.com`"
   ]
  },
  {
   "cell_type": "markdown",
   "id": "40a4fdae",
   "metadata": {},
   "source": [
    "### Create ECR repo\n",
    "\n",
    "`! aws ecr create-repository --repository-name amazon-braket-qiskit-provider`"
   ]
  },
  {
   "cell_type": "markdown",
   "id": "0067d66b",
   "metadata": {},
   "source": [
    "### Build docker image\n",
    "\n",
    "`! docker build -t amazon-braket-qiskit-provider ./data/2_hybrid_jobs/`\n",
    "\n",
    "`! docker tag amazon-braket-qiskit-provider:latest <YOUR_ACCOUNT_ID>.dkr.ecr.<YOUR_AWS_REGION>.amazonaws.com/amazon-braket-qiskit-provider:latest`"
   ]
  },
  {
   "cell_type": "markdown",
   "id": "6010160f",
   "metadata": {},
   "source": [
    "## Running your job"
   ]
  },
  {
   "cell_type": "code",
   "execution_count": 44,
   "id": "5e644a0f",
   "metadata": {},
   "outputs": [],
   "source": [
    "from pprint import pprint\n",
    "\n",
    "from braket.aws import AwsQuantumJob\n",
    "\n",
    "image_uri = \"<ACCOUNT_ID>.dkr.ecr.<AWS_REGION>.amazonaws.com/amazon-braket-qiskit-provider:latest\"\n",
    "\n",
    "job = AwsQuantumJob.create(\n",
    "    device=\"arn:aws:braket:::device/quantum-simulator/amazon/sv1\",\n",
    "    source_module=\"data/2_hybrid_jobs/job_script.py\",\n",
    "    entry_point=\"job_script:main\",\n",
    "    wait_until_complete=False,\n",
    "    job_name=\"qiskit-braket-vqe-6\",\n",
    "    image_uri=image_uri,\n",
    ")"
   ]
  },
  {
   "cell_type": "code",
   "execution_count": 45,
   "id": "23e007d1",
   "metadata": {},
   "outputs": [
    {
     "name": "stdout",
     "output_type": "stream",
     "text": [
      "{'VQE': {'eigenstate': {'01': 0.8366600265340756, '11': 0.5477225575051661},\n",
      "         'eigenvalue': -1.6823050629682066,\n",
      "         'optimal_parameters': [2.965910707685307,\n",
      "                                -4.658133055892289,\n",
      "                                -4.3956015975227265,\n",
      "                                -3.682189424847994,\n",
      "                                0.3499389384822065,\n",
      "                                -2.55160387237748,\n",
      "                                2.0897918250881915,\n",
      "                                1.0061448749802206],\n",
      "         'optimal_point': [2.965910707685307,\n",
      "                           -4.658133055892289,\n",
      "                           -4.3956015975227265,\n",
      "                           -3.682189424847994,\n",
      "                           0.3499389384822065,\n",
      "                           -2.55160387237748,\n",
      "                           2.0897918250881915,\n",
      "                           1.0061448749802206],\n",
      "         'optimal_value': -1.6823050629682066}}\n"
     ]
    }
   ],
   "source": [
    "pprint(job.result())"
   ]
  },
  {
   "cell_type": "code",
   "execution_count": null,
   "id": "44c11539",
   "metadata": {},
   "outputs": [],
   "source": []
  }
 ],
 "metadata": {
  "kernelspec": {
   "display_name": "Python 3 (ipykernel)",
   "language": "python",
   "name": "python3"
  },
  "language_info": {
   "codemirror_mode": {
    "name": "ipython",
    "version": 3
   },
   "file_extension": ".py",
   "mimetype": "text/x-python",
   "name": "python",
   "nbconvert_exporter": "python",
   "pygments_lexer": "ipython3",
   "version": "3.11.4"
  }
 },
 "nbformat": 4,
 "nbformat_minor": 5
}
