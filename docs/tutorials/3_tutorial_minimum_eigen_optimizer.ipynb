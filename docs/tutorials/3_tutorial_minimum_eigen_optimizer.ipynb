{
 "cells": [
  {
   "attachments": {},
   "cell_type": "markdown",
   "id": "d58530d2",
   "metadata": {},
   "source": [
    "# Tutorial: Minimum Eigen Optimizer\n",
    "\n",
    "For original tutorial refer to https://qiskit.org/documentation/optimization/tutorials/03_minimum_eigen_optimizer.html"
   ]
  },
  {
   "cell_type": "code",
   "execution_count": 1,
   "id": "704bfb64",
   "metadata": {},
   "outputs": [
    {
     "name": "stdout",
     "output_type": "stream",
     "text": [
      "Collecting qiskit_optimization\n",
      "  Downloading qiskit_optimization-0.5.0-py3-none-any.whl (156 kB)\n",
      "\u001b[2K     \u001b[90m━━━━━━━━━━━━━━━━━━━━━━━━━━━━━━━━━━━━━━━\u001b[0m \u001b[32m156.5/156.5 kB\u001b[0m \u001b[31m1.8 MB/s\u001b[0m eta \u001b[36m0:00:00\u001b[0m00:01\u001b[0m00:01\u001b[0m\n",
      "\u001b[?25hRequirement already satisfied: qiskit-terra>=0.22.4 in /home/robotastray/qiskit-braket-provider/venv/lib/python3.8/site-packages (from qiskit_optimization) (0.24.1)\n",
      "Requirement already satisfied: scipy>=1.4 in /home/robotastray/qiskit-braket-provider/venv/lib/python3.8/site-packages (from qiskit_optimization) (1.10.1)\n",
      "Requirement already satisfied: numpy>=1.17 in /home/robotastray/qiskit-braket-provider/venv/lib/python3.8/site-packages (from qiskit_optimization) (1.23.5)\n",
      "Collecting docplex!=2.24.231,>=2.21.207 (from qiskit_optimization)\n",
      "  Downloading docplex-2.25.236.tar.gz (633 kB)\n",
      "\u001b[2K     \u001b[90m━━━━━━━━━━━━━━━━━━━━━━━━━━━━━━━━━━━━━━━\u001b[0m \u001b[32m633.5/633.5 kB\u001b[0m \u001b[31m4.1 MB/s\u001b[0m eta \u001b[36m0:00:00\u001b[0m00:01\u001b[0m00:01\u001b[0m\n",
      "\u001b[?25h  Preparing metadata (setup.py) ... \u001b[?25ldone\n",
      "\u001b[?25hRequirement already satisfied: setuptools>=40.1.0 in /home/robotastray/qiskit-braket-provider/venv/lib/python3.8/site-packages (from qiskit_optimization) (67.7.2)\n",
      "Requirement already satisfied: networkx>=2.6.3 in /home/robotastray/qiskit-braket-provider/venv/lib/python3.8/site-packages (from qiskit_optimization) (3.1)\n",
      "Requirement already satisfied: six in /home/robotastray/qiskit-braket-provider/venv/lib/python3.8/site-packages (from docplex!=2.24.231,>=2.21.207->qiskit_optimization) (1.16.0)\n",
      "Requirement already satisfied: rustworkx>=0.12.0 in /home/robotastray/qiskit-braket-provider/venv/lib/python3.8/site-packages (from qiskit-terra>=0.22.4->qiskit_optimization) (0.13.0)\n",
      "Requirement already satisfied: ply>=3.10 in /home/robotastray/qiskit-braket-provider/venv/lib/python3.8/site-packages (from qiskit-terra>=0.22.4->qiskit_optimization) (3.11)\n",
      "Requirement already satisfied: psutil>=5 in /home/robotastray/qiskit-braket-provider/venv/lib/python3.8/site-packages (from qiskit-terra>=0.22.4->qiskit_optimization) (5.9.5)\n",
      "Requirement already satisfied: sympy>=1.3 in /home/robotastray/qiskit-braket-provider/venv/lib/python3.8/site-packages (from qiskit-terra>=0.22.4->qiskit_optimization) (1.12)\n",
      "Requirement already satisfied: dill>=0.3 in /home/robotastray/qiskit-braket-provider/venv/lib/python3.8/site-packages (from qiskit-terra>=0.22.4->qiskit_optimization) (0.3.6)\n",
      "Requirement already satisfied: python-dateutil>=2.8.0 in /home/robotastray/qiskit-braket-provider/venv/lib/python3.8/site-packages (from qiskit-terra>=0.22.4->qiskit_optimization) (2.8.2)\n",
      "Requirement already satisfied: stevedore>=3.0.0 in /home/robotastray/qiskit-braket-provider/venv/lib/python3.8/site-packages (from qiskit-terra>=0.22.4->qiskit_optimization) (5.1.0)\n",
      "Requirement already satisfied: symengine<0.10,>=0.9 in /home/robotastray/qiskit-braket-provider/venv/lib/python3.8/site-packages (from qiskit-terra>=0.22.4->qiskit_optimization) (0.9.2)\n",
      "Requirement already satisfied: pbr!=2.1.0,>=2.0.0 in /home/robotastray/qiskit-braket-provider/venv/lib/python3.8/site-packages (from stevedore>=3.0.0->qiskit-terra>=0.22.4->qiskit_optimization) (5.11.1)\n",
      "Requirement already satisfied: mpmath>=0.19 in /home/robotastray/qiskit-braket-provider/venv/lib/python3.8/site-packages (from sympy>=1.3->qiskit-terra>=0.22.4->qiskit_optimization) (1.3.0)\n",
      "Building wheels for collected packages: docplex\n",
      "  Building wheel for docplex (setup.py) ... \u001b[?25ldone\n",
      "\u001b[?25h  Created wheel for docplex: filename=docplex-2.25.236-py3-none-any.whl size=671350 sha256=9249c6a84de2faf8bdcbab214a249d5d0f59baacde525363554a1e68347f1283\n",
      "  Stored in directory: /home/robotastray/.cache/pip/wheels/b8/98/f8/22c3fe8d29be988cc4584363f494a459fb8f09c16d8e438ac7\n",
      "Successfully built docplex\n",
      "Installing collected packages: docplex, qiskit_optimization\n",
      "Successfully installed docplex-2.25.236 qiskit_optimization-0.5.0\n"
     ]
    }
   ],
   "source": [
    "! pip install qiskit_optimization"
   ]
  },
  {
   "cell_type": "code",
   "execution_count": 2,
   "id": "2c692b55",
   "metadata": {},
   "outputs": [],
   "source": [
    "from typing import List, Tuple\n",
    "\n",
    "import numpy as np\n",
    "\n",
    "from qiskit.utils import algorithm_globals, QuantumInstance\n",
    "from qiskit.algorithms import QAOA, NumPyMinimumEigensolver\n",
    "from qiskit.visualization import plot_histogram\n",
    "from qiskit_optimization.algorithms import (\n",
    "    MinimumEigenOptimizer,\n",
    "    RecursiveMinimumEigenOptimizer,\n",
    "    SolutionSample,\n",
    "    OptimizationResultStatus,\n",
    ")\n",
    "from qiskit_optimization import QuadraticProgram\n",
    "\n",
    "from qiskit_braket_provider import AWSBraketProvider"
   ]
  },
  {
   "attachments": {},
   "cell_type": "markdown",
   "id": "bd534390",
   "metadata": {},
   "source": [
    "### Converting a QUBO to an Operator"
   ]
  },
  {
   "cell_type": "code",
   "execution_count": 3,
   "id": "f55baa58",
   "metadata": {},
   "outputs": [
    {
     "name": "stdout",
     "output_type": "stream",
     "text": [
      "\\ This file has been generated by DOcplex\n",
      "\\ ENCODING=ISO-8859-1\n",
      "\\Problem name: CPLEX\n",
      "\n",
      "Minimize\n",
      " obj: x - 2 y + 3 z + [ 2 x*y - 2 x*z + 4 y*z ]/2\n",
      "Subject To\n",
      "\n",
      "Bounds\n",
      " 0 <= x <= 1\n",
      " 0 <= y <= 1\n",
      " 0 <= z <= 1\n",
      "\n",
      "Binaries\n",
      " x y z\n",
      "End\n",
      "\n"
     ]
    }
   ],
   "source": [
    "# create a QUBO\n",
    "qubo = QuadraticProgram()\n",
    "qubo.binary_var(\"x\")\n",
    "qubo.binary_var(\"y\")\n",
    "qubo.binary_var(\"z\")\n",
    "qubo.minimize(\n",
    "    linear=[1, -2, 3], quadratic={(\"x\", \"y\"): 1, (\"x\", \"z\"): -1, (\"y\", \"z\"): 2}\n",
    ")\n",
    "print(qubo.export_as_lp_string())"
   ]
  },
  {
   "cell_type": "code",
   "execution_count": 4,
   "id": "eae79719",
   "metadata": {},
   "outputs": [
    {
     "name": "stdout",
     "output_type": "stream",
     "text": [
      "offset: 1.5\n",
      "operator:\n",
      "-0.5 * IIZ\n",
      "+ 0.25 * IZI\n",
      "- 1.75 * ZII\n",
      "+ 0.25 * IZZ\n",
      "- 0.25 * ZIZ\n",
      "+ 0.5 * ZZI\n"
     ]
    }
   ],
   "source": [
    "op, offset = qubo.to_ising()\n",
    "print(f\"offset: {offset}\")\n",
    "print(\"operator:\")\n",
    "print(op)"
   ]
  },
  {
   "cell_type": "code",
   "execution_count": 5,
   "id": "ec6b4990",
   "metadata": {},
   "outputs": [
    {
     "name": "stdout",
     "output_type": "stream",
     "text": [
      "\\ This file has been generated by DOcplex\n",
      "\\ ENCODING=ISO-8859-1\n",
      "\\Problem name: CPLEX\n",
      "\n",
      "Minimize\n",
      " obj: x0 - 2 x1 + 3 x2 + [ 2 x0*x1 - 2 x0*x2 + 4 x1*x2 ]/2\n",
      "Subject To\n",
      "\n",
      "Bounds\n",
      " 0 <= x0 <= 1\n",
      " 0 <= x1 <= 1\n",
      " 0 <= x2 <= 1\n",
      "\n",
      "Binaries\n",
      " x0 x1 x2\n",
      "End\n",
      "\n"
     ]
    }
   ],
   "source": [
    "qp = QuadraticProgram()\n",
    "qp.from_ising(op, offset, linear=True)\n",
    "print(qp.export_as_lp_string())"
   ]
  },
  {
   "attachments": {},
   "cell_type": "markdown",
   "id": "dd5b2f10",
   "metadata": {},
   "source": [
    "### Solving a QUBO with the MinimumEigenOptimizer\n"
   ]
  },
  {
   "cell_type": "code",
   "execution_count": 6,
   "id": "e17f6bc4",
   "metadata": {},
   "outputs": [
    {
     "name": "stderr",
     "output_type": "stream",
     "text": [
      "/tmp/ipykernel_69023/2374560280.py:3: DeprecationWarning: The class ``qiskit.utils.quantum_instance.QuantumInstance`` is deprecated as of qiskit-terra 0.24.0. It will be removed no earlier than 3 months after the release date. For code migration guidelines, visit https://qisk.it/qi_migration.\n",
      "  quantum_instance = QuantumInstance(\n",
      "/tmp/ipykernel_69023/2374560280.py:8: DeprecationWarning: The class ``qiskit.algorithms.minimum_eigen_solvers.qaoa.QAOA`` is deprecated as of qiskit-terra 0.24.0. It will be removed no earlier than 3 months after the release date. Instead, use the class ``qiskit.algorithms.minimum_eigensolvers.QAOA``. See https://qisk.it/algo_migration for a migration guide.\n",
      "  qaoa_mes = QAOA(quantum_instance=quantum_instance, initial_point=[0.0, 0.0])\n",
      "/tmp/ipykernel_69023/2374560280.py:9: DeprecationWarning: The class ``qiskit.algorithms.minimum_eigen_solvers.numpy_minimum_eigen_solver.NumPyMinimumEigensolver`` is deprecated as of qiskit-terra 0.24.0. It will be removed no earlier than 3 months after the release date. Instead, use the class ``qiskit.algorithms.minimum_eigensolvers.NumPyMinimumEigensolver``. See https://qisk.it/algo_migration for a migration guide.\n",
      "  exact_mes = NumPyMinimumEigensolver()\n"
     ]
    }
   ],
   "source": [
    "algorithm_globals.random_seed = 10598\n",
    "\n",
    "quantum_instance = QuantumInstance(\n",
    "    AWSBraketProvider().backends(local=True)[0],\n",
    "    seed_simulator=algorithm_globals.random_seed,\n",
    "    seed_transpiler=algorithm_globals.random_seed,\n",
    ")\n",
    "qaoa_mes = QAOA(quantum_instance=quantum_instance, initial_point=[0.0, 0.0])\n",
    "exact_mes = NumPyMinimumEigensolver()"
   ]
  },
  {
   "cell_type": "code",
   "execution_count": 7,
   "id": "9e3248ad",
   "metadata": {},
   "outputs": [],
   "source": [
    "qaoa = MinimumEigenOptimizer(qaoa_mes)  # using QAOA\n",
    "exact = MinimumEigenOptimizer(\n",
    "    exact_mes\n",
    ")  # using the exact classical numpy minimum eigen solver"
   ]
  },
  {
   "cell_type": "code",
   "execution_count": 8,
   "id": "81d2e400",
   "metadata": {},
   "outputs": [
    {
     "name": "stdout",
     "output_type": "stream",
     "text": [
      "fval=-2.0, x=0.0, y=1.0, z=0.0, status=SUCCESS\n"
     ]
    }
   ],
   "source": [
    "exact_result = exact.solve(qubo)\n",
    "print(exact_result)"
   ]
  },
  {
   "cell_type": "code",
   "execution_count": 10,
   "id": "59e7a201",
   "metadata": {},
   "outputs": [
    {
     "name": "stdout",
     "output_type": "stream",
     "text": [
      "fval=-2.0, x=0.0, y=1.0, z=0.0, status=SUCCESS\n"
     ]
    }
   ],
   "source": [
    "qaoa_result = qaoa.solve(qubo)\n",
    "print(qaoa_result)"
   ]
  },
  {
   "attachments": {},
   "cell_type": "markdown",
   "id": "c345243c",
   "metadata": {},
   "source": [
    "### Analysis of Samples"
   ]
  },
  {
   "cell_type": "code",
   "execution_count": 11,
   "id": "c54be53e",
   "metadata": {},
   "outputs": [
    {
     "name": "stdout",
     "output_type": "stream",
     "text": [
      "variable order: ['x', 'y', 'z']\n",
      "SolutionSample(x=array([0., 1., 0.]), fval=-2.0, probability=0.123046875, status=<OptimizationResultStatus.SUCCESS: 0>)\n",
      "SolutionSample(x=array([1., 1., 0.]), fval=0.0, probability=0.302734375, status=<OptimizationResultStatus.SUCCESS: 0>)\n",
      "SolutionSample(x=array([1., 0., 0.]), fval=1.0, probability=0.0888671875, status=<OptimizationResultStatus.SUCCESS: 0>)\n",
      "SolutionSample(x=array([0., 0., 1.]), fval=3.0, probability=0.22851562500000003, status=<OptimizationResultStatus.SUCCESS: 0>)\n",
      "SolutionSample(x=array([1., 0., 1.]), fval=3.0, probability=0.12500000000000003, status=<OptimizationResultStatus.SUCCESS: 0>)\n",
      "SolutionSample(x=array([0., 1., 1.]), fval=3.0, probability=0.025390624999999997, status=<OptimizationResultStatus.SUCCESS: 0>)\n",
      "SolutionSample(x=array([1., 1., 1.]), fval=4.0, probability=0.10644531250000001, status=<OptimizationResultStatus.SUCCESS: 0>)\n"
     ]
    }
   ],
   "source": [
    "print(\"variable order:\", [var.name for var in qaoa_result.variables])\n",
    "for smpl in qaoa_result.samples:\n",
    "    print(smpl)"
   ]
  },
  {
   "cell_type": "code",
   "execution_count": 12,
   "id": "651b9550",
   "metadata": {},
   "outputs": [],
   "source": [
    "def get_filtered_samples(\n",
    "    samples: List[SolutionSample],\n",
    "    threshold: float = 0,\n",
    "    allowed_status: Tuple[OptimizationResultStatus] = (\n",
    "        OptimizationResultStatus.SUCCESS,\n",
    "    ),\n",
    "):\n",
    "    \"\"\"Returns filtered samples.\"\"\"\n",
    "    res = []\n",
    "    for sample in samples:\n",
    "        if sample.status in allowed_status and sample.probability > threshold:\n",
    "            res.append(sample)\n",
    "\n",
    "    return res"
   ]
  },
  {
   "cell_type": "code",
   "execution_count": 13,
   "id": "224a2a4a",
   "metadata": {},
   "outputs": [
    {
     "name": "stdout",
     "output_type": "stream",
     "text": [
      "SolutionSample(x=array([0., 1., 0.]), fval=-2.0, probability=0.123046875, status=<OptimizationResultStatus.SUCCESS: 0>)\n",
      "SolutionSample(x=array([1., 1., 0.]), fval=0.0, probability=0.302734375, status=<OptimizationResultStatus.SUCCESS: 0>)\n",
      "SolutionSample(x=array([1., 0., 0.]), fval=1.0, probability=0.0888671875, status=<OptimizationResultStatus.SUCCESS: 0>)\n",
      "SolutionSample(x=array([0., 0., 1.]), fval=3.0, probability=0.22851562500000003, status=<OptimizationResultStatus.SUCCESS: 0>)\n",
      "SolutionSample(x=array([1., 0., 1.]), fval=3.0, probability=0.12500000000000003, status=<OptimizationResultStatus.SUCCESS: 0>)\n",
      "SolutionSample(x=array([0., 1., 1.]), fval=3.0, probability=0.025390624999999997, status=<OptimizationResultStatus.SUCCESS: 0>)\n",
      "SolutionSample(x=array([1., 1., 1.]), fval=4.0, probability=0.10644531250000001, status=<OptimizationResultStatus.SUCCESS: 0>)\n"
     ]
    }
   ],
   "source": [
    "filtered_samples = get_filtered_samples(\n",
    "    qaoa_result.samples,\n",
    "    threshold=0.005,\n",
    "    allowed_status=(OptimizationResultStatus.SUCCESS,),\n",
    ")\n",
    "for s in filtered_samples:\n",
    "    print(s)"
   ]
  },
  {
   "cell_type": "code",
   "execution_count": 14,
   "id": "9da37a65",
   "metadata": {},
   "outputs": [],
   "source": [
    "fvals = [s.fval for s in qaoa_result.samples]\n",
    "probabilities = [s.probability for s in qaoa_result.samples]"
   ]
  },
  {
   "cell_type": "code",
   "execution_count": 15,
   "id": "3768185e",
   "metadata": {},
   "outputs": [
    {
     "data": {
      "text/plain": [
       "1.7142857142857142"
      ]
     },
     "execution_count": 15,
     "metadata": {},
     "output_type": "execute_result"
    }
   ],
   "source": [
    "np.mean(fvals)"
   ]
  },
  {
   "cell_type": "code",
   "execution_count": 16,
   "id": "63c14a9b",
   "metadata": {},
   "outputs": [
    {
     "data": {
      "text/plain": [
       "1.979486637221574"
      ]
     },
     "execution_count": 16,
     "metadata": {},
     "output_type": "execute_result"
    }
   ],
   "source": [
    "np.std(fvals)"
   ]
  },
  {
   "cell_type": "code",
   "execution_count": 17,
   "id": "e4c4baac",
   "metadata": {},
   "outputs": [
    {
     "data": {
      "text/plain": [
       "{'x=0 y=1 z=0': 0.123046875,\n",
       " 'x=1 y=1 z=0': 0.302734375,\n",
       " 'x=1 y=0 z=0': 0.0888671875,\n",
       " 'x=0 y=0 z=1': 0.22851562500000003,\n",
       " 'x=1 y=0 z=1': 0.12500000000000003,\n",
       " 'x=0 y=1 z=1': 0.025390624999999997,\n",
       " 'x=1 y=1 z=1': 0.10644531250000001}"
      ]
     },
     "execution_count": 17,
     "metadata": {},
     "output_type": "execute_result"
    }
   ],
   "source": [
    "samples_for_plot = {\n",
    "    \" \".join(\n",
    "        f\"{qaoa_result.variables[i].name}={int(v)}\" for i, v in enumerate(smpl.x)\n",
    "    ): smpl.probability\n",
    "    for smpl in filtered_samples\n",
    "}\n",
    "samples_for_plot"
   ]
  },
  {
   "cell_type": "code",
   "execution_count": 18,
   "id": "d101a797",
   "metadata": {},
   "outputs": [
    {
     "data": {
      "image/png": "[encoded data removed]",
      "text/plain": [
       "<Figure size 700x500 with 1 Axes>"
      ]
     },
     "execution_count": 18,
     "metadata": {},
     "output_type": "execute_result"
    }
   ],
   "source": [
    "plot_histogram(samples_for_plot)"
   ]
  },
  {
   "attachments": {},
   "cell_type": "markdown",
   "id": "08aa7318",
   "metadata": {},
   "source": [
    "### RecursiveMinimumEigenOptimizer"
   ]
  },
  {
   "cell_type": "code",
   "execution_count": 19,
   "id": "cca567a1",
   "metadata": {},
   "outputs": [],
   "source": [
    "rqaoa = RecursiveMinimumEigenOptimizer(\n",
    "    qaoa, min_num_vars=1, min_num_vars_optimizer=exact\n",
    ")"
   ]
  },
  {
   "cell_type": "code",
   "execution_count": 20,
   "id": "4eaa9994",
   "metadata": {},
   "outputs": [
    {
     "name": "stdout",
     "output_type": "stream",
     "text": [
      "fval=-2.0, x=0.0, y=1.0, z=0.0, status=SUCCESS\n"
     ]
    }
   ],
   "source": [
    "rqaoa_result = rqaoa.solve(qubo)\n",
    "print(rqaoa_result)"
   ]
  },
  {
   "cell_type": "code",
   "execution_count": 21,
   "id": "0772b179",
   "metadata": {},
   "outputs": [],
   "source": [
    "filtered_samples = get_filtered_samples(\n",
    "    rqaoa_result.samples,\n",
    "    threshold=0.005,\n",
    "    allowed_status=(OptimizationResultStatus.SUCCESS,),\n",
    ")"
   ]
  },
  {
   "cell_type": "code",
   "execution_count": 22,
   "id": "96a34ccb",
   "metadata": {},
   "outputs": [
    {
     "data": {
      "text/plain": [
       "{'x=0 y=1 z=0': 1.0}"
      ]
     },
     "execution_count": 22,
     "metadata": {},
     "output_type": "execute_result"
    }
   ],
   "source": [
    "samples_for_plot = {\n",
    "    \" \".join(\n",
    "        f\"{rqaoa_result.variables[i].name}={int(v)}\" for i, v in enumerate(s.x)\n",
    "    ): s.probability\n",
    "    for s in filtered_samples\n",
    "}\n",
    "samples_for_plot"
   ]
  },
  {
   "cell_type": "code",
   "execution_count": 23,
   "id": "d3a65a6b",
   "metadata": {},
   "outputs": [
    {
     "data": {
      "image/png": "[encoded data removed]",
      "text/plain": [
       "<Figure size 700x500 with 1 Axes>"
      ]
     },
     "execution_count": 23,
     "metadata": {},
     "output_type": "execute_result"
    }
   ],
   "source": [
    "plot_histogram(samples_for_plot)"
   ]
  },
  {
   "cell_type": "code",
   "execution_count": null,
   "id": "672737ce",
   "metadata": {},
   "outputs": [],
   "source": []
  }
 ],
 "metadata": {
  "kernelspec": {
   "display_name": "Python 3 (ipykernel)",
   "language": "python",
   "name": "python3"
  },
  "language_info": {
   "codemirror_mode": {
    "name": "ipython",
    "version": 3
   },
   "file_extension": ".py",
   "mimetype": "text/x-python",
   "name": "python",
   "nbconvert_exporter": "python",
   "pygments_lexer": "ipython3",
   "version": "3.8.10"
  }
 },
 "nbformat": 4,
 "nbformat_minor": 5
}
