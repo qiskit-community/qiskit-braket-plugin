{
 "cells": [
  {
   "cell_type": "markdown",
   "id": "7f19aecc",
   "metadata": {},
   "source": [
    "# Tutorial: Runing VQE on Braket backend"
   ]
  },
  {
   "cell_type": "code",
   "execution_count": 3,
   "id": "ebac1b5c",
   "metadata": {},
   "outputs": [],
   "source": [
    "from qiskit.algorithms.minimum_eigensolvers import VQE\n",
    "from qiskit.quantum_info import SparsePauliOp\n",
    "from qiskit.algorithms.optimizers import SLSQP\n",
    "from qiskit.circuit.library import TwoLocal\n",
    "from qiskit.utils import algorithm_globals\n",
    "from qiskit.primitives import BackendEstimator\n",
    "\n",
    "from qiskit_braket_provider import AWSBraketProvider, BraketLocalBackend\n",
    "\n",
    "seed = 50\n",
    "algorithm_globals.random_seed = seed"
   ]
  },
  {
   "cell_type": "markdown",
   "id": "ec9353f3",
   "metadata": {},
   "source": [
    "Get backend to run VQE with"
   ]
  },
  {
   "cell_type": "code",
   "execution_count": 2,
   "id": "e94c63b1",
   "metadata": {},
   "outputs": [
    {
     "data": {
      "text/plain": [
       "BraketBackend[default]"
      ]
     },
     "execution_count": 2,
     "metadata": {},
     "output_type": "execute_result"
    }
   ],
   "source": [
    "provider = AWSBraketProvider()\n",
    "local_simulator = BraketLocalBackend()\n",
    "local_simulator"
   ]
  },
  {
   "cell_type": "code",
   "execution_count": 4,
   "id": "b618fa9e",
   "metadata": {},
   "outputs": [
    {
     "data": {
      "text/plain": [
       "BraketBackend[SV1]"
      ]
     },
     "execution_count": 4,
     "metadata": {},
     "output_type": "execute_result"
    }
   ],
   "source": [
    "state_vector_simulator_backend = provider.get_backend(\"SV1\")\n",
    "state_vector_simulator_backend"
   ]
  },
  {
   "cell_type": "markdown",
   "id": "140737fe",
   "metadata": {},
   "source": [
    "Running VQE\n",
    "\n",
    "\n",
    "\n",
    "More docs on VQE and algorithms https://qiskit.org/documentation/tutorials/algorithms/01_algorithms_introduction.html#A-complete-working-example"
   ]
  },
  {
   "cell_type": "code",
   "execution_count": 5,
   "id": "9081f3b3",
   "metadata": {},
   "outputs": [
    {
     "name": "stdout",
     "output_type": "stream",
     "text": [
      "{   'aux_operators_evaluated': None,\n",
      "    'cost_function_evals': 9,\n",
      "    'eigenvalue': -1.0778032163726936,\n",
      "    'optimal_circuit': <qiskit.circuit.library.n_local.two_local.TwoLocal object at 0x13801f5d0>,\n",
      "    'optimal_parameters': {   ParameterVectorElement(θ[0]): 3.611860069224077,\n",
      "                              ParameterVectorElement(θ[1]): 4.19301252102391,\n",
      "                              ParameterVectorElement(θ[2]): 0.6019852007557844,\n",
      "                              ParameterVectorElement(θ[3]): 5.949536809130025,\n",
      "                              ParameterVectorElement(θ[4]): -3.3070470445355764,\n",
      "                              ParameterVectorElement(θ[5]): 1.8462931831829383,\n",
      "                              ParameterVectorElement(θ[6]): -5.466043598406607,\n",
      "                              ParameterVectorElement(θ[7]): 0.6984088030463615},\n",
      "    'optimal_point': array([ 3.61186007,  4.19301252,  0.6019852 ,  5.94953681, -3.30704704,\n",
      "        1.84629318, -5.4660436 ,  0.6984088 ]),\n",
      "    'optimal_value': -1.0778032163726936,\n",
      "    'optimizer_evals': None,\n",
      "    'optimizer_result': <qiskit.algorithms.optimizers.optimizer.OptimizerResult object at 0x138be0fd0>,\n",
      "    'optimizer_time': 4.060570001602173}\n"
     ]
    }
   ],
   "source": [
    "H2_op = SparsePauliOp(\n",
    "    [\"II\", \"IZ\", \"ZI\", \"ZZ\", \"XX\"],\n",
    "    coeffs=[\n",
    "        -1.052373245772859,\n",
    "        0.39793742484318045,\n",
    "        -0.39793742484318045,\n",
    "        -0.01128010425623538,\n",
    "        0.18093119978423156,\n",
    "    ],\n",
    ")\n",
    "\n",
    "estimator = BackendEstimator(\n",
    "    local_simulator,\n",
    "    options={\"seed_transpiler\": seed, \"seed_simulator\": seed},\n",
    "    skip_transpilation=False,\n",
    ")\n",
    "ansatz = TwoLocal(rotation_blocks=\"ry\", entanglement_blocks=\"cz\")\n",
    "slsqp = SLSQP(maxiter=1)\n",
    "\n",
    "vqe = VQE(estimator=estimator, ansatz=ansatz, optimizer=slsqp)\n",
    "\n",
    "result = vqe.compute_minimum_eigenvalue(H2_op)\n",
    "print(result)"
   ]
  }
 ],
 "metadata": {
  "kernelspec": {
   "display_name": "Python 3 (ipykernel)",
   "language": "python",
   "name": "python3"
  },
  "language_info": {
   "codemirror_mode": {
    "name": "ipython",
    "version": 3
   },
   "file_extension": ".py",
   "mimetype": "text/x-python",
   "name": "python",
   "nbconvert_exporter": "python",
   "pygments_lexer": "ipython3",
   "version": "3.11.4"
  }
 },
 "nbformat": 4,
 "nbformat_minor": 5
}
