{
 "cells": [
  {
   "attachments": {},
   "cell_type": "markdown",
   "id": "dfb19657",
   "metadata": {
    "slideshow": {
     "slide_type": "slide"
    }
   },
   "source": [
    "# Getting started with the Qiskit-Braket provider"
   ]
  },
  {
   "attachments": {},
   "cell_type": "markdown",
   "id": "a95fc7c5",
   "metadata": {
    "slideshow": {
     "slide_type": "slide"
    }
   },
   "source": [
    "### Qiskit to Braket mapping"
   ]
  },
  {
   "attachments": {},
   "cell_type": "markdown",
   "id": "447c275b",
   "metadata": {
    "slideshow": {
     "slide_type": "-"
    }
   },
   "source": [
    "![qiskit-to-braket-diagram](./data/qiskit-braket-mapping.png)"
   ]
  },
  {
   "attachments": {},
   "cell_type": "markdown",
   "id": "04160f91",
   "metadata": {},
   "source": [
    "We first start by importing all required classes and functions for this notebook. We also start the cost tracker to print the costs at the end of this notebook."
   ]
  },
  {
   "cell_type": "code",
   "execution_count": 1,
   "id": "445cc5d9",
   "metadata": {},
   "outputs": [],
   "source": [
    "from qiskit import QuantumCircuit\n",
    "from qiskit.circuit.random import random_circuit\n",
    "from qiskit.visualization import plot_histogram\n",
    "\n",
    "from braket.tracking import Tracker\n",
    "\n",
    "from qiskit_braket_provider import AWSBraketProvider, BraketLocalBackend, to_braket\n",
    "\n",
    "# Use Braket SDK Cost Tracking to estimate the cost to run this example\n",
    "t = Tracker().start()"
   ]
  },
  {
   "attachments": {},
   "cell_type": "markdown",
   "id": "6fea9c62",
   "metadata": {
    "slideshow": {
     "slide_type": "slide"
    }
   },
   "source": [
    "### Access Braket devices from Qiskit \n",
    "\n",
    "`AWSBraketProvider` class gives you a method `backends` to access backends that are available through Braket SDK."
   ]
  },
  {
   "attachments": {},
   "cell_type": "markdown",
   "id": "a59c288b",
   "metadata": {},
   "source": [
    "Let's get available devices to use by Qiskit"
   ]
  },
  {
   "cell_type": "code",
   "execution_count": 3,
   "id": "2b47da63",
   "metadata": {
    "slideshow": {
     "slide_type": "-"
    }
   },
   "outputs": [
    {
     "name": "stdout",
     "output_type": "stream",
     "text": [
      "[BraketBackend[Aria 1], BraketBackend[Aria 2], BraketBackend[Aspen-M-3], BraketBackend[Forte 1], BraketBackend[Harmony], BraketBackend[Lucy], BraketBackend[SV1], BraketBackend[TN1], BraketBackend[dm1]]\n"
     ]
    }
   ],
   "source": [
    "provider = AWSBraketProvider()\n",
    "print(provider.backends())"
   ]
  },
  {
   "attachments": {},
   "cell_type": "markdown",
   "id": "cf366038",
   "metadata": {},
   "source": [
    "If you want to explore what is available by specific contraints, you can specify query arguments to `backends` method of provider.\n",
    "Arguments are fully compatible with Braket's `get_device` method. See the documentation at [braket.aws.aws_device.AwsDevice.get_devices](https://amazon-braket-sdk-python.readthedocs.io/en/stable/_apidoc/braket.aws.aws_device.html#braket.aws.aws_device.AwsDevice.get_devices). For example, you can retrieve the list of online simulator via:"
   ]
  },
  {
   "cell_type": "code",
   "execution_count": 4,
   "id": "e182e1a4",
   "metadata": {},
   "outputs": [
    {
     "data": {
      "text/plain": [
       "[BraketBackend[SV1], BraketBackend[TN1], BraketBackend[dm1]]"
      ]
     },
     "execution_count": 4,
     "metadata": {},
     "output_type": "execute_result"
    }
   ],
   "source": [
    "online_simulators_backends = provider.backends(statuses=[\"ONLINE\"], types=[\"SIMULATOR\"])\n",
    "online_simulators_backends"
   ]
  },
  {
   "attachments": {},
   "cell_type": "markdown",
   "id": "edbae0ee",
   "metadata": {},
   "source": [
    "For prototyping it is usually a good practice to use simulators \n",
    "to set up workflow of your program and then change it to real device.\n",
    "We can access local simulator by creating instance of class `BraketLocalBackend`"
   ]
  },
  {
   "cell_type": "code",
   "execution_count": 5,
   "id": "2517f020",
   "metadata": {
    "slideshow": {
     "slide_type": "slide"
    }
   },
   "outputs": [
    {
     "data": {
      "text/plain": [
       "BraketBackend[default]"
      ]
     },
     "execution_count": 5,
     "metadata": {},
     "output_type": "execute_result"
    }
   ],
   "source": [
    "local_simulator = BraketLocalBackend()\n",
    "local_simulator"
   ]
  },
  {
   "attachments": {},
   "cell_type": "markdown",
   "id": "390c3a64",
   "metadata": {},
   "source": [
    "Any backend can be instantiated via the `get_backend` methods of the provider. Here is an example where we create a Backend object for the IonQ `Aria 1` device."
   ]
  },
  {
   "cell_type": "code",
   "execution_count": 6,
   "id": "64a9cb24",
   "metadata": {},
   "outputs": [],
   "source": [
    "Aria_1 = provider.get_backend(\"Aria 1\")"
   ]
  },
  {
   "attachments": {},
   "cell_type": "markdown",
   "id": "e91eeeee",
   "metadata": {
    "slideshow": {
     "slide_type": "slide"
    }
   },
   "source": [
    "### Running circuits on AWS devices\n",
    "\n"
   ]
  },
  {
   "attachments": {},
   "cell_type": "markdown",
   "id": "137ae345",
   "metadata": {},
   "source": [
    "Let's first create Qiskit circuit. We will start with a Bell circuit."
   ]
  },
  {
   "cell_type": "code",
   "execution_count": 7,
   "id": "22d4a07a",
   "metadata": {},
   "outputs": [
    {
     "data": {
      "text/html": [
       "<pre style=\"word-wrap: normal;white-space: pre;background: #fff0;line-height: 1.1;font-family: &quot;Courier New&quot;,Courier,monospace\">     ┌───┐     \n",
       "q_0: ┤ H ├──■──\n",
       "     └───┘┌─┴─┐\n",
       "q_1: ─────┤ X ├\n",
       "          └───┘</pre>"
      ],
      "text/plain": [
       "     ┌───┐     \n",
       "q_0: ┤ H ├──■──\n",
       "     └───┘┌─┴─┐\n",
       "q_1: ─────┤ X ├\n",
       "          └───┘"
      ]
     },
     "execution_count": 7,
     "metadata": {},
     "output_type": "execute_result"
    }
   ],
   "source": [
    "qc = QuantumCircuit(2)\n",
    "qc.h(0)\n",
    "qc.cx(0, 1)\n",
    "qc.draw()"
   ]
  },
  {
   "attachments": {},
   "cell_type": "markdown",
   "id": "512cfd00",
   "metadata": {},
   "source": [
    "This circuit can be used to submit a task to the local simulator. In the [tutorials](https://github.com/qiskit-community/qiskit-braket-provider/tree/main/docs/tutorials) associated to the Qiskit-Braket provider, we will use the Braket taxonomy:\n",
    "- a task is the atomic request to a device or a simulator. \n",
    "- an hybrid job is a mean to run hybrid quantum-classical algorithms requiring both classical AWS resources and quantum processing units (QPUs). See [What is a Hybrid Job](https://docs.aws.amazon.com/braket/latest/developerguide/braket-what-is-hybrid-job.html) for more details.\n",
    "\n",
    "Here, quantum tasks are analogous to Qiskit jobs, which is why tasks have a `job_id` property. If a task has been submitted to Braket managed device, `job_id` will return a Task ARN (Amazon Resource number) which identifies the task and allows to retrieve it in the Braket Console and in your notebooks. "
   ]
  },
  {
   "cell_type": "code",
   "execution_count": 8,
   "id": "d00d454c",
   "metadata": {},
   "outputs": [],
   "source": [
    "task = local_simulator.run(qc, shots=10)"
   ]
  },
  {
   "cell_type": "code",
   "execution_count": 9,
   "id": "c78fa994",
   "metadata": {},
   "outputs": [
    {
     "data": {
      "text/plain": [
       "Result(backend_name='BraketBackend[default]', backend_version='2', qobj_id='0', job_id='d6460578-7331-426f-a33e-58ec6ce49c7a', success=True, results=[ExperimentResult(shots=10, success=True, meas_level=2, data=ExperimentResultData(counts={'00': 7, '11': 3}, memory=['00', '00', '11', '00', '11', '11', '00', '00', '00', '00']), status=COMPLETED)], date=None, status=JobStatus.DONE, header=None)"
      ]
     },
     "execution_count": 9,
     "metadata": {},
     "output_type": "execute_result"
    }
   ],
   "source": [
    "task.result()"
   ]
  },
  {
   "cell_type": "markdown",
   "id": "0d22adcd",
   "metadata": {},
   "source": [
    "Results are returned via a `Result` object, from which you can extract counts and plot them in a histogram."
   ]
  },
  {
   "cell_type": "code",
   "execution_count": 10,
   "id": "b653ca31",
   "metadata": {},
   "outputs": [
    {
     "data": {
      "image/png": "[encoded data removed]",
      "text/plain": [
       "<Figure size 504x360 with 1 Axes>"
      ]
     },
     "execution_count": 10,
     "metadata": {},
     "output_type": "execute_result"
    }
   ],
   "source": [
    "results = task.result()\n",
    "plot_histogram(results.get_counts())"
   ]
  },
  {
   "attachments": {},
   "cell_type": "markdown",
   "id": "43128a91",
   "metadata": {},
   "source": [
    "Each single shot measurements are also retrievable."
   ]
  },
  {
   "cell_type": "code",
   "execution_count": 11,
   "id": "91adc995",
   "metadata": {},
   "outputs": [
    {
     "data": {
      "text/plain": [
       "['00', '00', '11', '00', '11', '11', '00', '00', '00', '00']"
      ]
     },
     "execution_count": 11,
     "metadata": {},
     "output_type": "execute_result"
    }
   ],
   "source": [
    "results.get_memory()"
   ]
  },
  {
   "attachments": {},
   "cell_type": "markdown",
   "id": "d48764e8",
   "metadata": {},
   "source": [
    "More complex circuits on devices can be submitted to the Braket devices and simulators. Behind the scenes, the qiskit transpiler will adapt the circuits such that they are executable on all devices. In the following, we will focus on running circuit in the IonQ Aria-1 device. \n",
    "\n",
    "We will start with generating random circuit and printing it out."
   ]
  },
  {
   "cell_type": "code",
   "execution_count": 12,
   "id": "2d278880",
   "metadata": {},
   "outputs": [
    {
     "data": {
      "text/html": [
       "<pre style=\"word-wrap: normal;white-space: pre;background: #fff0;line-height: 1.1;font-family: &quot;Courier New&quot;,Courier,monospace\">                          ┌───────────────────────┐    ┌───┐                  ┌────────────┐     \n",
       "q_0: ─────────────────────┤0                      ├────┤ H ├───────■──────■───┤ Rz(2.9325) ├─────\n",
       "     ┌───────────────────┐│                       │    └─┬─┘     ┌─┴──┐   │   ├────────────┤┌───┐\n",
       "q_1: ┤ R(4.3817,0.59173) ├┤                       ├──────■───────┤ Sx ├───┼───┤ Ry(2.2276) ├┤ X ├\n",
       "     └───┬───────────┬───┘│  (XX+YY)(6.13,4.7824) │              ├───┬┘ ┌─┴─┐ └────────────┘└─┬─┘\n",
       "q_2: ────┤ Ry(4.939) ├────┤                       ├──────■───────┤ H ├──┤ Y ├─────────────────■──\n",
       "         └───────────┘    │                       │┌─────┴──────┐└─┬─┘ ┌┴───┴┐                │  \n",
       "q_3: ─────────────────────┤1                      ├┤ Ry(4.0455) ├──■───┤ Tdg ├────────────────■──\n",
       "                          └───────────────────────┘└────────────┘      └─────┘                   </pre>"
      ],
      "text/plain": [
       "                          ┌───────────────────────┐    ┌───┐                  ┌────────────┐     \n",
       "q_0: ─────────────────────┤0                      ├────┤ H ├───────■──────■───┤ Rz(2.9325) ├─────\n",
       "     ┌───────────────────┐│                       │    └─┬─┘     ┌─┴──┐   │   ├────────────┤┌───┐\n",
       "q_1: ┤ R(4.3817,0.59173) ├┤                       ├──────■───────┤ Sx ├───┼───┤ Ry(2.2276) ├┤ X ├\n",
       "     └───┬───────────┬───┘│  (XX+YY)(6.13,4.7824) │              ├───┬┘ ┌─┴─┐ └────────────┘└─┬─┘\n",
       "q_2: ────┤ Ry(4.939) ├────┤                       ├──────■───────┤ H ├──┤ Y ├─────────────────■──\n",
       "         └───────────┘    │                       │┌─────┴──────┐└─┬─┘ ┌┴───┴┐                │  \n",
       "q_3: ─────────────────────┤1                      ├┤ Ry(4.0455) ├──■───┤ Tdg ├────────────────■──\n",
       "                          └───────────────────────┘└────────────┘      └─────┘                   "
      ]
     },
     "execution_count": 12,
     "metadata": {},
     "output_type": "execute_result"
    }
   ],
   "source": [
    "qiskit_random_circuit = random_circuit(4, 5, seed=42)\n",
    "qiskit_random_circuit.draw(fold=-1)"
   ]
  },
  {
   "attachments": {},
   "cell_type": "markdown",
   "id": "d9d69137",
   "metadata": {},
   "source": [
    "Each device has a set of supported operations which are accessible via the backend."
   ]
  },
  {
   "cell_type": "code",
   "execution_count": 13,
   "id": "fd631f39",
   "metadata": {},
   "outputs": [
    {
     "name": "stdout",
     "output_type": "stream",
     "text": [
      "{'x', 't', 'h', 'ry', 's', 'sx', 'rz', 'ryy', 'y', 'rzz', 'rxx', 'rx', 'sxdg', 'sdg', 'cx', 'swap', 'z', 'tdg'}\n"
     ]
    }
   ],
   "source": [
    "aria_supported_gates = Aria_1._get_gateset()\n",
    "print(aria_supported_gates)"
   ]
  },
  {
   "cell_type": "code",
   "execution_count": 14,
   "id": "51e60f77",
   "metadata": {
    "slideshow": {
     "slide_type": "slide"
    }
   },
   "outputs": [
    {
     "name": "stdout",
     "output_type": "stream",
     "text": [
      "T  : |    0    |1|   2    | 3 |    4    |5|    6    |    7    |   8    |   9    |10|   11    |12|13|14|   15   |16|   17    |18|   19   |20|    21    |   22   |23|24|25|26|27|28|29|30|31|32|\n",
      "                                                                                                                                                                                              \n",
      "q0 : -Rz(4.78)--S------------X-Ry(-3.07)-X-Si--------Rz(-4.78)-S--------H--------T--X---------Ti-H--Si-Rz(0.79)-C------------C-----------------------C-Rz(2.93)-------------------------------\n",
      "                             |           |                                          |                           |            |                       |                                        \n",
      "q1 : -Rz(0.98)--V-Rz(7.52)-V-|-Rz(8.45)--|------------------------------------------C---------H-----------------X--Rz(-0.79)-X--Rz(0.79)-H--Ry(2.23)-|-H--------X--Ti-X--T--X--Ti-X--T--H-----\n",
      "                             |           |                                                                                                           |          |     |     |     |           \n",
      "q2 : -Ry(4.94)---------------|-----------|---------------------------------------C------------C--S--H--T--------X--Ti--------H--Si-------Si----------X-S--------|-----C-----|-----C--C--T--C--\n",
      "                             |           |                                       |            |                 |                                               |           |        |     |  \n",
      "q3 : -Rz(-1.57)-V-Rz(1.57)---C-Ry(-3.07)-C-Rz(-1.57)-Vi--------Rz(1.57)-Ry(2.02)-X--Ry(-2.02)-X-----------------C--Ti-------------------------------------------C-----------C--T-----X--Ti-X--\n",
      "\n",
      "T  : |    0    |1|   2    | 3 |    4    |5|    6    |    7    |   8    |   9    |10|   11    |12|13|14|   15   |16|   17    |18|   19   |20|    21    |   22   |23|24|25|26|27|28|29|30|31|32|\n"
     ]
    }
   ],
   "source": [
    "braket_random_circuit = to_braket(\n",
    "    qiskit_random_circuit, basis_gates=aria_supported_gates\n",
    ")\n",
    "print(braket_random_circuit)"
   ]
  },
  {
   "attachments": {},
   "cell_type": "markdown",
   "id": "c698ffb1",
   "metadata": {},
   "source": [
    "We printed the Braket Circuit object that will be used to create the quantum task on the Aria-1 device. To submit the task, you do not have to create a Braket circuit, this is done internal when you submit the Qiskit circuit to the Backend."
   ]
  },
  {
   "cell_type": "code",
   "execution_count": 15,
   "id": "dfad043a",
   "metadata": {
    "slideshow": {
     "slide_type": "slide"
    }
   },
   "outputs": [],
   "source": [
    "aria_task = Aria_1.run(qiskit_random_circuit, shots=10)"
   ]
  },
  {
   "attachments": {},
   "cell_type": "markdown",
   "id": "1c129b43",
   "metadata": {},
   "source": [
    "If we do not want to wait for the task completion and return to it later, we can use `retrieve_job` method on device to get job object. For this, you will need to know the job_id (which is the task ARN that identifies the task in the AWS cloud)."
   ]
  },
  {
   "cell_type": "code",
   "execution_count": 16,
   "id": "34787aad",
   "metadata": {},
   "outputs": [],
   "source": [
    "task_arn = aria_task.job_id()\n",
    "retrieved_task = Aria_1.retrieve_job(task_id=task_arn)"
   ]
  },
  {
   "attachments": {},
   "cell_type": "markdown",
   "id": "d28a2001",
   "metadata": {},
   "source": [
    "From the task, you can check its status: "
   ]
  },
  {
   "cell_type": "code",
   "execution_count": 17,
   "id": "764d4828",
   "metadata": {},
   "outputs": [
    {
     "data": {
      "text/plain": [
       "<JobStatus.QUEUED: 'job is queued'>"
      ]
     },
     "execution_count": 17,
     "metadata": {},
     "output_type": "execute_result"
    }
   ],
   "source": [
    "retrieved_task.status()"
   ]
  },
  {
   "attachments": {},
   "cell_type": "markdown",
   "id": "6ce860f0",
   "metadata": {},
   "source": [
    "And get the results as done previously: "
   ]
  },
  {
   "cell_type": "code",
   "execution_count": 18,
   "id": "4a8a8760",
   "metadata": {},
   "outputs": [
    {
     "data": {
      "image/png": "[encoded data removed]",
      "text/plain": [
       "<Figure size 504x360 with 1 Axes>"
      ]
     },
     "execution_count": 18,
     "metadata": {},
     "output_type": "execute_result"
    }
   ],
   "source": [
    "random_circuit_results = retrieved_task.result()\n",
    "plot_histogram(random_circuit_results.get_counts())"
   ]
  },
  {
   "cell_type": "code",
   "execution_count": 19,
   "id": "a16ab026",
   "metadata": {},
   "outputs": [
    {
     "name": "stdout",
     "output_type": "stream",
     "text": [
      "Quantum Task Summary\n",
      "{'arn:aws:braket:us-east-1::device/qpu/ionq/Aria-1': {'shots': 10, 'tasks': {'COMPLETED': 1}}}\n",
      "Note: Charges shown are estimates based on your Amazon Braket simulator and quantum processing unit (QPU) task usage. Estimated charges shown may differ from your actual charges. Estimated charges do not factor in any discounts or credits, and you may experience additional charges based on your use of other services such as Amazon Elastic Compute Cloud (Amazon EC2).\n",
      "Estimated cost to run this example: 0.600 USD\n"
     ]
    }
   ],
   "source": [
    "print(\"Quantum Task Summary\")\n",
    "print(t.quantum_tasks_statistics())\n",
    "print(\n",
    "    \"Note: Charges shown are estimates based on your Amazon Braket simulator and quantum processing \"\n",
    "    \"unit (QPU) task usage. Estimated charges shown may differ from your actual charges. Estimated \"\n",
    "    \"charges do not factor in any discounts or credits, and you may experience additional charges \"\n",
    "    \"based on your use of other services such as Amazon Elastic Compute Cloud (Amazon EC2).\"\n",
    ")\n",
    "print(\n",
    "    f\"Estimated cost to run this example: {t.qpu_tasks_cost() + t.simulator_tasks_cost():.3f} USD\"\n",
    ")"
   ]
  }
 ],
 "metadata": {
  "kernelspec": {
   "display_name": "Python 3 (ipykernel)",
   "language": "python",
   "name": "python3"
  },
  "language_info": {
   "codemirror_mode": {
    "name": "ipython",
    "version": 3
   },
   "file_extension": ".py",
   "mimetype": "text/x-python",
   "name": "python",
   "nbconvert_exporter": "python",
   "pygments_lexer": "ipython3",
   "version": "3.9.18"
  }
 },
 "nbformat": 4,
 "nbformat_minor": 5
}
