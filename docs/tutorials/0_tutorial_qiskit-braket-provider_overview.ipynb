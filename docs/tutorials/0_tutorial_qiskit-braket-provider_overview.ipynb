{
 "cells": [
  {
   "attachments": {},
   "cell_type": "markdown",
   "id": "dfb19657",
   "metadata": {
    "slideshow": {
     "slide_type": "slide"
    }
   },
   "source": [
    "# Tutorial: Qiskit-Braket provider overview"
   ]
  },
  {
   "attachments": {},
   "cell_type": "markdown",
   "id": "a95fc7c5",
   "metadata": {
    "slideshow": {
     "slide_type": "slide"
    }
   },
   "source": [
    "### Qiskit to Braket mapping"
   ]
  },
  {
   "attachments": {},
   "cell_type": "markdown",
   "id": "447c275b",
   "metadata": {
    "slideshow": {
     "slide_type": "-"
    }
   },
   "source": [
    "![qiskit-to-braket-diagram](./data/qiskit-braket-mapping.png)"
   ]
  },
  {
   "cell_type": "code",
   "execution_count": 1,
   "id": "8ab8a5f0",
   "metadata": {},
   "outputs": [],
   "source": [
    "# pip install qiskit_braket_provider"
   ]
  },
  {
   "attachments": {},
   "cell_type": "markdown",
   "id": "04160f91",
   "metadata": {},
   "source": [
    "---------------\n",
    "\n",
    "Import all required classes and functions for this overview"
   ]
  },
  {
   "cell_type": "code",
   "execution_count": 2,
   "id": "5339c690",
   "metadata": {},
   "outputs": [],
   "source": [
    "from qiskit.algorithms.minimum_eigensolvers import VQE\n",
    "from qiskit.quantum_info import SparsePauliOp\n",
    "from qiskit import transpile, QuantumCircuit\n",
    "from qiskit.circuit.random import random_circuit\n",
    "from qiskit.visualization import plot_histogram\n",
    "from qiskit.algorithms.optimizers import SLSQP\n",
    "from qiskit.circuit.library import TwoLocal\n",
    "from qiskit.primitives import BackendEstimator\n",
    "\n",
    "from braket.aws import AwsQuantumJob\n",
    "\n",
    "from qiskit_braket_provider import AWSBraketProvider, BraketLocalBackend"
   ]
  },
  {
   "attachments": {},
   "cell_type": "markdown",
   "id": "6fea9c62",
   "metadata": {
    "slideshow": {
     "slide_type": "slide"
    }
   },
   "source": [
    "### Access Braket devices from Qiskit \n",
    "\n",
    "`AWSBraketProvider` class gives you a method `backends` to access backends that are available through Braket SDK."
   ]
  },
  {
   "attachments": {},
   "cell_type": "markdown",
   "id": "a59c288b",
   "metadata": {},
   "source": [
    "Let's get available devices to use by Qiskit"
   ]
  },
  {
   "cell_type": "code",
   "execution_count": 3,
   "id": "2b47da63",
   "metadata": {
    "slideshow": {
     "slide_type": "-"
    }
   },
   "outputs": [
    {
     "data": {
      "text/plain": [
       "[BraketBackend[Aria 1],\n",
       " BraketBackend[Aspen-10],\n",
       " BraketBackend[Aspen-11],\n",
       " BraketBackend[Aspen-8],\n",
       " BraketBackend[Aspen-9],\n",
       " BraketBackend[Aspen-M-1],\n",
       " BraketBackend[Aspen-M-2],\n",
       " BraketBackend[Aspen-M-3],\n",
       " BraketBackend[Harmony],\n",
       " BraketBackend[Lucy],\n",
       " BraketBackend[SV1],\n",
       " BraketBackend[TN1],\n",
       " BraketBackend[dm1]]"
      ]
     },
     "execution_count": 3,
     "metadata": {},
     "output_type": "execute_result"
    }
   ],
   "source": [
    "provider = AWSBraketProvider()\n",
    "backends = provider.backends()\n",
    "backends"
   ]
  },
  {
   "attachments": {},
   "cell_type": "markdown",
   "id": "edbae0ee",
   "metadata": {},
   "source": [
    "For prototyping it is usually a good practice to use simulators \n",
    "to set up workflow of your program and then change it to real device.\n",
    "We can access local simulator by creating instance of class `BraketLocalBackend`"
   ]
  },
  {
   "cell_type": "code",
   "execution_count": 4,
   "id": "2517f020",
   "metadata": {
    "slideshow": {
     "slide_type": "slide"
    }
   },
   "outputs": [
    {
     "data": {
      "text/plain": [
       "BraketBackend[default]"
      ]
     },
     "execution_count": 4,
     "metadata": {},
     "output_type": "execute_result"
    }
   ],
   "source": [
    "local_simulator = BraketLocalBackend()\n",
    "local_simulator"
   ]
  },
  {
   "attachments": {},
   "cell_type": "markdown",
   "id": "390c3a64",
   "metadata": {},
   "source": [
    "We also get get cloud state vector simulator by using method `get_backend` for provider."
   ]
  },
  {
   "cell_type": "code",
   "execution_count": 5,
   "id": "ad2b852f",
   "metadata": {},
   "outputs": [
    {
     "data": {
      "text/plain": [
       "BraketBackend[SV1]"
      ]
     },
     "execution_count": 5,
     "metadata": {},
     "output_type": "execute_result"
    }
   ],
   "source": [
    "aws_statevector_simulator = provider.get_backend(\"SV1\")\n",
    "aws_statevector_simulator"
   ]
  },
  {
   "attachments": {},
   "cell_type": "markdown",
   "id": "e13d6409",
   "metadata": {},
   "source": [
    "Of course we can query for specific real devices "
   ]
  },
  {
   "cell_type": "code",
   "execution_count": 6,
   "id": "64a9cb24",
   "metadata": {},
   "outputs": [
    {
     "data": {
      "text/plain": [
       "(BraketBackend[Harmony], BraketBackend[Aspen-M-1])"
      ]
     },
     "execution_count": 6,
     "metadata": {},
     "output_type": "execute_result"
    }
   ],
   "source": [
    "ionq_device = provider.get_backend(\"Harmony\")\n",
    "rigetti_device = provider.get_backend(\"Aspen-M-1\")\n",
    "\n",
    "ionq_device, rigetti_device"
   ]
  },
  {
   "attachments": {},
   "cell_type": "markdown",
   "id": "cf366038",
   "metadata": {},
   "source": [
    "And if you want to explore what is available by specific contraints, \n",
    "you can specify query arguments to `backends` method of provider.\n",
    "Arguments are fully compatible with Braket's `get_device` method. See full doc [here](https://amazon-braket-sdk-python.readthedocs.io/en/stable/_apidoc/braket.aws.aws_device.html#braket.aws.aws_device.AwsDevice.get_devices)."
   ]
  },
  {
   "cell_type": "code",
   "execution_count": 7,
   "id": "e182e1a4",
   "metadata": {},
   "outputs": [
    {
     "data": {
      "text/plain": [
       "[BraketBackend[SV1], BraketBackend[TN1], BraketBackend[dm1]]"
      ]
     },
     "execution_count": 7,
     "metadata": {},
     "output_type": "execute_result"
    }
   ],
   "source": [
    "online_simulators_backends = provider.backends(statuses=[\"ONLINE\"], types=[\"SIMULATOR\"])\n",
    "online_simulators_backends"
   ]
  },
  {
   "attachments": {},
   "cell_type": "markdown",
   "id": "e91eeeee",
   "metadata": {
    "slideshow": {
     "slide_type": "slide"
    }
   },
   "source": [
    "### Running circuits on AWS devices\n",
    "\n"
   ]
  },
  {
   "attachments": {},
   "cell_type": "markdown",
   "id": "137ae345",
   "metadata": {},
   "source": [
    "Let's create circuit first. We will start with \"Hello World\" example :)"
   ]
  },
  {
   "cell_type": "code",
   "execution_count": 8,
   "id": "22d4a07a",
   "metadata": {},
   "outputs": [
    {
     "data": {
      "text/html": [
       "<pre style=\"word-wrap: normal;white-space: pre;background: #fff0;line-height: 1.1;font-family: &quot;Courier New&quot;,Courier,monospace\">     ┌───┐     \n",
       "q_0: ┤ H ├──■──\n",
       "     └───┘┌─┴─┐\n",
       "q_1: ─────┤ X ├\n",
       "          └───┘</pre>"
      ],
      "text/plain": [
       "     ┌───┐     \n",
       "q_0: ┤ H ├──■──\n",
       "     └───┘┌─┴─┐\n",
       "q_1: ─────┤ X ├\n",
       "          └───┘"
      ]
     },
     "execution_count": 8,
     "metadata": {},
     "output_type": "execute_result"
    }
   ],
   "source": [
    "qc = QuantumCircuit(2)\n",
    "qc.h(0)\n",
    "qc.cx(0, 1)\n",
    "qc.draw()"
   ]
  },
  {
   "attachments": {},
   "cell_type": "markdown",
   "id": "512cfd00",
   "metadata": {},
   "source": [
    "Run job agains selected device"
   ]
  },
  {
   "cell_type": "code",
   "execution_count": 9,
   "id": "d00d454c",
   "metadata": {},
   "outputs": [
    {
     "data": {
      "text/plain": [
       "<qiskit_braket_provider.providers.braket_job.AmazonBraketTask at 0x138166410>"
      ]
     },
     "execution_count": 9,
     "metadata": {},
     "output_type": "execute_result"
    }
   ],
   "source": [
    "job = aws_statevector_simulator.run(qc, shots=10)\n",
    "job"
   ]
  },
  {
   "attachments": {},
   "cell_type": "markdown",
   "id": "851eab0e",
   "metadata": {},
   "source": [
    "Plot histogram"
   ]
  },
  {
   "cell_type": "code",
   "execution_count": 10,
   "id": "b653ca31",
   "metadata": {},
   "outputs": [
    {
     "data": {
      "image/png": "[encoded data removed]",
      "text/plain": [
       "<Figure size 700x500 with 1 Axes>"
      ]
     },
     "execution_count": 10,
     "metadata": {},
     "output_type": "execute_result"
    }
   ],
   "source": [
    "plot_histogram(job.result().get_counts())"
   ]
  },
  {
   "attachments": {},
   "cell_type": "markdown",
   "id": "43128a91",
   "metadata": {},
   "source": [
    "Retrieve the measured state of each single shot."
   ]
  },
  {
   "cell_type": "code",
   "execution_count": 11,
   "id": "91adc995",
   "metadata": {},
   "outputs": [
    {
     "data": {
      "text/plain": [
       "['11', '11', '00', '11', '11', '11', '00', '00', '00', '00']"
      ]
     },
     "execution_count": 11,
     "metadata": {},
     "output_type": "execute_result"
    }
   ],
   "source": [
    "job.result().get_memory()"
   ]
  },
  {
   "attachments": {},
   "cell_type": "markdown",
   "id": "d48764e8",
   "metadata": {},
   "source": [
    "Now it's time to run more complex circuits on devices we got in previous paragraphs.\n",
    "\n",
    "We will start with generating random circuit and printing it out."
   ]
  },
  {
   "cell_type": "code",
   "execution_count": 12,
   "id": "2d278880",
   "metadata": {},
   "outputs": [
    {
     "data": {
      "text/html": [
       "<pre style=\"word-wrap: normal;white-space: pre;background: #fff0;line-height: 1.1;font-family: &quot;Courier New&quot;,Courier,monospace\">     ┌────────────────────────┐                                       ┌─────────────────────────┐┌────┐   ┌───────────────────┐                                                     ┌──────┐                                                                                               ┌────────────────────┐┌───────────┐┌─────────────────────────┐                                   ┌──────────────┐       ┌───┐        ┌────────────┐                                   ┌────────────────────┐  ┌───┐                                                           ┌──────────────────┐                   \n",
       "q_0: ┤0                       ├────■──────────────────────────────────┤1                        ├┤ Sx ├───┤ U2(1.8116,4.2882) ├─────────────────────────────────────────────────────┤1     ├─────────────────────────────────────────X───────────────────────────────────────────────────X─┤ U2(0.56579,4.5387) ├┤ Rx(2.394) ├┤ U3(4.893,4.5044,2.8234) ├───────────────────────────────────┤0             ├───────┤ Y ├────────┤ Ry(3.7128) ├───────────────────────────■───────┤ U2(0.13579,5.1917) ├──┤ H ├──────────────────────────■────────────────────────■───────┤ R(4.1573,2.3478) ├───────────────────\n",
       "     │                        │    │ ┌───┐┌────────────┐┌────────────┐│                         │└─┬──┘   └───────────────────┘                                     ┌──────────────┐│      │                                         │                                                   │ └────────────────────┘└───────────┘└──────┬────────────┬─────┘        ┌───┐            ┌─────┐   │              │       └─┬─┘        └────────────┘             ┌──────┐      │       └────────────────────┘  ├───┴┐ ┌──────────────┐┌────┐  │        ┌───┐           │       └──────────────────┘                   \n",
       "q_1: ┤  (XX+YY)(4.7824,4.939) ├─■──┼─┤ X ├┤ Ry(6.0991) ├┤ Rx(1.1905) ├┤                         ├──┼────────────────────────────────────────────────────────────────┤0             ├┤      ├─────────────────■───────────■───────────┼──────────────────────────────────────────────■────┼───────────■───────────────────────────────┤ Rx(1.8945) ├──────────────┤ Y ├────────────┤ Sdg ├───┤              ├─────────■─────────────────────────────────────┤1     ├──────┼─────────────■─────────────────┤ Sx ├─┤0             ├┤ Sx ├──┼────────┤ T ├───────────┼────────────────■─────────────────────────────\n",
       "     │                        │ │  │ └─┬─┘└──┬─────┬───┘└──┬─────┬───┘│                         │  │   ┌─────────────────────────┐                                  │              ││      │┌──────────────┐ │           │           │ ┌────────────────────────────────┐ ┌───┐     │    │     ┌─────┴──────┐                        └─────┬──────┘      ┌───────┴───┴────────┐   └─────┘   │  Rzx(5.3823) │                                               │      │      │             │P(5.8925)        └─┬──┘ │  Rxx(4.5678) │└─┬──┘  │    ┌───┴───┴────┐      │                │          ┌─────────────────┐\n",
       "q_2: ┤1                       ├─┼──┼───┼─────┤ Sdg ├───────┤ Tdg ├────┤  (XX-YY)(5.6116,4.8907) ├──┼───┤1                        ├────────────────■─────────────────┤              ├┤  Ecr ├┤0             ├─┼───────────┼───────────┼─┤ U(3.5136,1.9098,0.19363,2.744) ├─┤ X ├─────┼────┼─────┤ Ry(1.0491) ├──────────■───────────────────┼─────────────┤ U2(1.7105,0.60564) ├─■───────────┤              ├────■──────────────────────────────■───────────┤      ├──────┼─────────────■───────────────────■────┤1             ├──┼─────┼────┤ U1(1.9926) ├──────X────────────────┼──────────┤ R(1.985,4.8507) ├\n",
       "     └─────────┬────┬─────────┘ │  │   │     └──┬──┘       └─────┘    │                         │  │   │  (XX-YY)(2.3277,2.9503) │┌───────────────┴────────────────┐│  Rxx(2.4346) ││      ││  Rxx(2.8835) │ │           │           │ └───────────────┬────────────────┘┌┴───┴─┐   │    │     └──┬──────┬──┘          │                   │             └───────┬───┬────────┘ │           │              │    │U1(0.26147)    ┌────────────┐ │           │  Ecr │      │              ┌──────┐       ┌───────┐├──────────────┤  │     │   ┌┴────────────┤      │              ┌─┴─┐        └─────────────────┘\n",
       "q_3: ──────────┤ √X ├───────────┼──┼───■────────┼─────────────■───────┤                         ├──┼───┤0                        ├┤ U(4.3999,1.9627,5.2292,5.0565) ├┤              ├┤      ├┤1             ├─┼───────────┼───────────X─────────────────┼─────────────────┤ √Xdg ├───┼────┼────────┤1     ├─────────────■───────────────────┼─────────────────────┤ H ├──────────┼───────────┤1             ├────■───────────────┤ Ry(3.6509) ├─┼───────────┤      ├──────┼──────────────┤0     ├───────┤1      ├┤1             ├──■─────┼───┤ Ry(0.28218) ├──────┼──────────────┤ X ├───────────────────────────\n",
       "               └────┘           │  │            │             │       │                         │  │   └──────┬────────────┬─────┘└────────────────────────────────┘│              ││      │└──────────────┘ │           │P(3.4782)                    │                 └──────┘┌──┴──┐ │        │  Ecr │             │                   │                     ├───┤          │           └┬────────────┬┘┌──────────────────┐└────────────┘ │           │      │      │              │  Ecr │       │       ││  Rxx(4.8296) │      ┌─┴──┐└──────┬──────┘      │              └─┬─┘                           \n",
       "q_4: ───────────────────────────■──┼────────────■─────────────┼───────┤0                        ├──┼──────────┤ Rx(2.0472) ├────────────────────────────────────────┤1             ├┤0     ├─────────────────┼───────────■─────────────────────────────┼─────────────────────────┤ Sdg ├─┼────────┤0     ├─────────────■───────────────────┼─────────────────────┤ S ├──────────┼────────────┤ U1(4.7659) ├─┤ R(3.1038,2.0726) ├───────────────┼───────────┤0     ├──────┼──────────────┤1     ├───────┤0 Rccx ├┤0             ├──────┤ Sx ├───────┼─────────────X────────────────■─────────────────────────────\n",
       "        ┌─────────────────┐        │                        ┌─┴─┐     └─────────────────────────┘  │          └──┬──────┬──┘                                        └──────────────┘└──────┘                 │P(3.5735)                                │                         └─────┘ │     ┌──┴──────┴──┐                              │              ┌──────┴───┴───────┐  │ZZ(1.1107)  ├────────────┤ └──────────────────┘               │U1(2.1794) └──────┘┌─────┴──────┐       └──────┘       │       │└────┬───┬─────┘┌───┐ └────┘       │       ┌────────────┐                                       \n",
       "q_5: ───┤ R(0.59173,6.13) ├────────■────────────────────────┤ Y ├──────────────────────────────────■─────────────┤ √Xdg ├────────────────────────────────────────────────────────────────────────────────────■─────────────────────────────────────────■─────────────────────────────────X─────┤ Ry(0.1427) ├──────────────────────────────■──────────────┤ R(1.6705,6.0895) ├──■────────────┤ Rx(2.6126) ├────────────────────────────────────■───────────────────┤ Rx(3.0832) ├──────────────────────┤2      ├─────┤ H ├──────┤ Y ├──────────────■───────┤ Rx(3.2601) ├───────────────────────────────────────\n",
       "        └─────────────────┘                                 └───┘                                                └──────┘                                                                                                                                                                      └────────────┘                                             └──────────────────┘               └────────────┘                                                        └────────────┘                      └───────┘     └───┘      └───┘                      └────────────┘                                       </pre>"
      ],
      "text/plain": [
       "     ┌────────────────────────┐                                       ┌─────────────────────────┐┌────┐   ┌───────────────────┐                                                     ┌──────┐                                                                                               ┌────────────────────┐┌───────────┐┌─────────────────────────┐                                   ┌──────────────┐       ┌───┐        ┌────────────┐                                   ┌────────────────────┐  ┌───┐                                                           ┌──────────────────┐                   \n",
       "q_0: ┤0                       ├────■──────────────────────────────────┤1                        ├┤ Sx ├───┤ U2(1.8116,4.2882) ├─────────────────────────────────────────────────────┤1     ├─────────────────────────────────────────X───────────────────────────────────────────────────X─┤ U2(0.56579,4.5387) ├┤ Rx(2.394) ├┤ U3(4.893,4.5044,2.8234) ├───────────────────────────────────┤0             ├───────┤ Y ├────────┤ Ry(3.7128) ├───────────────────────────■───────┤ U2(0.13579,5.1917) ├──┤ H ├──────────────────────────■────────────────────────■───────┤ R(4.1573,2.3478) ├───────────────────\n",
       "     │                        │    │ ┌───┐┌────────────┐┌────────────┐│                         │└─┬──┘   └───────────────────┘                                     ┌──────────────┐│      │                                         │                                                   │ └────────────────────┘└───────────┘└──────┬────────────┬─────┘        ┌───┐            ┌─────┐   │              │       └─┬─┘        └────────────┘             ┌──────┐      │       └────────────────────┘  ├───┴┐ ┌──────────────┐┌────┐  │        ┌───┐           │       └──────────────────┘                   \n",
       "q_1: ┤  (XX+YY)(4.7824,4.939) ├─■──┼─┤ X ├┤ Ry(6.0991) ├┤ Rx(1.1905) ├┤                         ├──┼────────────────────────────────────────────────────────────────┤0             ├┤      ├─────────────────■───────────■───────────┼──────────────────────────────────────────────■────┼───────────■───────────────────────────────┤ Rx(1.8945) ├──────────────┤ Y ├────────────┤ Sdg ├───┤              ├─────────■─────────────────────────────────────┤1     ├──────┼─────────────■─────────────────┤ Sx ├─┤0             ├┤ Sx ├──┼────────┤ T ├───────────┼────────────────■─────────────────────────────\n",
       "     │                        │ │  │ └─┬─┘└──┬─────┬───┘└──┬─────┬───┘│                         │  │   ┌─────────────────────────┐                                  │              ││      │┌──────────────┐ │           │           │ ┌────────────────────────────────┐ ┌───┐     │    │     ┌─────┴──────┐                        └─────┬──────┘      ┌───────┴───┴────────┐   └─────┘   │  Rzx(5.3823) │                                               │      │      │             │P(5.8925)        └─┬──┘ │  Rxx(4.5678) │└─┬──┘  │    ┌───┴───┴────┐      │                │          ┌─────────────────┐\n",
       "q_2: ┤1                       ├─┼──┼───┼─────┤ Sdg ├───────┤ Tdg ├────┤  (XX-YY)(5.6116,4.8907) ├──┼───┤1                        ├────────────────■─────────────────┤              ├┤  Ecr ├┤0             ├─┼───────────┼───────────┼─┤ U(3.5136,1.9098,0.19363,2.744) ├─┤ X ├─────┼────┼─────┤ Ry(1.0491) ├──────────■───────────────────┼─────────────┤ U2(1.7105,0.60564) ├─■───────────┤              ├────■──────────────────────────────■───────────┤      ├──────┼─────────────■───────────────────■────┤1             ├──┼─────┼────┤ U1(1.9926) ├──────X────────────────┼──────────┤ R(1.985,4.8507) ├\n",
       "     └─────────┬────┬─────────┘ │  │   │     └──┬──┘       └─────┘    │                         │  │   │  (XX-YY)(2.3277,2.9503) │┌───────────────┴────────────────┐│  Rxx(2.4346) ││      ││  Rxx(2.8835) │ │           │           │ └───────────────┬────────────────┘┌┴───┴─┐   │    │     └──┬──────┬──┘          │                   │             └───────┬───┬────────┘ │           │              │    │U1(0.26147)    ┌────────────┐ │           │  Ecr │      │              ┌──────┐       ┌───────┐├──────────────┤  │     │   ┌┴────────────┤      │              ┌─┴─┐        └─────────────────┘\n",
       "q_3: ──────────┤ √X ├───────────┼──┼───■────────┼─────────────■───────┤                         ├──┼───┤0                        ├┤ U(4.3999,1.9627,5.2292,5.0565) ├┤              ├┤      ├┤1             ├─┼───────────┼───────────X─────────────────┼─────────────────┤ √Xdg ├───┼────┼────────┤1     ├─────────────■───────────────────┼─────────────────────┤ H ├──────────┼───────────┤1             ├────■───────────────┤ Ry(3.6509) ├─┼───────────┤      ├──────┼──────────────┤0     ├───────┤1      ├┤1             ├──■─────┼───┤ Ry(0.28218) ├──────┼──────────────┤ X ├───────────────────────────\n",
       "               └────┘           │  │            │             │       │                         │  │   └──────┬────────────┬─────┘└────────────────────────────────┘│              ││      │└──────────────┘ │           │P(3.4782)                    │                 └──────┘┌──┴──┐ │        │  Ecr │             │                   │                     ├───┤          │           └┬────────────┬┘┌──────────────────┐└────────────┘ │           │      │      │              │  Ecr │       │       ││  Rxx(4.8296) │      ┌─┴──┐└──────┬──────┘      │              └─┬─┘                           \n",
       "q_4: ───────────────────────────■──┼────────────■─────────────┼───────┤0                        ├──┼──────────┤ Rx(2.0472) ├────────────────────────────────────────┤1             ├┤0     ├─────────────────┼───────────■─────────────────────────────┼─────────────────────────┤ Sdg ├─┼────────┤0     ├─────────────■───────────────────┼─────────────────────┤ S ├──────────┼────────────┤ U1(4.7659) ├─┤ R(3.1038,2.0726) ├───────────────┼───────────┤0     ├──────┼──────────────┤1     ├───────┤0 Rccx ├┤0             ├──────┤ Sx ├───────┼─────────────X────────────────■─────────────────────────────\n",
       "        ┌─────────────────┐        │                        ┌─┴─┐     └─────────────────────────┘  │          └──┬──────┬──┘                                        └──────────────┘└──────┘                 │P(3.5735)                                │                         └─────┘ │     ┌──┴──────┴──┐                              │              ┌──────┴───┴───────┐  │ZZ(1.1107)  ├────────────┤ └──────────────────┘               │U1(2.1794) └──────┘┌─────┴──────┐       └──────┘       │       │└────┬───┬─────┘┌───┐ └────┘       │       ┌────────────┐                                       \n",
       "q_5: ───┤ R(0.59173,6.13) ├────────■────────────────────────┤ Y ├──────────────────────────────────■─────────────┤ √Xdg ├────────────────────────────────────────────────────────────────────────────────────■─────────────────────────────────────────■─────────────────────────────────X─────┤ Ry(0.1427) ├──────────────────────────────■──────────────┤ R(1.6705,6.0895) ├──■────────────┤ Rx(2.6126) ├────────────────────────────────────■───────────────────┤ Rx(3.0832) ├──────────────────────┤2      ├─────┤ H ├──────┤ Y ├──────────────■───────┤ Rx(3.2601) ├───────────────────────────────────────\n",
       "        └─────────────────┘                                 └───┘                                                └──────┘                                                                                                                                                                      └────────────┘                                             └──────────────────┘               └────────────┘                                                        └────────────┘                      └───────┘     └───┘      └───┘                      └────────────┘                                       "
      ]
     },
     "execution_count": 12,
     "metadata": {},
     "output_type": "execute_result"
    }
   ],
   "source": [
    "circuit = random_circuit(6, 20, seed=42)\n",
    "circuit.draw(fold=-1)"
   ]
  },
  {
   "attachments": {},
   "cell_type": "markdown",
   "id": "d9d69137",
   "metadata": {},
   "source": [
    "Here is a good point to talk about circuit transpilation. \n",
    "\n",
    "Transpilation is the process of rewriting a given input circuit \n",
    "to match the topology of a specific quantum device, and/or to optimize the \n",
    "circuit for execution on present day noisy quantum systems.\n",
    "\n",
    "Let's transpile our generated circuit agains selected device."
   ]
  },
  {
   "cell_type": "code",
   "execution_count": 13,
   "id": "51e60f77",
   "metadata": {
    "slideshow": {
     "slide_type": "slide"
    }
   },
   "outputs": [
    {
     "data": {
      "text/html": [
       "<pre style=\"word-wrap: normal;white-space: pre;background: #fff0;line-height: 1.1;font-family: &quot;Courier New&quot;,Courier,monospace\">global phase: 1.0121\n",
       "          ┌────────────┐                  ┌───┐     ┌─────────────┐     ┌───┐┌─────────────┐                           ┌────────────┐                                                                ┌───┐┌─────────────┐               ┌───┐┌─────────────┐  ┌─────────┐                                           ┌───┐ ┌──────────┐                ┌───┐┌─────────────┐┌────────────┐┌──────────────┐                     ┌───┐                                                                                                                          ┌──────────────┐┌────────────┐┌─────────────┐                                                                                                                                                                                                                                                                        ┌──────────┐     ┌───┐     ┌──────────┐┌────────────┐                                                                                                     ┌───────────────┐ ┌────────────┐┌────────────┐ ┌────────────┐                                                                                                                                                                                                                                                                                              ┌─────────┐      ┌────────────┐┌────────────┐┌─────────────┐                                                                        \n",
       "q_0 -> 0 ─┤ Rz(0.2266) ├──────────────────┤ X ├─────┤ Ry(-2.3912) ├─────┤ X ├┤ Rz(-0.2266) ├───────────────────────■───┤ Rz(2.9633) ├────────────────────────────────────────────────────────────────┤ X ├┤ Ry(-2.8058) ├───────────────┤ X ├┤ Rz(0.17834) ├──┤ Ry(π/2) ├───────────────────────────────────────────┤ X ├─┤ Rz(-π/4) ├────────────────┤ X ├┤ Rz(-2.2555) ├┤ Ry(1.3517) ├┤ Rz(-0.43523) ├─────────────────────┤ X ├────────────────────X───────────────────────────────────────────────────────────────────────────────────────────────────X─┤ Rz(-0.27086) ├┤ Ry(2.2172) ├┤ Rz(0.43785) ├────────────────────────────────────────────────────────────────────────────────────────────────────────────────────────────────────────────────────────────────────────────────────────────────────────────────────■───────────────────────────────────────────■───────┤ Rz(-π/2) ├─────┤ X ├─────┤ Rz(-π/2) ├┤ Ry(-2.142) ├─────────────────────────────────────────────────────────────────────────────────────────────────────┤0              ├─┤ Rz(3.0787) ├┤ Ry(1.4504) ├─┤ Rz(2.8393) ├───────────────────────────────────────────────────────────────────────────────────────────────■─────────────────────■────────────────────────────────────────────────────────────────────────────────────────────────────────■──────────────────────────────────────────■─────────────────■──┤ Rz(π/4) ├───■──┤ Rz(2.3646) ├┤ Ry(2.1258) ├┤ Rz(-2.3646) ├────────────────────────────────────────────────────────────────────────\n",
       "          └┬──────────┬┘  ┌────────┐      └─┬─┘     └─────────────┘┌───┐└─┬─┘└─┬──────────┬┘┌────────┐   ┌───┐     │  ┌┴────────────┴┐┌────────────┐                                                 └─┬─┘└─────────────┘               └─┬─┘└─────────────┘  └─────────┘                ┌──────────────┐           └─┬─┘ └──────────┘                └─┬─┘└─────────────┘└────────────┘└──────────────┘┌───┐┌─────────────┐ └─┬─┘                    │    ┌───┐ ┌────────────┐┌───┐┌─────────────┐               ┌───┐ ┌────────────┐                    │ └──────────────┘└┬─────────┬─┘└─────────────┘                                                           ┌─────────────┐            ┌────────────────┐  ┌─────────┐    ┌───────┐                                                                                  │                                           │       └──────────┘     └─┬─┘     ├─────────┬┘└───┬───┬────┘                                                                                                ┌───┐│               │┌┴────────────┤└───┬───┬────┘┌┴────────────┴┐┌─────────┐ ┌───┐┌──────────┐┌───┐ ┌───────────┐  ┌─────────┐ ┌──────────────┐ ┌──────────┐   │   ┌────────┐ ┌───┐  │   ┌──────────┐   ┌───┐    ┌───────────┐ ┌─────────┐┌─────────┐                                         │                                          │                 │  └─────────┘   │  └────────────┘└────────────┘└─────────────┘                    ┌─────────┐                   ┌───┐┌──────────┐┌───┐\n",
       "q_1 -> 1 ──┤ Ry(-π/2) ├───┤ Rz(-π) ├────────┼──────────────────────┤ X ├──┼────┤ Ry(-π/2) ├─┤ Rz(-π) ├───┤ X ├─────┼──┤ Ry(-0.18411) ├┤ Rx(1.1905) ├───────────────────────────────────────────────────┼──────────────────────────────────┼──────────────────────────────────────────────┤0             ├─────────────┼─────────────────────────────────┼───────────────────────────────────────────────┤ X ├┤ Rz(-1.7868) ├───┼──────────────────────┼────┤ X ├─┤ Rz(1.7868) ├┤ X ├┤ Rz(-1.7391) ├───────────────┤ X ├─┤ Rz(1.7391) ├────────────────────┼────────■─────────┤ Rz(π/4) ├───────────────────■────────────────■───────■──────────────────────────■────┤ Rx(0.94723) ├────────────┤1               ├──┤ Rz(π/2) ├────┤ Ry(π) ├──────────────────────────────────────────────────────────────────────────────────┼───────────────────────────────────────────┼──────────────────────────■───────┤ Rx(π/2) ├─────┤ X ├─────────────────────────────────────────────────────────────────────────────────────────────────────┤ X ├┤               ├┤ Rz(-2.9463) ├────┤ X ├─────┤ Rz(-0.19532) ├┤ Ry(π/2) ├─┤ X ├┤ Rz(-π/4) ├┤ X ├─┤ Rz(-3π/4) ├──┤ Ry(π/2) ├─┤0             ├─┤ Ry(-π/2) ├───┼───┤ Rz(-π) ├─┤ X ├──┼───┤ Rz(-π/4) ├───┤ X ├────┤ Rz(-3π/4) ├─┤ Ry(π/2) ├┤ Rz(π/4) ├─────────────────────────────────────────┼────────────────────■─────────────────────┼─────────────────┼────────────────┼──────────────────────────────────────────────────────────────■──┤ Rz(π/4) ├───────────────────┤ X ├┤ Rz(-π/4) ├┤ X ├\n",
       "           ├─────────┬┘   └────────┘        │       ┌─────────────┐└─┬─┘  │    └┬───────┬─┘ └─┬───┬──┘   └─┬─┘     │  └─┬──────────┬─┘└─┬────────┬─┘┌───┐┌──────────┐            ┌───┐┌─────────────┐  │       ┌───┐     ┌─────────────┐  │       ┌───┐     ┌─────────────┐              │              │             │                                 │                                               └─┬─┘├─────────────┴┐  │  ┌──────────────┐    │    └─┬─┘ └────────────┘└─┬─┘└────┬───┬────┘┌─────────────┐└─┬─┘┌┴────────────┤┌───┐┌────────────┐ │        │        ┌┴─────────┴─┐┌─────────────┐  │                │     ┌─┴─┐    ┌──────────────┐  ┌─┴─┐  └────┬───┬────┘┌──────────┐│                │  └──┬───┬──┘   ┌┴───────┴┐       ┌───┐      ┌──────────┐┌───┐┌───────────┐┌─────────┐ ┌────────────┐       │                                           │                                  └──┬───┬──┘     └─┬─┘     ┌──────────────┐┌───┐┌─────────────┐           ┌───┐┌─────────────┐         ┌───┐┌─────────────┐└─┬─┘│               │└─────────────┘    └─┬─┘     └─┬─────────┬──┘└─────────┘ └─┬─┘└──────────┘└─┬─┘ └───────────┘  └─────────┘ │  Rxx(4.5678) │┌┴──────────┴┐  │   └────────┘ └─┬─┘  │   └──────────┘   └─┬─┘    └───────────┘ └─────────┘├─────────┴┐   ┌────────┐   ┌───┐┌──────────┐     ┌─┴─┐     ┌─────────┐  │  ┌───┐┌──────────┐┌─┴─┐┌───────────┐  │  ┌─────────┐   │                ┌────────────┐ ┌───────────┐ ┌─────────────┐  │  └─────────┘                   └─┬─┘└──────────┘└─┬─┘\n",
       "q_2 -> 2 ──┤ Ry(π/2) ├──────────────────────■───────┤ Ry(-2.3912) ├──┼────■─────┤ Rx(π) ├─────┤ X ├────────┼───────┼────┤ Ry(-π/2) ├────┤ Rz(-π) ├──┤ X ├┤ Rz(-π/4) ├────────────┤ X ├┤ Rz(-1.3795) ├──┼───────┤ X ├─────┤ Ry(-1.1638) ├──┼───────┤ X ├─────┤ Rz(-2.5344) ├──────────────┤              ├─────■───────┼─────────────────────────────────┼─────────■───────────────────────────────────────┼──┤0             ├──┼──┤ Rz(-0.85807) ├────┼──────┼───────────────────┼───────┤ X ├─────┤ Rz(-1.0517) ├──┼──┤ Ry(-1.7568) ├┤ X ├┤ Rz(2.6189) ├─┼────────┼────────┤ Ry(1.2411) ├┤ Rz(-1.7732) ├──┼────────────────┼─────┤ X ├────┤ Ry(-0.52456) ├──┤ X ├───────┤ X ├─────┤ Rz(-π/4) ├┤                ├─────┤ X ├──────┤ Rz(π/4) ├───────┤ X ├──────┤ Rz(-π/4) ├┤ X ├┤ Rz(1.391) ├┤ Ry(π/2) ├─┤ Rz(1.7105) ├───────┼─────────■─────────────────────────────────┼─────────────────────────────────────┤ X ├──────────┼───────┤ Rz(-0.13073) ├┤ X ├┤ Rz(0.13073) ├───────────┤ X ├┤ Rz(-1.0897) ├─────────┤ X ├┤ Rz(-2.2472) ├──■──┤               ├─────────────────────■─────────┤ Rz(π/4) ├─────────────────■────────────────■──────────────────────────────┤1             ├┤ Rz(1.9926) ├──┼────────────────┼────┼────────────────────┼─────────────────────────■─────┤ Ry(-π/2) ├───┤ Rz(-π) ├───┤ X ├┤ Rz(-π/4) ├─────┤ X ├─────┤ Rz(π/4) ├──┼──┤ X ├┤ Rz(-π/4) ├┤ X ├┤ Rz(-3π/4) ├──┼──┤ Ry(π/2) ├───┼────────■───────┤ Rz(3.0033) ├─┤ Ry(1.985) ├─┤ Rz(-3.0033) ├──┼──────────────────────────────────┼────────────────┼──\n",
       "           ├─────────┤                              └─────────────┘  │          └───────┘     └─┬─┘        │       │    └──────────┘    └────────┘  └─┬─┘└──────────┘┌─────────┐ └─┬─┘└─────────────┘  │       └─┬─┘     └┬────────────┤  │       └─┬─┘     └─┬──────────┬┘┌────────────┐│  Rxx(2.4346) │   ┌─┴─┐     │  ┌────────────┐┌─────────────┐  │       ┌─┴─┐     ┌────────────┐ ┌────────────┐   │  │  Rxx(2.8835) │  │  └──────────────┘    │      │                   │       └─┬─┘     └─────────────┘  │  └─────────────┘└─┬─┘└────────────┘ │        │        └────────────┘└─────────────┘  │                │     └───┘    └────┬───┬─────┘  └───┘       └─┬─┘     └──────────┘│                │     └─┬─┘      └─────────┘       └─┬─┘      ├─────────┬┘└─┬─┘└───┬───┬───┘├─────────┴┐└───┬───┬────┘     ┌─┴─┐       │           ┌──────────────┐    ┌─┴─┐     ┌──────────┐┌─────────────┐   └─┬─┘          │       └──────────────┘└─┬─┘├─────────────┤┌─────────┐└─┬─┘└─────────────┘┌───────┐└─┬─┘└─────────────┘     │  Rxx(-1.5416) │                               └─────────┘                                     ┌──────────────┐┌─────────┐ └──────────────┘└────────────┘  │                │    │                    │     ┌─────────────┐     │     └──┬───┬───┘┌──┴────────┴──┐└─┬─┘└──┬───┬───┘  ┌──┴───┴───┐ └┬────────┤┌─┴─┐└─┬─┘├──────────┤└───┘└───────────┘  │  └─────────┘   │        │       └───┬───┬────┘ └┬─────────┬┘ └─────────────┘┌─┴─┐┌──────────┐┌───┐┌───────────┐  │  ┌─────────┐   │  \n",
       "q_3 -> 3 ──┤ Rx(π/2) ├───────────────────────────────────────────────┼──────────────────────────┼──────────■───────┼──────────────────────────────────┼───────■──────┤ Ry(π/2) ├───┼───────────────────┼─────────■────────┤ Ry(1.1638) ├──┼─────────■─────────┤ Ry(-π/2) ├─┤ Rz(1.6333) ├┤              ├───┤ X ├─────┼──┤ Rz(2.6872) ├┤ Ry(-2.1999) ├──┼───────┤ X ├─────┤ Ry(2.1999) ├─┤ Rz(1.9627) ├───┼──┤1             ├──┼──────────────────────X──────┼───────────────────┼─────────┼────────────────────────┼───────────────────┼─────────────────┼────────┼───────────────────────────────────────┼────────────────┼───────────────────┤ X ├──────────────────────■───────────────────┤  Rxx(-0.94723) ├───────┼────────────────────────────■────────┤ Rz(π/4) ├───┼──────┤ X ├────┤ Rz(-π/4) ├────┤ X ├──────────┤ X ├───────┼───────────┤ Rz(-0.90092) ├────┤ X ├─────┤ Ry(-π/2) ├┤ Rz(-3.0109) ├─────■────────────┼─────────────────────────■──┤ Ry(-2.6323) ├┤ Rz(π/2) ├──┼─────────■───────┤ Rx(π) ├──┼──────────────────────┤               ├────────────────────────────────────■───────────────────────────────────────■──┤1             ├┤ Rz(π/4) ├─────────────────────────────────┼────────────────■────┼────────────────────■─────┤ Ry(0.14109) ├─────┼────────┤ X ├────┤ Ry(-0.14109) ├──┼─────┤ X ├──────┤ Ry(-π/2) ├──┤ Rz(-π) ├┤ X ├──┼──┤ Rz(-π/4) ├────────────────────┼────────────────┼────────┼───────────┤ X ├───────┤ Rz(π/4) ├─────────────────┤ X ├┤ Rz(-π/4) ├┤ X ├┤ Rz(-3π/4) ├──┼──┤ Ry(π/2) ├───┼──\n",
       "           └─────────┘                                               │                          │     ┌─────────┐  │                                  │       │      └─────────┘   │    ┌─────────┐    │   ┌────────────┐ └────────────┘  │  ┌─────────────┐  ├──────────┤ └────────────┘│              │┌──┴───┴──┐  │  └────────────┘└─────────────┘  │       └───┘     └────────────┘ └────────────┘   │  └──────────────┘  │   ┌────────────┐ ┌───────┐  │                   │         │                        │    ┌──────────┐   │    ┌────────┐   │      ┌─┴─┐       ┌──────────┐    ┌────────┐  ┌─┴─┐┌──────────┐┌─┴─┐┌──────────┐     └─┬─┘      ┌───────┐                           │                │       │                                     └─────────┘   │      └─┬─┘    ├─────────┬┘    └─┬─┘     ┌────┴───┴─────┐ │           └┬────────────┬┘┌───┴───┴────┐└──────────┘└─────────────┘                  │         ┌──────────┐       └─────────────┘└─────────┘  │       ┌─┴─┐     └───────┘  │                      │               │                                    │                                       │  │  Rxx(4.8296) │├─────────┴┐   ┌────────┐                 ┌─┴─┐┌──────────┐     ┌─┴─┐┌───────────┐┌─────────┐└─────────────┘   ┌─┴─┐      └─┬─┘    └──────────────┘  │     └─┬─┘      └──────────┘  └────────┘└───┘  │  ├─────────┬┘                  ┌─┴─┐┌──────────┐┌─┴─┐    ┌─┴─┐         └─┬─┘       └─────────┘                 └───┘└──────────┘└─┬─┘└───────────┘  │  ├─────────┤   │  \n",
       "q_4 -> 4 ────────────────────────────────────────────────────────────■──────────────────────────■─────┤ Rz(π/4) ├──┼──────────────────────────────────■───────┼────────────────────■────┤ Ry(π/2) ├────■───┤ Ry(2.8058) ├─────────────────■──┤ Rz(-2.0472) ├──┤ Ry(-π/2) ├───────────────┤1             ├┤ Rz(π/2) ├──┼─────────────────────────────────┼─────────────────────────────────────────────────┼────────────────────■───┤ Rz(1.4025) ├─┤ Ry(π) ├──┼───────────────────■─────────┼────────────────────────■────┤ Ry(-π/2) ├───┼────┤ Rz(-π) ├───┼──────┤ X ├───────┤ Ry(-π/2) ├────┤ Rz(-π) ├──┤ X ├┤ Rz(-π/4) ├┤ X ├┤ Rz(3π/4) ├───────■────────┤ Rx(π) ├───────────────────────────┤                ├───────■───────────────────────────────────────────────────■────────■──────┤ Rz(π/4) ├───────■───────┤ Rz(-0.44825) ├─┼────────────┤ Ry(3.1038) ├─┤ Rz(2.0726) ├─────────────────────────────────────────────■─────────┤ Rx(-π/2) ├───────────────────────────────────┼───────┤ X ├────────────────┼──────────────────────┤               ├────────────────────────────────────┼──────────────────────■────────────────┼──┤0             ├┤ Ry(-π/2) ├───┤ Rz(-π) ├─────────────────┤ X ├┤ Rz(-π/4) ├─────┤ X ├┤ Rz(-3π/4) ├┤ Ry(π/2) ├──────────────────┤ X ├────────┼────────────────────────■───────┼───────────────────────────────────────■──┤ Rz(π/4) ├───────────────────┤ X ├┤ Rz(-π/4) ├┤ X ├────┤ X ├───────────■────────────────────────────────────────────────────────■─────────────────■──┤ Rz(π/4) ├───■──\n",
       "         ┌─────────────┐┌───────────┐┌─────────────┐                                                  └─────────┘┌─┴─┐  ┌──────────┐   ┌─────────┐          ┌─┴─┐    ┌──────────┐       └─────────┘        └────────────┘                    └─────────────┘  └──────────┘               └──────────────┘└─────────┘  │                                 │    ┌──────────┐ ┌────────────┐                  │                        └────────────┘ └───────┘  │  ┌─────────────┐            │                             └──────────┘   │    └────────┘   │ ┌────┴───┴────┐  └┬────────┬┘    └────────┘  └───┘└──────────┘└───┘└──────────┘                └───────┘                           │                │┌─────────────┐┌────────────┐┌──────────────┐                              └─────────┘               └──────────────┘ │ZZ(1.1107)  ├────────────┤ ├────────────┤                                                       └──────────┘                                   │       └───┘                │   ┌────────────┐     │               │  ┌──────────┐ ┌───────────┐      ┌─┴─┐      ┌──────────┐┌─┴─┐┌─────────┐ ┌─┴─┐└─┬──────────┬─┘└┬───────┬─┘   └────────┘                 └───┘└──────────┘     └───┘└───────────┘└─────────┘                  └───┘        │                                │      ┌─────────────┐                     └─────────┘                   └───┘└──────────┘└───┘    └───┘                                                                                         └─────────┘      \n",
       "q_5 -> 5 ┤ Rz(-3.1159) ├┤ Ry(1.656) ├┤ Rz(0.58629) ├─────────────────────────────────────────────────────────────┤ X ├──┤ Ry(-π/2) ├───┤ Rz(π/2) ├──────────┤ X ├────┤ Rz(3π/4) ├─────────────────────────────────────────────────────────────────────────────────────────────────────────────────────────────────────■─────────────────────────────────■────┤ Rx(-π/2) ├─┤ Rz(1.7868) ├──────────────────■──────────────────────────────────────────────────■──┤ Rz(-2.4875) ├────────────■────────────────────────────────────────────■─────────────────X─┤ Ry(-1.4281) ├───┤ Rz(-π) ├───────────────────────────────────────────────────────────────────────────────────────────────────────┤0               ├┤ Rz(-1.4692) ├┤ Ry(1.3781) ├┤ Rz(-0.21319) ├─────────────────────────────────────────────────────────────────────────■────────────┤ Rx(2.6126) ├─┤ Rz(1.0897) ├──────────────────────────────────────────────────────────────────────────────────────────────────────■────────────────────────────■───┤ Rx(1.5416) ├─────┤1              ├──┤ Ry(-π/2) ├─┤ Rz(-3π/4) ├──────┤ X ├──────┤ Rz(-π/4) ├┤ X ├┤ Rz(π/4) ├─┤ X ├──┤ Rz(-π/4) ├───┤ Ry(π) ├──────────────────────────────────────────────────────────────────────────────────────────────────────────────────■────────────────────────────────■──────┤ Rx(-3.0231) ├────────────────────────────────────────────────────────────────────────────────────────────────────────────────────────────────────────────────────────────────────────────────────────────\n",
       "         └─────────────┘└───────────┘└─────────────┘                                                             └───┘  └──────────┘   └─────────┘          └───┘    └──────────┘                                                                                                                                                                            └──────────┘ └────────────┘                                                                        └─────────────┘                                                                             └─────────────┘   └────────┘                                                                                                       └────────────────┘└─────────────┘└────────────┘└──────────────┘                                                                                      └────────────┘ └────────────┘                                                                                                                                       └────────────┘     └───────────────┘  └──────────┘ └───────────┘      └───┘      └──────────┘└───┘└─────────┘ └───┘  └──────────┘   └───────┘                                                                                                                                                          └─────────────┘                                                                                                                                                                                            </pre>"
      ],
      "text/plain": [
       "global phase: 1.0121\n",
       "          ┌────────────┐                  ┌───┐     ┌─────────────┐     ┌───┐┌─────────────┐                           ┌────────────┐                                                                ┌───┐┌─────────────┐               ┌───┐┌─────────────┐  ┌─────────┐                                           ┌───┐ ┌──────────┐                ┌───┐┌─────────────┐┌────────────┐┌──────────────┐                     ┌───┐                                                                                                                          ┌──────────────┐┌────────────┐┌─────────────┐                                                                                                                                                                                                                                                                        ┌──────────┐     ┌───┐     ┌──────────┐┌────────────┐                                                                                                     ┌───────────────┐ ┌────────────┐┌────────────┐ ┌────────────┐                                                                                                                                                                                                                                                                                              ┌─────────┐      ┌────────────┐┌────────────┐┌─────────────┐                                                                        \n",
       "q_0 -> 0 ─┤ Rz(0.2266) ├──────────────────┤ X ├─────┤ Ry(-2.3912) ├─────┤ X ├┤ Rz(-0.2266) ├───────────────────────■───┤ Rz(2.9633) ├────────────────────────────────────────────────────────────────┤ X ├┤ Ry(-2.8058) ├───────────────┤ X ├┤ Rz(0.17834) ├──┤ Ry(π/2) ├───────────────────────────────────────────┤ X ├─┤ Rz(-π/4) ├────────────────┤ X ├┤ Rz(-2.2555) ├┤ Ry(1.3517) ├┤ Rz(-0.43523) ├─────────────────────┤ X ├────────────────────X───────────────────────────────────────────────────────────────────────────────────────────────────X─┤ Rz(-0.27086) ├┤ Ry(2.2172) ├┤ Rz(0.43785) ├────────────────────────────────────────────────────────────────────────────────────────────────────────────────────────────────────────────────────────────────────────────────────────────────────────────────────■───────────────────────────────────────────■───────┤ Rz(-π/2) ├─────┤ X ├─────┤ Rz(-π/2) ├┤ Ry(-2.142) ├─────────────────────────────────────────────────────────────────────────────────────────────────────┤0              ├─┤ Rz(3.0787) ├┤ Ry(1.4504) ├─┤ Rz(2.8393) ├───────────────────────────────────────────────────────────────────────────────────────────────■─────────────────────■────────────────────────────────────────────────────────────────────────────────────────────────────────■──────────────────────────────────────────■─────────────────■──┤ Rz(π/4) ├───■──┤ Rz(2.3646) ├┤ Ry(2.1258) ├┤ Rz(-2.3646) ├────────────────────────────────────────────────────────────────────────\n",
       "          └┬──────────┬┘  ┌────────┐      └─┬─┘     └─────────────┘┌───┐└─┬─┘└─┬──────────┬┘┌────────┐   ┌───┐     │  ┌┴────────────┴┐┌────────────┐                                                 └─┬─┘└─────────────┘               └─┬─┘└─────────────┘  └─────────┘                ┌──────────────┐           └─┬─┘ └──────────┘                └─┬─┘└─────────────┘└────────────┘└──────────────┘┌───┐┌─────────────┐ └─┬─┘                    │    ┌───┐ ┌────────────┐┌───┐┌─────────────┐               ┌───┐ ┌────────────┐                    │ └──────────────┘└┬─────────┬─┘└─────────────┘                                                           ┌─────────────┐            ┌────────────────┐  ┌─────────┐    ┌───────┐                                                                                  │                                           │       └──────────┘     └─┬─┘     ├─────────┬┘└───┬───┬────┘                                                                                                ┌───┐│               │┌┴────────────┤└───┬───┬────┘┌┴────────────┴┐┌─────────┐ ┌───┐┌──────────┐┌───┐ ┌───────────┐  ┌─────────┐ ┌──────────────┐ ┌──────────┐   │   ┌────────┐ ┌───┐  │   ┌──────────┐   ┌───┐    ┌───────────┐ ┌─────────┐┌─────────┐                                         │                                          │                 │  └─────────┘   │  └────────────┘└────────────┘└─────────────┘                    ┌─────────┐                   ┌───┐┌──────────┐┌───┐\n",
       "q_1 -> 1 ──┤ Ry(-π/2) ├───┤ Rz(-π) ├────────┼──────────────────────┤ X ├──┼────┤ Ry(-π/2) ├─┤ Rz(-π) ├───┤ X ├─────┼──┤ Ry(-0.18411) ├┤ Rx(1.1905) ├───────────────────────────────────────────────────┼──────────────────────────────────┼──────────────────────────────────────────────┤0             ├─────────────┼─────────────────────────────────┼───────────────────────────────────────────────┤ X ├┤ Rz(-1.7868) ├───┼──────────────────────┼────┤ X ├─┤ Rz(1.7868) ├┤ X ├┤ Rz(-1.7391) ├───────────────┤ X ├─┤ Rz(1.7391) ├────────────────────┼────────■─────────┤ Rz(π/4) ├───────────────────■────────────────■───────■──────────────────────────■────┤ Rx(0.94723) ├────────────┤1               ├──┤ Rz(π/2) ├────┤ Ry(π) ├──────────────────────────────────────────────────────────────────────────────────┼───────────────────────────────────────────┼──────────────────────────■───────┤ Rx(π/2) ├─────┤ X ├─────────────────────────────────────────────────────────────────────────────────────────────────────┤ X ├┤               ├┤ Rz(-2.9463) ├────┤ X ├─────┤ Rz(-0.19532) ├┤ Ry(π/2) ├─┤ X ├┤ Rz(-π/4) ├┤ X ├─┤ Rz(-3π/4) ├──┤ Ry(π/2) ├─┤0             ├─┤ Ry(-π/2) ├───┼───┤ Rz(-π) ├─┤ X ├──┼───┤ Rz(-π/4) ├───┤ X ├────┤ Rz(-3π/4) ├─┤ Ry(π/2) ├┤ Rz(π/4) ├─────────────────────────────────────────┼────────────────────■─────────────────────┼─────────────────┼────────────────┼──────────────────────────────────────────────────────────────■──┤ Rz(π/4) ├───────────────────┤ X ├┤ Rz(-π/4) ├┤ X ├\n",
       "           ├─────────┬┘   └────────┘        │       ┌─────────────┐└─┬─┘  │    └┬───────┬─┘ └─┬───┬──┘   └─┬─┘     │  └─┬──────────┬─┘└─┬────────┬─┘┌───┐┌──────────┐            ┌───┐┌─────────────┐  │       ┌───┐     ┌─────────────┐  │       ┌───┐     ┌─────────────┐              │              │             │                                 │                                               └─┬─┘├─────────────┴┐  │  ┌──────────────┐    │    └─┬─┘ └────────────┘└─┬─┘└────┬───┬────┘┌─────────────┐└─┬─┘┌┴────────────┤┌───┐┌────────────┐ │        │        ┌┴─────────┴─┐┌─────────────┐  │                │     ┌─┴─┐    ┌──────────────┐  ┌─┴─┐  └────┬───┬────┘┌──────────┐│                │  └──┬───┬──┘   ┌┴───────┴┐       ┌───┐      ┌──────────┐┌───┐┌───────────┐┌─────────┐ ┌────────────┐       │                                           │                                  └──┬───┬──┘     └─┬─┘     ┌──────────────┐┌───┐┌─────────────┐           ┌───┐┌─────────────┐         ┌───┐┌─────────────┐└─┬─┘│               │└─────────────┘    └─┬─┘     └─┬─────────┬──┘└─────────┘ └─┬─┘└──────────┘└─┬─┘ └───────────┘  └─────────┘ │  Rxx(4.5678) │┌┴──────────┴┐  │   └────────┘ └─┬─┘  │   └──────────┘   └─┬─┘    └───────────┘ └─────────┘├─────────┴┐   ┌────────┐   ┌───┐┌──────────┐     ┌─┴─┐     ┌─────────┐  │  ┌───┐┌──────────┐┌─┴─┐┌───────────┐  │  ┌─────────┐   │                ┌────────────┐ ┌───────────┐ ┌─────────────┐  │  └─────────┘                   └─┬─┘└──────────┘└─┬─┘\n",
       "q_2 -> 2 ──┤ Ry(π/2) ├──────────────────────■───────┤ Ry(-2.3912) ├──┼────■─────┤ Rx(π) ├─────┤ X ├────────┼───────┼────┤ Ry(-π/2) ├────┤ Rz(-π) ├──┤ X ├┤ Rz(-π/4) ├────────────┤ X ├┤ Rz(-1.3795) ├──┼───────┤ X ├─────┤ Ry(-1.1638) ├──┼───────┤ X ├─────┤ Rz(-2.5344) ├──────────────┤              ├─────■───────┼─────────────────────────────────┼─────────■───────────────────────────────────────┼──┤0             ├──┼──┤ Rz(-0.85807) ├────┼──────┼───────────────────┼───────┤ X ├─────┤ Rz(-1.0517) ├──┼──┤ Ry(-1.7568) ├┤ X ├┤ Rz(2.6189) ├─┼────────┼────────┤ Ry(1.2411) ├┤ Rz(-1.7732) ├──┼────────────────┼─────┤ X ├────┤ Ry(-0.52456) ├──┤ X ├───────┤ X ├─────┤ Rz(-π/4) ├┤                ├─────┤ X ├──────┤ Rz(π/4) ├───────┤ X ├──────┤ Rz(-π/4) ├┤ X ├┤ Rz(1.391) ├┤ Ry(π/2) ├─┤ Rz(1.7105) ├───────┼─────────■─────────────────────────────────┼─────────────────────────────────────┤ X ├──────────┼───────┤ Rz(-0.13073) ├┤ X ├┤ Rz(0.13073) ├───────────┤ X ├┤ Rz(-1.0897) ├─────────┤ X ├┤ Rz(-2.2472) ├──■──┤               ├─────────────────────■─────────┤ Rz(π/4) ├─────────────────■────────────────■──────────────────────────────┤1             ├┤ Rz(1.9926) ├──┼────────────────┼────┼────────────────────┼─────────────────────────■─────┤ Ry(-π/2) ├───┤ Rz(-π) ├───┤ X ├┤ Rz(-π/4) ├─────┤ X ├─────┤ Rz(π/4) ├──┼──┤ X ├┤ Rz(-π/4) ├┤ X ├┤ Rz(-3π/4) ├──┼──┤ Ry(π/2) ├───┼────────■───────┤ Rz(3.0033) ├─┤ Ry(1.985) ├─┤ Rz(-3.0033) ├──┼──────────────────────────────────┼────────────────┼──\n",
       "           ├─────────┤                              └─────────────┘  │          └───────┘     └─┬─┘        │       │    └──────────┘    └────────┘  └─┬─┘└──────────┘┌─────────┐ └─┬─┘└─────────────┘  │       └─┬─┘     └┬────────────┤  │       └─┬─┘     └─┬──────────┬┘┌────────────┐│  Rxx(2.4346) │   ┌─┴─┐     │  ┌────────────┐┌─────────────┐  │       ┌─┴─┐     ┌────────────┐ ┌────────────┐   │  │  Rxx(2.8835) │  │  └──────────────┘    │      │                   │       └─┬─┘     └─────────────┘  │  └─────────────┘└─┬─┘└────────────┘ │        │        └────────────┘└─────────────┘  │                │     └───┘    └────┬───┬─────┘  └───┘       └─┬─┘     └──────────┘│                │     └─┬─┘      └─────────┘       └─┬─┘      ├─────────┬┘└─┬─┘└───┬───┬───┘├─────────┴┐└───┬───┬────┘     ┌─┴─┐       │           ┌──────────────┐    ┌─┴─┐     ┌──────────┐┌─────────────┐   └─┬─┘          │       └──────────────┘└─┬─┘├─────────────┤┌─────────┐└─┬─┘└─────────────┘┌───────┐└─┬─┘└─────────────┘     │  Rxx(-1.5416) │                               └─────────┘                                     ┌──────────────┐┌─────────┐ └──────────────┘└────────────┘  │                │    │                    │     ┌─────────────┐     │     └──┬───┬───┘┌──┴────────┴──┐└─┬─┘└──┬───┬───┘  ┌──┴───┴───┐ └┬────────┤┌─┴─┐└─┬─┘├──────────┤└───┘└───────────┘  │  └─────────┘   │        │       └───┬───┬────┘ └┬─────────┬┘ └─────────────┘┌─┴─┐┌──────────┐┌───┐┌───────────┐  │  ┌─────────┐   │  \n",
       "q_3 -> 3 ──┤ Rx(π/2) ├───────────────────────────────────────────────┼──────────────────────────┼──────────■───────┼──────────────────────────────────┼───────■──────┤ Ry(π/2) ├───┼───────────────────┼─────────■────────┤ Ry(1.1638) ├──┼─────────■─────────┤ Ry(-π/2) ├─┤ Rz(1.6333) ├┤              ├───┤ X ├─────┼──┤ Rz(2.6872) ├┤ Ry(-2.1999) ├──┼───────┤ X ├─────┤ Ry(2.1999) ├─┤ Rz(1.9627) ├───┼──┤1             ├──┼──────────────────────X──────┼───────────────────┼─────────┼────────────────────────┼───────────────────┼─────────────────┼────────┼───────────────────────────────────────┼────────────────┼───────────────────┤ X ├──────────────────────■───────────────────┤  Rxx(-0.94723) ├───────┼────────────────────────────■────────┤ Rz(π/4) ├───┼──────┤ X ├────┤ Rz(-π/4) ├────┤ X ├──────────┤ X ├───────┼───────────┤ Rz(-0.90092) ├────┤ X ├─────┤ Ry(-π/2) ├┤ Rz(-3.0109) ├─────■────────────┼─────────────────────────■──┤ Ry(-2.6323) ├┤ Rz(π/2) ├──┼─────────■───────┤ Rx(π) ├──┼──────────────────────┤               ├────────────────────────────────────■───────────────────────────────────────■──┤1             ├┤ Rz(π/4) ├─────────────────────────────────┼────────────────■────┼────────────────────■─────┤ Ry(0.14109) ├─────┼────────┤ X ├────┤ Ry(-0.14109) ├──┼─────┤ X ├──────┤ Ry(-π/2) ├──┤ Rz(-π) ├┤ X ├──┼──┤ Rz(-π/4) ├────────────────────┼────────────────┼────────┼───────────┤ X ├───────┤ Rz(π/4) ├─────────────────┤ X ├┤ Rz(-π/4) ├┤ X ├┤ Rz(-3π/4) ├──┼──┤ Ry(π/2) ├───┼──\n",
       "           └─────────┘                                               │                          │     ┌─────────┐  │                                  │       │      └─────────┘   │    ┌─────────┐    │   ┌────────────┐ └────────────┘  │  ┌─────────────┐  ├──────────┤ └────────────┘│              │┌──┴───┴──┐  │  └────────────┘└─────────────┘  │       └───┘     └────────────┘ └────────────┘   │  └──────────────┘  │   ┌────────────┐ ┌───────┐  │                   │         │                        │    ┌──────────┐   │    ┌────────┐   │      ┌─┴─┐       ┌──────────┐    ┌────────┐  ┌─┴─┐┌──────────┐┌─┴─┐┌──────────┐     └─┬─┘      ┌───────┐                           │                │       │                                     └─────────┘   │      └─┬─┘    ├─────────┬┘    └─┬─┘     ┌────┴───┴─────┐ │           └┬────────────┬┘┌───┴───┴────┐└──────────┘└─────────────┘                  │         ┌──────────┐       └─────────────┘└─────────┘  │       ┌─┴─┐     └───────┘  │                      │               │                                    │                                       │  │  Rxx(4.8296) │├─────────┴┐   ┌────────┐                 ┌─┴─┐┌──────────┐     ┌─┴─┐┌───────────┐┌─────────┐└─────────────┘   ┌─┴─┐      └─┬─┘    └──────────────┘  │     └─┬─┘      └──────────┘  └────────┘└───┘  │  ├─────────┬┘                  ┌─┴─┐┌──────────┐┌─┴─┐    ┌─┴─┐         └─┬─┘       └─────────┘                 └───┘└──────────┘└─┬─┘└───────────┘  │  ├─────────┤   │  \n",
       "q_4 -> 4 ────────────────────────────────────────────────────────────■──────────────────────────■─────┤ Rz(π/4) ├──┼──────────────────────────────────■───────┼────────────────────■────┤ Ry(π/2) ├────■───┤ Ry(2.8058) ├─────────────────■──┤ Rz(-2.0472) ├──┤ Ry(-π/2) ├───────────────┤1             ├┤ Rz(π/2) ├──┼─────────────────────────────────┼─────────────────────────────────────────────────┼────────────────────■───┤ Rz(1.4025) ├─┤ Ry(π) ├──┼───────────────────■─────────┼────────────────────────■────┤ Ry(-π/2) ├───┼────┤ Rz(-π) ├───┼──────┤ X ├───────┤ Ry(-π/2) ├────┤ Rz(-π) ├──┤ X ├┤ Rz(-π/4) ├┤ X ├┤ Rz(3π/4) ├───────■────────┤ Rx(π) ├───────────────────────────┤                ├───────■───────────────────────────────────────────────────■────────■──────┤ Rz(π/4) ├───────■───────┤ Rz(-0.44825) ├─┼────────────┤ Ry(3.1038) ├─┤ Rz(2.0726) ├─────────────────────────────────────────────■─────────┤ Rx(-π/2) ├───────────────────────────────────┼───────┤ X ├────────────────┼──────────────────────┤               ├────────────────────────────────────┼──────────────────────■────────────────┼──┤0             ├┤ Ry(-π/2) ├───┤ Rz(-π) ├─────────────────┤ X ├┤ Rz(-π/4) ├─────┤ X ├┤ Rz(-3π/4) ├┤ Ry(π/2) ├──────────────────┤ X ├────────┼────────────────────────■───────┼───────────────────────────────────────■──┤ Rz(π/4) ├───────────────────┤ X ├┤ Rz(-π/4) ├┤ X ├────┤ X ├───────────■────────────────────────────────────────────────────────■─────────────────■──┤ Rz(π/4) ├───■──\n",
       "         ┌─────────────┐┌───────────┐┌─────────────┐                                                  └─────────┘┌─┴─┐  ┌──────────┐   ┌─────────┐          ┌─┴─┐    ┌──────────┐       └─────────┘        └────────────┘                    └─────────────┘  └──────────┘               └──────────────┘└─────────┘  │                                 │    ┌──────────┐ ┌────────────┐                  │                        └────────────┘ └───────┘  │  ┌─────────────┐            │                             └──────────┘   │    └────────┘   │ ┌────┴───┴────┐  └┬────────┬┘    └────────┘  └───┘└──────────┘└───┘└──────────┘                └───────┘                           │                │┌─────────────┐┌────────────┐┌──────────────┐                              └─────────┘               └──────────────┘ │ZZ(1.1107)  ├────────────┤ ├────────────┤                                                       └──────────┘                                   │       └───┘                │   ┌────────────┐     │               │  ┌──────────┐ ┌───────────┐      ┌─┴─┐      ┌──────────┐┌─┴─┐┌─────────┐ ┌─┴─┐└─┬──────────┬─┘└┬───────┬─┘   └────────┘                 └───┘└──────────┘     └───┘└───────────┘└─────────┘                  └───┘        │                                │      ┌─────────────┐                     └─────────┘                   └───┘└──────────┘└───┘    └───┘                                                                                         └─────────┘      \n",
       "q_5 -> 5 ┤ Rz(-3.1159) ├┤ Ry(1.656) ├┤ Rz(0.58629) ├─────────────────────────────────────────────────────────────┤ X ├──┤ Ry(-π/2) ├───┤ Rz(π/2) ├──────────┤ X ├────┤ Rz(3π/4) ├─────────────────────────────────────────────────────────────────────────────────────────────────────────────────────────────────────■─────────────────────────────────■────┤ Rx(-π/2) ├─┤ Rz(1.7868) ├──────────────────■──────────────────────────────────────────────────■──┤ Rz(-2.4875) ├────────────■────────────────────────────────────────────■─────────────────X─┤ Ry(-1.4281) ├───┤ Rz(-π) ├───────────────────────────────────────────────────────────────────────────────────────────────────────┤0               ├┤ Rz(-1.4692) ├┤ Ry(1.3781) ├┤ Rz(-0.21319) ├─────────────────────────────────────────────────────────────────────────■────────────┤ Rx(2.6126) ├─┤ Rz(1.0897) ├──────────────────────────────────────────────────────────────────────────────────────────────────────■────────────────────────────■───┤ Rx(1.5416) ├─────┤1              ├──┤ Ry(-π/2) ├─┤ Rz(-3π/4) ├──────┤ X ├──────┤ Rz(-π/4) ├┤ X ├┤ Rz(π/4) ├─┤ X ├──┤ Rz(-π/4) ├───┤ Ry(π) ├──────────────────────────────────────────────────────────────────────────────────────────────────────────────────■────────────────────────────────■──────┤ Rx(-3.0231) ├────────────────────────────────────────────────────────────────────────────────────────────────────────────────────────────────────────────────────────────────────────────────────────────\n",
       "         └─────────────┘└───────────┘└─────────────┘                                                             └───┘  └──────────┘   └─────────┘          └───┘    └──────────┘                                                                                                                                                                            └──────────┘ └────────────┘                                                                        └─────────────┘                                                                             └─────────────┘   └────────┘                                                                                                       └────────────────┘└─────────────┘└────────────┘└──────────────┘                                                                                      └────────────┘ └────────────┘                                                                                                                                       └────────────┘     └───────────────┘  └──────────┘ └───────────┘      └───┘      └──────────┘└───┘└─────────┘ └───┘  └──────────┘   └───────┘                                                                                                                                                          └─────────────┘                                                                                                                                                                                            "
      ]
     },
     "execution_count": 13,
     "metadata": {},
     "output_type": "execute_result"
    }
   ],
   "source": [
    "transpiled_circuit = transpile(circuit, backend=ionq_device, seed_transpiler=42)\n",
    "transpiled_circuit.draw(idle_wires=False, fold=-1)"
   ]
  },
  {
   "attachments": {},
   "cell_type": "markdown",
   "id": "c698ffb1",
   "metadata": {},
   "source": [
    "We can run our circuit and get job object back, which will store information about execution: job id, status of job and results when it will be available"
   ]
  },
  {
   "cell_type": "code",
   "execution_count": null,
   "id": "dfad043a",
   "metadata": {
    "slideshow": {
     "slide_type": "slide"
    }
   },
   "outputs": [],
   "source": [
    "ionq_job = ionq_device.run(transpiled_circuit, shots=10)\n",
    "ionq_job.job_id()"
   ]
  },
  {
   "attachments": {},
   "cell_type": "markdown",
   "id": "1c129b43",
   "metadata": {},
   "source": [
    "If we do not want to wait for a job completion and return to it later, we can use `retrieve_job` method on device to get job object"
   ]
  },
  {
   "cell_type": "code",
   "execution_count": 15,
   "id": "34787aad",
   "metadata": {},
   "outputs": [
    {
     "data": {
      "text/plain": [
       "<qiskit_braket_provider.providers.braket_job.AmazonBraketTask at 0x13cd4bcd0>"
      ]
     },
     "execution_count": 15,
     "metadata": {},
     "output_type": "execute_result"
    }
   ],
   "source": [
    "retrieved_job = ionq_device.retrieve_job(task_id=\"<TASK_ARN>\")\n",
    "retrieved_job"
   ]
  },
  {
   "attachments": {},
   "cell_type": "markdown",
   "id": "d28a2001",
   "metadata": {},
   "source": [
    "Check status"
   ]
  },
  {
   "cell_type": "code",
   "execution_count": 16,
   "id": "764d4828",
   "metadata": {},
   "outputs": [
    {
     "data": {
      "text/plain": [
       "<JobStatus.DONE: 'job has successfully run'>"
      ]
     },
     "execution_count": 16,
     "metadata": {},
     "output_type": "execute_result"
    }
   ],
   "source": [
    "retrieved_job.status()"
   ]
  },
  {
   "attachments": {},
   "cell_type": "markdown",
   "id": "6ce860f0",
   "metadata": {},
   "source": [
    "And plot histogram of results"
   ]
  },
  {
   "cell_type": "code",
   "execution_count": 17,
   "id": "4a8a8760",
   "metadata": {},
   "outputs": [
    {
     "data": {
      "image/png": "[encoded data removed]",
      "text/plain": [
       "<Figure size 700x500 with 1 Axes>"
      ]
     },
     "execution_count": 17,
     "metadata": {},
     "output_type": "execute_result"
    }
   ],
   "source": [
    "plot_histogram(retrieved_job.result().get_counts())"
   ]
  },
  {
   "attachments": {},
   "cell_type": "markdown",
   "id": "939ec324",
   "metadata": {
    "slideshow": {
     "slide_type": "slide"
    }
   },
   "source": [
    "### Running algorithms\n",
    "\n",
    "Let's review an example of running algorithms using Qiskit on Braket devices.\n",
    "\n",
    "Qiskit provides a number of Algorithms and they are grouped by category according to the task they can perform. For instance Minimum Eigensolvers to find the smallest eigen value of an operator, for example ground state energy of a chemistry Hamiltonian or a solution to an optimization problem when expressed as an Ising Hamiltonian.\n",
    "\n",
    "Algorithms are configurable and often part of the configuration will be in the form of smaller building blocks, of which different instances of the building block type can be given. For instance with `VQE`, the Variational Quantum Eigensolver, it takes a trial wavefunction, in the form of a `QuantumCircuit` and a classical optimizer among other things.\n",
    "\n",
    "Let’s take a look at an example to construct a VQE instance. Here `TwoLocal` is the variational form (trial wavefunction), a parameterized circuit which can be varied, and SLSQP a classical optimizer. Then we pass hamiltonian to `compute_minimum_eigenvalue` method of `VQE` to get result.\n",
    "\n",
    "Full example and explanation of algorithm detail you can find [here](https://qiskit.org/documentation/tutorials/algorithms/01_algorithms_introduction.html#An-Introduction-to-Algorithms-in-Qiskit).\n",
    "\n"
   ]
  },
  {
   "cell_type": "code",
   "execution_count": 18,
   "id": "02ad6d3e",
   "metadata": {},
   "outputs": [
    {
     "name": "stdout",
     "output_type": "stream",
     "text": [
      "{   'aux_operators_evaluated': None,\n",
      "    'cost_function_evals': 9,\n",
      "    'eigenvalue': -1.4272080711283344,\n",
      "    'optimal_circuit': <qiskit.circuit.library.n_local.two_local.TwoLocal object at 0x13798f690>,\n",
      "    'optimal_parameters': {   ParameterVectorElement(θ[0]): 1.054197452954356,\n",
      "                              ParameterVectorElement(θ[1]): 2.759415645946344,\n",
      "                              ParameterVectorElement(θ[2]): -3.157245172580292,\n",
      "                              ParameterVectorElement(θ[3]): -1.504397646177443,\n",
      "                              ParameterVectorElement(θ[4]): -0.8460982537780612,\n",
      "                              ParameterVectorElement(θ[5]): 3.3343214671170145,\n",
      "                              ParameterVectorElement(θ[6]): 3.4110127659318756,\n",
      "                              ParameterVectorElement(θ[7]): -5.015554393329303},\n",
      "    'optimal_point': array([ 1.05419745,  2.75941565, -3.15724517, -1.50439765, -0.84609825,\n",
      "        3.33432147,  3.41101277, -5.01555439]),\n",
      "    'optimal_value': -1.4272080711283344,\n",
      "    'optimizer_evals': None,\n",
      "    'optimizer_result': <qiskit_algorithms.optimizers.optimizer.OptimizerResult object at 0x13c8bc050>,\n",
      "    'optimizer_time': 3.5380678176879883}\n"
     ]
    }
   ],
   "source": [
    "H2_op = SparsePauliOp(\n",
    "    [\"II\", \"IZ\", \"ZI\", \"ZZ\", \"XX\"],\n",
    "    coeffs=[\n",
    "        -1.052373245772859,\n",
    "        0.39793742484318045,\n",
    "        -0.39793742484318045,\n",
    "        -0.01128010425623538,\n",
    "        0.18093119978423156,\n",
    "    ],\n",
    ")\n",
    "\n",
    "estimator = BackendEstimator(local_simulator, skip_transpilation=False)\n",
    "ansatz = TwoLocal(rotation_blocks=\"ry\", entanglement_blocks=\"cz\")\n",
    "slsqp = SLSQP(maxiter=1)\n",
    "\n",
    "vqe = VQE(estimator=estimator, ansatz=ansatz, optimizer=slsqp)\n",
    "\n",
    "result = vqe.compute_minimum_eigenvalue(H2_op)\n",
    "print(result)"
   ]
  },
  {
   "attachments": {},
   "cell_type": "markdown",
   "id": "86c36457",
   "metadata": {
    "slideshow": {
     "slide_type": "slide"
    }
   },
   "source": [
    "### Running Hybrid Jobs\n",
    "\n",
    "Amazon Braket Hybrid Jobs enables you to easily run hybrid quantum-classical algorithms, such as the Variational Quantum Eigensolver (VQE) and the Quantum Approximate Optimization Algorithm (QAOA), that combine classical compute resources with quantum computing devices to optimize the performance of today’s quantum systems. \n",
    "\n",
    "In order to run Hybrid Job we need to acomplish couple of step:\n",
    "\n",
    "1. Prepare script"
   ]
  },
  {
   "cell_type": "code",
   "execution_count": 1,
   "id": "5968d451",
   "metadata": {},
   "outputs": [
    {
     "name": "stdout",
     "output_type": "stream",
     "text": [
      "\"\"\"Example of Hybrid Job payload with VQE.\"\"\"\n",
      "from braket.jobs import save_job_result\n",
      "from qiskit.quantum_info import SparsePauliOp\n",
      "from qiskit.algorithms.minimum_eigensolvers import VQE\n",
      "from qiskit.algorithms.optimizers import SLSQP\n",
      "from qiskit.circuit.library import TwoLocal\n",
      "from qiskit.primitives import BackendEstimator\n",
      "\n",
      "from qiskit_braket_provider import AWSBraketProvider\n",
      "\n",
      "\n",
      "def main():\n",
      "    backend = AWSBraketProvider().get_backend(\"SV1\")\n",
      "\n",
      "    h2_op = SparsePauliOp(\n",
      "        [\"II\", \"IZ\", \"ZI\", \"ZZ\", \"XX\"],\n",
      "        coeffs=[\n",
      "            -1.052373245772859,\n",
      "            0.39793742484318045,\n",
      "            -0.39793742484318045,\n",
      "            -0.01128010425623538,\n",
      "            0.18093119978423156,\n",
      "        ],\n",
      "    )\n",
      "\n",
      "    estimator = BackendEstimator(\n",
      "        backend=backend,\n",
      "        options={\"seed_simulator\": 42, \"seed_transpiler\": 42, \"shots\": 10},\n",
      "        skip_transpilation=False,\n",
      "    )\n",
      "    ansatz = TwoLocal(rotation_blocks=\"ry\", entanglement_blocks=\"cz\")\n",
      "    slsqp = SLSQP(maxiter=1)\n",
      "\n",
      "    vqe = VQE(estimator=estimator, ansatz=ansatz, optimizer=slsqp)\n",
      "\n",
      "    vqe_result = vqe.compute_minimum_eigenvalue(h2_op)\n",
      "\n",
      "    save_job_result(\n",
      "        {\n",
      "            \"VQE\": {\n",
      "                \"eigenvalue\": vqe_result.eigenvalue.real,\n",
      "                \"optimal_parameters\": list(vqe_result.optimal_parameters.values()),\n",
      "                \"optimal_point\": vqe_result.optimal_point.tolist(),\n",
      "                \"optimal_value\": vqe_result.optimal_value.real,\n",
      "            }\n",
      "        }\n",
      "    )\n"
     ]
    }
   ],
   "source": [
    "! cat ./data/2_hybrid_jobs/job_script.py"
   ]
  },
  {
   "attachments": {},
   "cell_type": "markdown",
   "id": "9b1aa5f7",
   "metadata": {
    "slideshow": {
     "slide_type": "slide"
    }
   },
   "source": [
    "2. Prepare image"
   ]
  },
  {
   "cell_type": "code",
   "execution_count": 20,
   "id": "646bfb43",
   "metadata": {
    "slideshow": {
     "slide_type": "-"
    }
   },
   "outputs": [
    {
     "name": "stdout",
     "output_type": "stream",
     "text": [
      "FROM 292282985366.dkr.ecr.us-west-2.amazonaws.com/amazon-braket-base-jobs:1.0-cpu-py37-ubuntu18.04\n",
      "\n",
      "RUN python3 -m pip install --upgrade pip\n",
      "\n",
      "RUN python3 -m pip install --no-cache --upgrade git+https://github.com/qiskit-community/qiskit-braket-provider\n"
     ]
    }
   ],
   "source": [
    "! cat ./data/2_hybrid_jobs/Dockerfile"
   ]
  },
  {
   "attachments": {},
   "cell_type": "markdown",
   "id": "1bcded1f",
   "metadata": {},
   "source": [
    "3. Run Hybrid Job"
   ]
  },
  {
   "cell_type": "code",
   "execution_count": 31,
   "id": "55cd14e3",
   "metadata": {
    "slideshow": {
     "slide_type": "slide"
    }
   },
   "outputs": [],
   "source": [
    "image_uri = \"<ACCOUNT_ID>.dkr.ecr.<AWS_REGION>.amazonaws.com/amazon-braket-qiskit-provider:latest\"\n",
    "\n",
    "job = AwsQuantumJob.create(\n",
    "    device=\"arn:aws:braket:::device/quantum-simulator/amazon/sv1\",\n",
    "    source_module=\"data/2_hybrid_jobs/job_script.py\",\n",
    "    entry_point=\"job_script:main\",\n",
    "    wait_until_complete=False,\n",
    "    job_name=\"qiskit-braket-vqe\",\n",
    "    image_uri=image_uri,\n",
    ")"
   ]
  },
  {
   "cell_type": "code",
   "execution_count": 27,
   "id": "1ec1b936",
   "metadata": {
    "slideshow": {
     "slide_type": "slide"
    }
   },
   "outputs": [
    {
     "data": {
      "text/plain": [
       "{}"
      ]
     },
     "execution_count": 27,
     "metadata": {},
     "output_type": "execute_result"
    }
   ],
   "source": [
    "# print(job.result())\n",
    "AwsQuantumJob(\"<JOB_ARN>\").result()"
   ]
  }
 ],
 "metadata": {
  "kernelspec": {
   "display_name": "Python 3 (ipykernel)",
   "language": "python",
   "name": "python3"
  },
  "language_info": {
   "codemirror_mode": {
    "name": "ipython",
    "version": 3
   },
   "file_extension": ".py",
   "mimetype": "text/x-python",
   "name": "python",
   "nbconvert_exporter": "python",
   "pygments_lexer": "ipython3",
   "version": "3.11.4"
  }
 },
 "nbformat": 4,
 "nbformat_minor": 5
}
