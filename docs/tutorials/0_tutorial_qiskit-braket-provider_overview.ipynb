{
 "cells": [
  {
   "cell_type": "markdown",
   "id": "dfb19657",
   "metadata": {
    "slideshow": {
     "slide_type": "slide"
    }
   },
   "source": [
    "# Tutorial: Qiskit-Braket provider overview"
   ]
  },
  {
   "cell_type": "markdown",
   "id": "a95fc7c5",
   "metadata": {
    "slideshow": {
     "slide_type": "slide"
    }
   },
   "source": [
    "### Qiskit to Braket mapping"
   ]
  },
  {
   "cell_type": "markdown",
   "id": "447c275b",
   "metadata": {
    "slideshow": {
     "slide_type": "-"
    }
   },
   "source": [
    "![qiskit-to-braket-diagram](./data/qiskit-braket-mapping.png)"
   ]
  },
  {
   "cell_type": "code",
   "execution_count": 2,
   "id": "8ab8a5f0",
   "metadata": {},
   "outputs": [],
   "source": [
    "# pip install qiskit_braket_provider"
   ]
  },
  {
   "cell_type": "markdown",
   "id": "04160f91",
   "metadata": {},
   "source": [
    "---------------\n",
    "\n",
    "Import all required classes and functions for this overview"
   ]
  },
  {
   "cell_type": "code",
   "execution_count": 21,
   "id": "5339c690",
   "metadata": {},
   "outputs": [],
   "source": [
    "from qiskit.algorithms import VQE\n",
    "from qiskit.opflow import (\n",
    "    I,\n",
    "    X,\n",
    "    Z,\n",
    ")\n",
    "from qiskit import transpile, QuantumCircuit\n",
    "from qiskit.circuit.random import random_circuit\n",
    "from qiskit.visualization import plot_histogram\n",
    "from qiskit.algorithms.optimizers import SLSQP\n",
    "from qiskit.circuit.library import TwoLocal\n",
    "from qiskit.utils import QuantumInstance\n",
    "\n",
    "from braket.aws import AwsQuantumJob\n",
    "\n",
    "from qiskit_braket_provider import AWSBraketProvider, BraketLocalBackend"
   ]
  },
  {
   "cell_type": "markdown",
   "id": "6fea9c62",
   "metadata": {
    "slideshow": {
     "slide_type": "slide"
    }
   },
   "source": [
    "### Access Braket devices from Qiskit \n",
    "\n",
    "`AWSBraketProvider` class gives you a method `backends` to access backends that are available through Braket SDK."
   ]
  },
  {
   "cell_type": "markdown",
   "id": "a59c288b",
   "metadata": {},
   "source": [
    "Let's get available devices to use by Qiskit"
   ]
  },
  {
   "cell_type": "code",
   "execution_count": 4,
   "id": "2b47da63",
   "metadata": {
    "slideshow": {
     "slide_type": "-"
    }
   },
   "outputs": [
    {
     "data": {
      "text/plain": [
       "[BraketBackend[Aspen-10],\n",
       " BraketBackend[Aspen-11],\n",
       " BraketBackend[Aspen-8],\n",
       " BraketBackend[Aspen-9],\n",
       " BraketBackend[Aspen-M-1],\n",
       " BraketBackend[IonQ Device],\n",
       " BraketBackend[Lucy],\n",
       " BraketBackend[SV1],\n",
       " BraketBackend[TN1],\n",
       " BraketBackend[dm1]]"
      ]
     },
     "execution_count": 4,
     "metadata": {},
     "output_type": "execute_result"
    }
   ],
   "source": [
    "provider = AWSBraketProvider()\n",
    "backends = provider.backends()\n",
    "backends"
   ]
  },
  {
   "cell_type": "markdown",
   "id": "edbae0ee",
   "metadata": {},
   "source": [
    "For prototyping it is usually a good practice to use simulators \n",
    "to set up workflow of your program and then change it to real device.\n",
    "We can access local simulator by creating instance of class `BraketLocalBackend`"
   ]
  },
  {
   "cell_type": "code",
   "execution_count": 6,
   "id": "2517f020",
   "metadata": {
    "slideshow": {
     "slide_type": "slide"
    }
   },
   "outputs": [
    {
     "data": {
      "text/plain": [
       "BraketBackend[sv_simulator]"
      ]
     },
     "execution_count": 6,
     "metadata": {},
     "output_type": "execute_result"
    }
   ],
   "source": [
    "local_simulator = BraketLocalBackend()\n",
    "local_simulator"
   ]
  },
  {
   "cell_type": "markdown",
   "id": "390c3a64",
   "metadata": {},
   "source": [
    "We also get get cloud state vector simulator by using method `get_backend` for provider."
   ]
  },
  {
   "cell_type": "code",
   "execution_count": 7,
   "id": "ad2b852f",
   "metadata": {},
   "outputs": [
    {
     "data": {
      "text/plain": [
       "BraketBackend[SV1]"
      ]
     },
     "execution_count": 7,
     "metadata": {},
     "output_type": "execute_result"
    }
   ],
   "source": [
    "aws_statevector_simulator = provider.get_backend(\"SV1\")\n",
    "aws_statevector_simulator"
   ]
  },
  {
   "cell_type": "markdown",
   "id": "e13d6409",
   "metadata": {},
   "source": [
    "Of course we can query for specific real devices "
   ]
  },
  {
   "cell_type": "code",
   "execution_count": 8,
   "id": "64a9cb24",
   "metadata": {},
   "outputs": [
    {
     "data": {
      "text/plain": [
       "(BraketBackend[IonQ Device], BraketBackend[Aspen-M-1])"
      ]
     },
     "execution_count": 8,
     "metadata": {},
     "output_type": "execute_result"
    }
   ],
   "source": [
    "ionq_device = provider.get_backend(\"IonQ Device\")\n",
    "rigetti_device = provider.get_backend(\"Aspen-M-1\")\n",
    "\n",
    "ionq_device, rigetti_device"
   ]
  },
  {
   "cell_type": "markdown",
   "id": "cf366038",
   "metadata": {},
   "source": [
    "And if you want to explore what is available by specific contraints, \n",
    "you can specify query arguments to `backends` method of provider.\n",
    "Arguments are fully compatible with Braket's `get_device` method. See full doc [here](https://amazon-braket-sdk-python.readthedocs.io/en/stable/_apidoc/braket.aws.aws_device.html#braket.aws.aws_device.AwsDevice.get_devices)."
   ]
  },
  {
   "cell_type": "code",
   "execution_count": 9,
   "id": "e182e1a4",
   "metadata": {},
   "outputs": [
    {
     "data": {
      "text/plain": [
       "[BraketBackend[SV1], BraketBackend[TN1], BraketBackend[dm1]]"
      ]
     },
     "execution_count": 9,
     "metadata": {},
     "output_type": "execute_result"
    }
   ],
   "source": [
    "online_simulators_backends = provider.backends(statuses=[\"ONLINE\"], types=[\"SIMULATOR\"])\n",
    "online_simulators_backends"
   ]
  },
  {
   "cell_type": "markdown",
   "id": "e91eeeee",
   "metadata": {
    "slideshow": {
     "slide_type": "slide"
    }
   },
   "source": [
    "### Running circuits on AWS devices\n",
    "\n"
   ]
  },
  {
   "cell_type": "markdown",
   "id": "137ae345",
   "metadata": {},
   "source": [
    "Let's create circuit first. We will start with \"Hello World\" example :)"
   ]
  },
  {
   "cell_type": "code",
   "execution_count": 22,
   "id": "22d4a07a",
   "metadata": {},
   "outputs": [
    {
     "data": {
      "text/html": [
       "<pre style=\"word-wrap: normal;white-space: pre;background: #fff0;line-height: 1.1;font-family: &quot;Courier New&quot;,Courier,monospace\">     ┌───┐     \n",
       "q_0: ┤ H ├──■──\n",
       "     └───┘┌─┴─┐\n",
       "q_1: ─────┤ X ├\n",
       "          └───┘</pre>"
      ],
      "text/plain": [
       "     ┌───┐     \n",
       "q_0: ┤ H ├──■──\n",
       "     └───┘┌─┴─┐\n",
       "q_1: ─────┤ X ├\n",
       "          └───┘"
      ]
     },
     "execution_count": 22,
     "metadata": {},
     "output_type": "execute_result"
    }
   ],
   "source": [
    "qc = QuantumCircuit(2)\n",
    "qc.h(0)\n",
    "qc.cx(0, 1)\n",
    "qc.draw()"
   ]
  },
  {
   "cell_type": "markdown",
   "id": "512cfd00",
   "metadata": {},
   "source": [
    "Run job agains selected device"
   ]
  },
  {
   "cell_type": "code",
   "execution_count": 25,
   "id": "d00d454c",
   "metadata": {},
   "outputs": [
    {
     "data": {
      "text/plain": [
       "<qiskit_braket_provider.providers.braket_job.AWSBraketJob at 0x7f9c181ccdd0>"
      ]
     },
     "execution_count": 25,
     "metadata": {},
     "output_type": "execute_result"
    }
   ],
   "source": [
    "job = aws_statevector_simulator.run(qc, shots=10)\n",
    "job"
   ]
  },
  {
   "cell_type": "markdown",
   "id": "851eab0e",
   "metadata": {},
   "source": [
    "Plot histogram"
   ]
  },
  {
   "cell_type": "code",
   "execution_count": 27,
   "id": "b653ca31",
   "metadata": {},
   "outputs": [
    {
     "data": {
      "image/png": "[encoded data removed]",
      "text/plain": [
       "<Figure size 700x500 with 1 Axes>"
      ]
     },
     "execution_count": 27,
     "metadata": {},
     "output_type": "execute_result"
    }
   ],
   "source": [
    "plot_histogram(job.result().get_counts())"
   ]
  },
  {
   "cell_type": "markdown",
   "id": "d48764e8",
   "metadata": {},
   "source": [
    "Now it's time to run more complex circuits on devices we got in previous paragraphs.\n",
    "\n",
    "We will start with generating random circuit and printing it out."
   ]
  },
  {
   "cell_type": "code",
   "execution_count": 10,
   "id": "2d278880",
   "metadata": {},
   "outputs": [
    {
     "data": {
      "text/html": [
       "<pre style=\"word-wrap: normal;white-space: pre;background: #fff0;line-height: 1.1;font-family: &quot;Courier New&quot;,Courier,monospace\">        ┌───┐        ┌───┐                                          ┌──────────────────────────┐┌──────────────┐                                                                                                   ┌─────────────┐    ┌───┐                                                                                           ┌───────────────────┐┌────────────┐┌────────────┐                                                                     \n",
       "q_0: ───┤ T ├────────┤ S ├───────────────────X───■───────────■──────┤ U3(4.2086,2.7467,5.2319) ├┤ Rx(0.046259) ├──────────────────────────────────■────────────────────────────────────────X───────────■───────────┤ Ry(0.95701) ├────┤ Y ├───────■─────────■─────────────────────────────────────────■───────────────────────■───────┤ U2(3.0304,4.9181) ├┤ Rz(1.6775) ├┤ U1(4.2238) ├────────────────────────────────────────────────────────■────────────\n",
       "     ┌──┴───┴───┐    └───┘                   │ ┌─┴─┐         │      └──────────────────────────┘└──────────────┘┌─────┐┌────────────────────────┐ │           ┌──────────────────────────┐ │           │           └┬────────────┤    └───┘       │         │             ┌───┐                       │                       │       └───────────────────┘└─────┬──────┘└────────────┘┌─────┐                             ┌────────────┐      │            \n",
       "q_1: ┤ U1(6.13) ├────────────────────X───────X─┤ X ├─────────┼───────────────────X─────────────────────X────────┤ Tdg ├┤ U3(2.96,3.5515,4.8066) ├─┼───────────┤ U3(0.36633,1.768,1.8447) ├─┼───────────■────────────┤ Rz(2.8033) ├─■──────────────┼────■────┼─────────────┤ T ├───────────────────■───┼───────────────────────■─────────────────■────────────────┼─────────────■───────┤ Sdg ├─────────────────────────────┤ Rz(5.2137) ├──────┼────────────\n",
       "     └──────────┘┌────────────┐      │       │ └─┬─┘         │                   │                     │        ├─────┤└───────────┬────────────┘ │U1(3.4782) └──────────┬───┬───────────┘ │         ┌─┴─┐          └─────┬──────┘ │ZZ(0.74145)   │    │    │  ┌──────────┴───┴───────────┐┌───┐  │   │                       │                 │                │           ┌─┴─┐     └┬───┬┘                             └─────┬──────┘      │            \n",
       "q_2: ─────X──────┤ Ry(4.0455) ├──────┼───■───┼───┼───■───────┼───────────────────X─────────────────────X────────┤ Sdg ├────────────┼──────────────■──────────────────────┤ Z ├─────────────┼─────────┤ X ├────────────────■────────■──────────────┼────■────┼──┤ U3(1.9224,3.6393,1.1107) ├┤ Y ├──┼───┼─────────────■─────────┼─────────────────■────────────────┼───────────┤ X ├──────┤ X ├────────────────────────────────────┼─────────────┼─────────■──\n",
       "          │      └───┬───┬────┘      │   │   │   │   │       │                   │                   ┌───┐      ├─────┤            │                 ┌───┐               └───┘             │         ├───┤              ┌───┐                     │  ┌─┴─┐  │  └──────────────────────────┘└─┬─┘  │   │           ┌─┴─┐       │                                  │           └─┬─┘      └───┘ ┌───────────────────────────┐      │             │       ┌─┴─┐\n",
       "q_3: ─────┼──────────┤ T ├───────■───┼───┼───■───┼───X───────┼───────────────────■───────────────────┤ X ├──────┤ Tdg ├────────────■─────────────────┤ Z ├─────────────────────────────────┼─────────┤ H ├──────────────┤ X ├───────────■─────────┼──┤ X ├──■────────────────────────────────■────┼───┼───────────┤ Y ├───────┼─────────────────■────────────────■─────────────┼──────────────┤ U3(4.8296,0.67696,5.7555) ├──────┼─────────────┼───────┤ Y ├\n",
       "          │          └───┘       │   │ ┌─┴─┐     │   │     ┌─┴─┐               ┌───┐                 └───┘      ├─────┤                              └───┘                                 │         └─┬─┘              └─┬─┘           │       ┌─┴─┐└───┘┌─┴─┐                                 ┌─┴─┐ │           └───┘     ┌─┴─┐         ┌─────┴──────┐       ┌───┐           │        ┌───┐ └─────────────┬─────────────┘      │       ┌─────┴──────┐└───┘\n",
       "q_4: ─────■──────────────────────┼───X─┤ X ├─────■───┼─────┤ Y ├───────────────┤ T ├──────────────■─────────────┤ Tdg ├────────────────────────────────────────────────────────────────────■───────────■──────────────────■─────────────■───────┤ X ├─────┤ X ├─────────────────────────────────┤ X ├─┼─────────────────────┤ X ├─────────┤ Rz(3.7128) ├───────┤ S ├───────────┼────────┤ S ├───────────────┼────────────────────┼───────┤ Rz(1.9926) ├─────\n",
       "          │                    ┌─┴─┐   └─┬─┘         │ ┌───┴───┴───┐           ├───┤              │ZZ(4.2882)   └┬───┬┘                                                                    │ ┌────────────────────┐       │           ┌─┴─┐     └─┬─┘┌───┐└───┘                                 └───┘ │U1(2.6126) ┌───┐┌────┴───┴────┐    └────────────┘       └───┘           │        └───┘               │                    │       └────────────┘     \n",
       "q_5: ─────X────────────────────┤ H ├─────■───────────X─┤ Ry(6.079) ├───────────┤ Z ├──────────────■──────────────┤ S ├─────────────────────────────────────────────────────────────────────X─┤ U2(0.1427,0.56579) ├───────■───────────┤ X ├───────■──┤ Z ├────────────────────────────────────────────■───────────┤ X ├┤ Rz(0.51981) ├─────────────────────────────────────────■────────────────────────────■────────────────────■──────────────────────────\n",
       "                               └───┘                   └───────────┘           └───┘                             └───┘                                                                       └────────────────────┘                   └───┘          └───┘                                                        └───┘└─────────────┘                                                                                                                      </pre>"
      ],
      "text/plain": [
       "        ┌───┐        ┌───┐                                          ┌──────────────────────────┐┌──────────────┐                                                                                                   ┌─────────────┐    ┌───┐                                                                                           ┌───────────────────┐┌────────────┐┌────────────┐                                                                     \n",
       "q_0: ───┤ T ├────────┤ S ├───────────────────X───■───────────■──────┤ U3(4.2086,2.7467,5.2319) ├┤ Rx(0.046259) ├──────────────────────────────────■────────────────────────────────────────X───────────■───────────┤ Ry(0.95701) ├────┤ Y ├───────■─────────■─────────────────────────────────────────■───────────────────────■───────┤ U2(3.0304,4.9181) ├┤ Rz(1.6775) ├┤ U1(4.2238) ├────────────────────────────────────────────────────────■────────────\n",
       "     ┌──┴───┴───┐    └───┘                   │ ┌─┴─┐         │      └──────────────────────────┘└──────────────┘┌─────┐┌────────────────────────┐ │           ┌──────────────────────────┐ │           │           └┬────────────┤    └───┘       │         │             ┌───┐                       │                       │       └───────────────────┘└─────┬──────┘└────────────┘┌─────┐                             ┌────────────┐      │            \n",
       "q_1: ┤ U1(6.13) ├────────────────────X───────X─┤ X ├─────────┼───────────────────X─────────────────────X────────┤ Tdg ├┤ U3(2.96,3.5515,4.8066) ├─┼───────────┤ U3(0.36633,1.768,1.8447) ├─┼───────────■────────────┤ Rz(2.8033) ├─■──────────────┼────■────┼─────────────┤ T ├───────────────────■───┼───────────────────────■─────────────────■────────────────┼─────────────■───────┤ Sdg ├─────────────────────────────┤ Rz(5.2137) ├──────┼────────────\n",
       "     └──────────┘┌────────────┐      │       │ └─┬─┘         │                   │                     │        ├─────┤└───────────┬────────────┘ │U1(3.4782) └──────────┬───┬───────────┘ │         ┌─┴─┐          └─────┬──────┘ │ZZ(0.74145)   │    │    │  ┌──────────┴───┴───────────┐┌───┐  │   │                       │                 │                │           ┌─┴─┐     └┬───┬┘                             └─────┬──────┘      │            \n",
       "q_2: ─────X──────┤ Ry(4.0455) ├──────┼───■───┼───┼───■───────┼───────────────────X─────────────────────X────────┤ Sdg ├────────────┼──────────────■──────────────────────┤ Z ├─────────────┼─────────┤ X ├────────────────■────────■──────────────┼────■────┼──┤ U3(1.9224,3.6393,1.1107) ├┤ Y ├──┼───┼─────────────■─────────┼─────────────────■────────────────┼───────────┤ X ├──────┤ X ├────────────────────────────────────┼─────────────┼─────────■──\n",
       "          │      └───┬───┬────┘      │   │   │   │   │       │                   │                   ┌───┐      ├─────┤            │                 ┌───┐               └───┘             │         ├───┤              ┌───┐                     │  ┌─┴─┐  │  └──────────────────────────┘└─┬─┘  │   │           ┌─┴─┐       │                                  │           └─┬─┘      └───┘ ┌───────────────────────────┐      │             │       ┌─┴─┐\n",
       "q_3: ─────┼──────────┤ T ├───────■───┼───┼───■───┼───X───────┼───────────────────■───────────────────┤ X ├──────┤ Tdg ├────────────■─────────────────┤ Z ├─────────────────────────────────┼─────────┤ H ├──────────────┤ X ├───────────■─────────┼──┤ X ├──■────────────────────────────────■────┼───┼───────────┤ Y ├───────┼─────────────────■────────────────■─────────────┼──────────────┤ U3(4.8296,0.67696,5.7555) ├──────┼─────────────┼───────┤ Y ├\n",
       "          │          └───┘       │   │ ┌─┴─┐     │   │     ┌─┴─┐               ┌───┐                 └───┘      ├─────┤                              └───┘                                 │         └─┬─┘              └─┬─┘           │       ┌─┴─┐└───┘┌─┴─┐                                 ┌─┴─┐ │           └───┘     ┌─┴─┐         ┌─────┴──────┐       ┌───┐           │        ┌───┐ └─────────────┬─────────────┘      │       ┌─────┴──────┐└───┘\n",
       "q_4: ─────■──────────────────────┼───X─┤ X ├─────■───┼─────┤ Y ├───────────────┤ T ├──────────────■─────────────┤ Tdg ├────────────────────────────────────────────────────────────────────■───────────■──────────────────■─────────────■───────┤ X ├─────┤ X ├─────────────────────────────────┤ X ├─┼─────────────────────┤ X ├─────────┤ Rz(3.7128) ├───────┤ S ├───────────┼────────┤ S ├───────────────┼────────────────────┼───────┤ Rz(1.9926) ├─────\n",
       "          │                    ┌─┴─┐   └─┬─┘         │ ┌───┴───┴───┐           ├───┤              │ZZ(4.2882)   └┬───┬┘                                                                    │ ┌────────────────────┐       │           ┌─┴─┐     └─┬─┘┌───┐└───┘                                 └───┘ │U1(2.6126) ┌───┐┌────┴───┴────┐    └────────────┘       └───┘           │        └───┘               │                    │       └────────────┘     \n",
       "q_5: ─────X────────────────────┤ H ├─────■───────────X─┤ Ry(6.079) ├───────────┤ Z ├──────────────■──────────────┤ S ├─────────────────────────────────────────────────────────────────────X─┤ U2(0.1427,0.56579) ├───────■───────────┤ X ├───────■──┤ Z ├────────────────────────────────────────────■───────────┤ X ├┤ Rz(0.51981) ├─────────────────────────────────────────■────────────────────────────■────────────────────■──────────────────────────\n",
       "                               └───┘                   └───────────┘           └───┘                             └───┘                                                                       └────────────────────┘                   └───┘          └───┘                                                        └───┘└─────────────┘                                                                                                                      "
      ]
     },
     "execution_count": 10,
     "metadata": {},
     "output_type": "execute_result"
    }
   ],
   "source": [
    "circuit = random_circuit(6, 20, seed=42)\n",
    "circuit.draw(fold=-1)"
   ]
  },
  {
   "cell_type": "markdown",
   "id": "d9d69137",
   "metadata": {},
   "source": [
    "Here is a good point to talk about circuit transpilation. \n",
    "\n",
    "Transpilation is the process of rewriting a given input circuit \n",
    "to match the topology of a specific quantum device, and/or to optimize the \n",
    "circuit for execution on present day noisy quantum systems.\n",
    "\n",
    "Let's transpile our generated circuit agains selected device."
   ]
  },
  {
   "cell_type": "code",
   "execution_count": 11,
   "id": "51e60f77",
   "metadata": {
    "slideshow": {
     "slide_type": "slide"
    }
   },
   "outputs": [
    {
     "data": {
      "text/html": [
       "<pre style=\"word-wrap: normal;white-space: pre;background: #fff0;line-height: 1.1;font-family: &quot;Courier New&quot;,Courier,monospace\">global phase: 3.2614\n",
       "           ┌──────────┐                                                                                                       ┌───┐   ┌───┐     ┌─────┐  ┌───┐ ┌───┐ ┌───┐┌─────┐┌───┐ ┌───┐  ┌───┐                                                        ┌───┐            ┌───┐ ┌─────┐┌───┐                 ┌────────────┐┌────────────┐┌────────────┐                                                                                                                                                                                     ┌───┐                                                                   ┌───┐      ┌───┐┌─────┐┌───┐     ┌───┐                                                                                 ┌───┐          ┌─────────────┐                                                                                                                                                                                            ┌───┐                                                                     ┌───┐      ┌───┐┌─────┐┌───┐┌──────────────────────┐                                                                                                        ┌───┐                         ┌─────────────┐       ┌─────────┐       ┌─────────────┐               ┌───┐┌────────────────────────┐┌───┐┌──────────────────────┐                                                                                                                                                                                                                                \n",
       "q_0: ──────┤ Rz(3π/4) ├───────────────────────────────────────────────────────────────────────────────────────────────■───────┤ H ├───┤ X ├─────┤ Tdg ├──┤ X ├─┤ T ├─┤ X ├┤ Tdg ├┤ X ├─┤ T ├──┤ H ├────────■─────────■────────────────────────────────■────┤ T ├────────────┤ X ├─┤ Tdg ├┤ X ├──────────────■──┤ Rz(2.1395) ├┤ Ry(2.0919) ├┤ Rz(1.3684) ├─────────────────────────────────────────────────────────────────────────────────────────────────────────────────────────────■─────────────────────────────────■─────────────────────┤ X ├───────────────────────────────■───────────────────────────────■───┤ T ├──────┤ X ├┤ Tdg ├┤ X ├─────┤ X ├────────────■──────────────────────────────────────────────────────────■─────■───┤ T ├───■──────┤ Ry(-2.1846) ├─────────────────────────────────────────────────────────────────────────────────────────────────────────────────────────────────────────────■──────────────────────────■───────────────■───┤ T ├────────■──────────────────■─────────────────────────────────────■───┤ T ├──────┤ X ├┤ Tdg ├┤ X ├┤ Rz(1.30629747996744) ├───────────────────■──────────────────────────────────■─────────■──────────────────────────────■────■───┤ T ├────────────■────────────┤ Rz(-1.3651) ├───────┤ Ry(π/2) ├───────┤ Rz(-2.4141) ├───────────────┤ X ├┤ Rz(-0.838728781856755) ├┤ X ├┤ Rz(4.22380907548478) ├──────────────────────────■─────────────────────────────────────■───────────────────────────────────────────────────────────────────────────────────────────────────────────────────────────────────────────────────────────────\n",
       "     ┌─────┴──────────┴─────┐                                                                                       ┌─┴─┐     └───┘   └─┬─┘     └─────┘  └─┬─┘ └───┘ └─┬─┘└┬───┬┘└─┬─┘ ├───┤ ┌┴───┴┐┌───┐┌─┴─┐┌───┐┌─┴─┐┌─────┐          ┌───┐┌───┐ ┌─┴─┐ ┌┴───┴┐┌───┐┌───┐ └─┬─┘ └┬───┬┘└─┬─┘              │  └────────────┘└────────────┘└───┬───┬────┘                                                 ┌───┐           ┌───┐┌─────┐┌───┐     ┌───┐               ┌──────────────┐  │  ┌───┐     ┌────────────┐       │  ┌───────────┐ ┌───┐└─┬─┘┌──────────────┐┌───────────┐  │  ┌─────────────┐              │   └───┘      └─┬─┘└─────┘└─┬─┘     └─┬─┘            │                                                 ┌───┐    │   ┌─┴─┐┌┴───┴┐┌─┴─┐┌───┴─────────────┴────┐┌───┐┌───────────────────────┐ ┌───┐                                                                                                    │                          │               │   ├───┤        │      ┌───┐       │                                     │   └───┘      └─┬─┘└─────┘└─┬─┘└──────────────────────┘                   │                                  │         │                      ┌───┐   │  ┌─┴─┐┌┴───┴┐         ┌─┴─┐          └────┬───┬────┘       └──┬───┬──┘       └────┬───┬────┘               └─┬─┘└────────────────────────┘└─┬─┘└──────────────────────┘                          │                             ┌───┐   │                  ┌───┐  ┌─────┐  ┌───┐     ┌────────────┐                                                        ┌───┐┌───────────────────────┐     ┌───┐     \n",
       "q_1: ┤ Rz(6.13001602516006) ├────────────────────────────────────────────────────────────────────────────X──────────┤ X ├───────────────■──────────────────┼───────────■───┤ T ├───┼───┤ X ├─┤ Tdg ├┤ X ├┤ X ├┤ H ├┤ X ├┤ Tdg ├──────────┤ X ├┤ T ├─┤ X ├─┤ Tdg ├┤ X ├┤ T ├───┼────┤ H ├───┼────────────────┼──────────────────────────────────┤ X ├────────────────────■─────────────────────────────■───┤ T ├───────────┤ X ├┤ Tdg ├┤ X ├─────┤ X ├──────────X────┤ Rz(-0.15782) ├──┼──┤ X ├─────┤ Rz(2.1041) ├───────┼──┤ Ry(-1.48) ├─┤ X ├──┼──┤ Rz(-0.28426) ├┤ Ry(1.712) ├──┼──┤ Rz(0.87374) ├──■───────────┼────────────────┼───────────┼─────────┼──────────────┼───────────────────────────────────■─────────────┤ T ├────┼───┤ X ├┤ Tdg ├┤ X ├┤ Rz(1.40164127769636) ├┤ X ├┤ Rz(-1.40164127769636) ├─┤ X ├──■────────────────────────────────────────────────────────────────────────────────────────────■────┼─────────────────────■────┼───────■───────┼───┤ T ├───■────┼──────┤ T ├───────┼─────────────────────────────────────┼────────────────┼───────────┼─────────────■──────────────────────────■────┼──────────────────────────────────┼─────────┼──────────────────■───┤ T ├───┼──┤ X ├┤ Tdg ├─────────┤ X ├───────────────┤ H ├───────────────┤ X ├───────────────┤ H ├────────────■─────────┼──────────────────────────────┼────────────────────────────────────────────────────┼──────────────■──────────────┤ T ├───┼──────────────────┤ X ├──┤ Tdg ├──┤ X ├─────┤ Rz(1.0361) ├────────────────────────────────────────────────────────┤ X ├┤ Rz(-2.60686136104895) ├─────┤ X ├─────\n",
       "     └──────────────────────┘     ┌───┐┌───┐┌─────┐┌───┐┌───┐┌───┐┌─────┐┌───┐┌───┐ ┌───┐                │      ┌───┴───┴────┐                             │               └───┘   │   └─┬─┘ └─────┘└─┬─┘└───┘└───┘└───┘└┬───┬┘          └─┬─┘└───┘ └───┘ └─────┘└─┬─┘└───┘   │    └───┘   │                │      ┌───┐                       └─┬─┘         ┌───┐    ┌─┴─┐   ┌─────┐    ┌───┐ ┌───┐┌─┴─┐┌┴───┴┐┌───┐┌───┐└─┬─┘└┬───┬┘└─┬─┘     └─┬─┘          │    └───┬─────┬────┘┌─┴─┐└─┬─┘┌────┴────────────┴────┐┌─┴─┐├───────────┴┐└─┬─┘  │  └─┬─────────┬──┘└───────────┘  │  └─────────────┘┌─┴─┐┌─────┐  │                │           │         │            ┌─┴─┐             ┌───┐             ┌─┴─┐          ┌┴───┴┐ ┌─┴─┐ ├───┤└┬───┬┘└───┘└──────────────────────┘└─┬─┘└───────────────────────┘ └─┬─┘  │ZZ(0.74145)                                                                                 │    │             ┌───┐   │    │     ┌─┴─┐     │  ┌┴───┴┐┌─┴─┐  │  ┌───┴───┴────┐  │  ┌────────────┐┌────────────┐       │                │           │             │            ┌───┐ ┌───┐   │    │                                  │         │                  │   └───┘   │  └───┘└─────┘         └───┘               └───┘               └─┬─┘               ├───┤          ┌─┴─┐       │           ┌─────┐            │           ┌───┐                   ┌───┐            │            ┌─┴─┐           ┌┴───┴┐  │  ┌───┐┌─────────┐└─┬─┘┌─┴─────┴─┐└─┬─┘     └────────────┘                                                        └─┬─┘└───────────────────────┘     └─┬─┘     \n",
       "q_2: ──────────────────────────■──┤ H ├┤ X ├┤ Tdg ├┤ X ├┤ T ├┤ X ├┤ Tdg ├┤ X ├┤ T ├─┤ H ├────────■───────┼──────┤ Ry(4.0455) ├─────────────────────────────┼───────────■───────────┼─────┼────────────┼────■─────────■───┤ T ├───■─────────┼─────────────────■─────┼──────────┼────────────┼────■─────■─────┼──────┤ T ├───────────■─────────────■───────────┤ H ├────┤ X ├───┤ Tdg ├────┤ X ├─┤ T ├┤ X ├┤ Tdg ├┤ X ├┤ T ├──┼───┤ H ├───┼─────────■────────────X────────┤ Sdg ├─────┤ X ├──┼──┤ Rz(-1.7391209782858) ├┤ X ├┤ Rz(1.7391) ├──┼────┼────┤ Ry(π/2) ├──────────────────┼─────────────────┤ X ├┤ Tdg ├──┼────────────────┼───────────┼─────────┼────────────┤ X ├─────────────┤ T ├─────────────┤ X ├──────────┤ Tdg ├─┤ X ├─┤ T ├─┤ H ├────────────────────────────────■──────────────────────────────■────■────────────────────────────────────────────────────────────────────────────────■───────────┼────┼─────────■───┤ T ├───┼────┼─────┤ X ├─────┼──┤ Tdg ├┤ X ├──┼──┤ Rz(1.1107) ├──┼──┤ Ry(1.9224) ├┤ Rz(2.0685) ├───────┼────────────────┼───────────┼─────────────┼────────────┤ X ├─┤ S ├───┼────┼──────────────■───────────────────┼─────────┼──────────────────┼───────────┼─────────────────────────────────────────────────────────────────■─────────────────┤ H ├──────────┤ X ├───────┼───────────┤ Tdg ├────────────┼───────────┤ X ├───────────────────┤ T ├────────────┼────────────┤ X ├───────────┤ Tdg ├──┼──┤ X ├┤ Rz(π/4) ├──┼──┤ Ry(π/2) ├──┼───────────────────────────────────────────────────────────────────────────────┼─────────────────────────────■────┼───────\n",
       "              ┌───┐            │  └───┘└─┬─┘└─────┘└─┬─┘└───┘└─┬─┘└─────┘└─┬─┘└───┘ └───┘        │       │      └────────────┘                             │           │           │     │    ┌───┐   │    │         │   └───┘   │  ┌───┐  │                 │     │          │    ┌───┐   │    │   ┌─┴─┐   │     ┌┴───┴┐        ┌─┴─┐         ┌───┐         └───┘    └───┘   └─────┘    └─┬─┘ └───┘└───┘└─────┘└─┬─┘└───┘  │   ├───┤   │  ┌──────────────┐┌───────┐    └─────┘     └───┘  │  └──────────────────────┘└───┘└────────────┘  │    │    ├─────────┤    ┌──────────┐  │                 └───┘└─────┘  │                │           │  ┌───┐  │         ┌──┴───┴───┐      ┌──┴───┴───┐         └───┘          └┬───┬┘┌┴───┴┐├───┤ ├───┤ ┌───┐        ┌─────┐         ┌───┐          ┌───┐           ┌───┐                                                                 ┌───┐      ┌───┐┌─┴─┐┌─────┐┌─┴─┐  │  ┌───┐┌─┴─┐┌┴───┴┐┌─┴─┐  │     ├───┤     │  └┬───┬┘└───┘  │  └────────────┘  │  └────────────┘└────────────┘       │                │   ┌───┐   │             │            └─┬─┘┌┴───┴┐  │    │            ┌─┴─┐          ┌───┐  │         │                  │           │                                                                                   └───┘          └───┘       │           └─────┘            │           └─┬─┘          ┌────────┴───┴─────────┐  │            └───┘           └─────┘  │  └─┬─┘└─────────┘  │  └─────────┘  │                         ┌───┐┌───────────┐┌─────────────┐┌───┐┌────────────┐  │       ┌──────────────┐    ┌─┴─┐  │  ┌───┐\n",
       "q_3: ─────────┤ T ├────────────┼─────────┼───────────┼─────────┼───────────┼─────────────────────┼───────┼──────────────────────■──────────────────────────■───────────┼───────────■─────■────┤ T ├───■────┼─────────┼───────────┼──┤ X ├──┼────■────────────┼─────┼────■─────┼────┤ T ├───┼────┼───┤ X ├───┼─────┤ Tdg ├────────┤ X ├─────────┤ X ├───────────────────────────────────────■──────────────────────■─────────■───┤ T ├───■──┤ Rz(-0.25207) ├┤ Ry(π) ├───────────────────────■───────────────────────────────────────────────■────┼────┤ Rx(π/2) ├────┤ Rz(3π/4) ├──┼───────────────────────────────┼────────────────┼───────────┼──┤ X ├──┼─────────┤ Rz(-π/4) ├──────┤ Rx(-π/2) ├─────────────────────────┤ X ├─┤ Tdg ├┤ X ├─┤ T ├─┤ X ├────────┤ Tdg ├─────────┤ X ├──────────┤ T ├───────────┤ H ├──────────────────────────────────■─────────────────────■────■───┤ T ├───■──┤ H ├┤ X ├┤ Tdg ├┤ X ├──┼──┤ T ├┤ X ├┤ Tdg ├┤ X ├──┼─────┤ T ├─────┼───┤ H ├────────┼──────────────────┼──────────────────────■──────────────┼───────────■────■───┤ T ├───■─────────────┼──────────────■──┤ Sdg ├──┼────┼────────────┤ X ├──────────┤ S ├──┼─────────┼──────────────────┼───────────┼─────────────────────────────────────────────■───────────────────────────────────────■────────────────────────■──────────────────────────────■─────────────┼────────────┤ Rz(2.53925791897968) ├──┼─────────────────────────────────────┼────┼───────────────┼───────────────┼─────────────────────────┤ X ├┤ Rz(3.067) ├┤ Ry(-2.4148) ├┤ X ├┤ Ry(2.4148) ├──┼───────┤ Rz(-0.89384) ├────┤ X ├──┼──┤ S ├\n",
       "              └───┘            │         │           │         │           │        ┌───┐        │       │          ┌───┐       │                        ┌───┐┌─────┐┌─┴─┐ ┌───┐ ┌───┐┌─────┐ └───┘      ┌─┴─┐┌───┐  │   ┌───┐   │  └─┬─┘  │    │            │     │    │     │    ├───┤   │    │  ┌┴───┴┐┌─┴─┐ ┌─┴─────┴──┐     └───┘         └─┬─┘                                    ┌─────┐                                 └───┘      └──────────────┘└───────┘                                                                            │    └─────────┘    └──────────┘  │                               │                │   ┌───┐   │  └─┬─┘  │         └──────────┘      └──────────┘                         └─┬─┘ └─────┘└─┬─┘ └───┘ └─┬─┘        └─────┘         └─┬─┘          └───┘           ├───┤                                  │             ┌───┐   │  ┌─┴─┐┌┴───┴┐┌─┴─┐├───┤├───┤├─────┤└───┘┌─┴─┐├───┤├───┤├─────┤└───┘┌─┴─┐┌──┴───┴──┐  │   └───┘        │                ┌─┴─┐   ┌─────┐        ┌─┴─┐     ┌───┐┌─┴─┐┌─────┐┌─┴─┐┌───┐ ├───┤               ┌─┴─┐          ┌───┐└─────┘┌─┴─┐  │           ┌┴───┴┐         └───┘  │       ┌─┴─┐       ┌───┐  ┌─┴─┐┌─────┐┌─┴─┐┌───┐ ┌───┐ ┌──────────────────────┐     ┌─┴─┐     ┌───────────────────────┐     ┌─┴─┐     ┌─────────────┐                                               │            └──────────────────────┘┌─┴─┐┌────────────────────────┐       ┌─┴─┐  │               │               │                         └─┬─┘└───────────┘└─────────────┘└─┬─┘└────────────┘  │       └──────────────┘    └───┘  │  └───┘\n",
       "q_4: ──────────────────────────┼─────────┼───────────■─────────┼───────────■────■───┤ T ├───■────┼───────X──────────┤ H ├───────┼────────────────────────┤ X ├┤ Tdg ├┤ X ├─┤ T ├─┤ X ├┤ Tdg ├────────────┤ X ├┤ T ├──┼───┤ H ├───┼────┼────■────┼────────────┼─────■────┼─────■────┤ T ├───■────┼──┤ Sdg ├┤ X ├─┤ Rz(3π/4) ├─────────────────────┼──────────────────────────■───────────┤ Tdg ├─────────────────────────────────────────────────────────────────────────────────────────────────────────────────────────────────────────────────┼─────────────────────────────────┼───────────────────■───────────┼───────────■────■───┤ T ├───■────■────┼──────────────────────────────────────────────────────────────────┼────────────■───────────┼────────────────────────────■──────────────■─────────────┤ T ├───────■──────────────■───────────┼─────────■───┤ T ├───┼──┤ X ├┤ Tdg ├┤ X ├┤ H ├┤ X ├┤ Tdg ├─────┤ X ├┤ T ├┤ X ├┤ Tdg ├─────┤ X ├┤ Rz(π/4) ├──┼────────────────┼────────────────┤ X ├───┤ Tdg ├────────┤ X ├─────┤ T ├┤ X ├┤ Tdg ├┤ X ├┤ T ├─┤ H ├───────────────┤ X ├──────────┤ H ├───────┤ X ├──┼───────────┤ Tdg ├────────────────┼───────┤ X ├───────┤ T ├──┤ X ├┤ Tdg ├┤ X ├┤ T ├─┤ H ├─┤ Rz(1.85641576693042) ├─────┤ X ├─────┤ Rz(-1.85641576693042) ├─────┤ X ├─────┤ Rz(-2.1453) ├───────────────────────────────────────────────┼────────────────────────────────────┤ X ├┤ Rz(-0.996321215859445) ├───────┤ X ├──┼───────────────┼───────────────┼───────────────────────────┼────────────────────────────────┼──────────────────┼──────────────────────────────────┼───────\n",
       "                             ┌─┴─┐       │                     │   ┌───┐      ┌─┴─┐┌┴───┴┐┌─┴─┐┌─┴─┐┌──────────┐ ┌──┴───┴───┐ ┌─┴─┐┌─────────┐┌─────────┐└─┬─┘└─────┘└───┘ └───┘ └─┬─┘└┬───┬┘            └───┘└───┘┌─┴─┐┌┴───┴┐┌─┴─┐  │  ┌───┐┌─┴─┐┌─────┐ ┌─┴─┐ ┌───┐┌─┴─┐┌─────┐ └───┘      ┌─┴─┐└┬───┬┘├───┤ └──────────┘                     │       ┌───────────┐┌───┐ │ZZ(4.2882) └┬───┬┘                                                                                                                                                 │       ┌───┐                   ┌─┴─┐    ┌─────┐    ┌─┴─┐ ┌───┐ ┌─┴─┐┌─────┐┌─┴─┐┌───┐ ├───┤             │  ┌───────────────────────┐   ┌────┐   ┌──────────────────────┐   │                        │           ┌───┐                         ┌─┴─┐          ┌┴───┴┐    ┌─┴─┐     ┌───┐┌─┴─┐┌─────┐┌─┴─┐┌───┐┌─┴─┐┌┴───┴┐┌─┴─┐├───┤└┬───┬┘└───┘└───┘└─┬─┘└─────┘     └───┘└───┘└─┬─┘└┬───┬┘     └───┘└─────────┘┌─┴─┐┌─────┐     ┌─┴─┐    ┌───┐     └───┘   └─────┘        └───┘     └───┘└───┘└─────┘└───┘└───┘ └───┘               └───┘          └───┘       └───┘┌─┴─┐┌────────┴─────┴────────┐     ┌─┴─┐┌────┴───┴────┐┌─┴───┴─┐└───┘└─────┘└───┘└───┘ └───┘ └──────────────────────┘     └───┘     └───────────────────────┘     └───┘     └─────────────┘                                               │                                    └───┘└────────────────────────┘       └───┘  │               │     ┌───┐     │  ┌─────────────────────┐  │                                │                  │                                  │       \n",
       "q_5: ────────────────────────┤ X ├───────■─────────────────────■───┤ T ├──────┤ X ├┤ Tdg ├┤ X ├┤ X ├┤ Rx(-π/2) ├─┤ Rz(-π/4) ├─┤ X ├┤ Rz(π/4) ├┤ Rx(π/2) ├──■───────────────────────■───┤ T ├───────────────────────┤ X ├┤ Tdg ├┤ X ├──■──┤ H ├┤ X ├┤ Tdg ├─┤ X ├─┤ T ├┤ X ├┤ Tdg ├────────────┤ X ├─┤ T ├─┤ H ├──────────────────────────────────■───────┤ Ry(6.079) ├┤ Z ├─■────────────┤ S ├──────────────────────────────────────────────────────────────────────────────────────────────────────────────────────────────────────────────────■───────┤ H ├───────────────────┤ X ├────┤ Tdg ├────┤ X ├─┤ T ├─┤ X ├┤ Tdg ├┤ X ├┤ T ├─┤ H ├─────────────■──┤ Rz(-1.00500893102643) ├───┤ √X ├───┤ Rz(1.71350049100516) ├───■────────────────────────■───────────┤ T ├─────────────────────────┤ X ├──────────┤ Tdg ├────┤ X ├─────┤ H ├┤ X ├┤ Tdg ├┤ X ├┤ T ├┤ X ├┤ Tdg ├┤ X ├┤ T ├─┤ H ├─────────────■──────────────────────────■───┤ T ├──────────────────────┤ X ├┤ Tdg ├─────┤ X ├────┤ Z ├──────────────────────────────────────────────────────────────────────────────────────────────────────────────────────┤ X ├┤ Rz(-1.30629747996744) ├─────┤ X ├┤ Rz(-2.3551) ├┤ Ry(π) ├──────────────────────────────────────────────────────────────────────────────────────────────────────────────────────────────────────────────────────────────────────────■─────────────────────────────────────────────────────────────────────────────────■───────────────■─────┤ T ├─────■──┤ Rz(3.2162142475914) ├──■────────────────────────────────■──────────────────■──────────────────────────────────■───────\n",
       "                             └───┘                                 └───┘      └───┘└─────┘└───┘└───┘└──────────┘ └──────────┘ └───┘└─────────┘└─────────┘                              └───┘                       └───┘└─────┘└───┘     └───┘└───┘└─────┘ └───┘ └───┘└───┘└─────┘            └───┘ └───┘ └───┘                                          └───────────┘└───┘              └───┘                                                                                                                                                          └───┘                   └───┘    └─────┘    └───┘ └───┘ └───┘└─────┘└───┘└───┘ └───┘                └───────────────────────┘   └────┘   └──────────────────────┘                                        └───┘                         └───┘          └─────┘    └───┘     └───┘└───┘└─────┘└───┘└───┘└───┘└─────┘└───┘└───┘ └───┘                                            └───┘                      └───┘└─────┘     └───┘    └───┘                                                                                                                      └───┘└───────────────────────┘     └───┘└─────────────┘└───────┘                                                                                                                                                                                                                                                                                  └───┘        └─────────────────────┘                                                                                                 </pre>"
      ],
      "text/plain": [
       "global phase: 3.2614\n",
       "           ┌──────────┐                                                                                                       ┌───┐   ┌───┐     ┌─────┐  ┌───┐ ┌───┐ ┌───┐┌─────┐┌───┐ ┌───┐  ┌───┐                                                        ┌───┐            ┌───┐ ┌─────┐┌───┐                 ┌────────────┐┌────────────┐┌────────────┐                                                                                                                                                                                     ┌───┐                                                                   ┌───┐      ┌───┐┌─────┐┌───┐     ┌───┐                                                                                 ┌───┐          ┌─────────────┐                                                                                                                                                                                            ┌───┐                                                                     ┌───┐      ┌───┐┌─────┐┌───┐┌──────────────────────┐                                                                                                        ┌───┐                         ┌─────────────┐       ┌─────────┐       ┌─────────────┐               ┌───┐┌────────────────────────┐┌───┐┌──────────────────────┐                                                                                                                                                                                                                                \n",
       "q_0: ──────┤ Rz(3π/4) ├───────────────────────────────────────────────────────────────────────────────────────────────■───────┤ H ├───┤ X ├─────┤ Tdg ├──┤ X ├─┤ T ├─┤ X ├┤ Tdg ├┤ X ├─┤ T ├──┤ H ├────────■─────────■────────────────────────────────■────┤ T ├────────────┤ X ├─┤ Tdg ├┤ X ├──────────────■──┤ Rz(2.1395) ├┤ Ry(2.0919) ├┤ Rz(1.3684) ├─────────────────────────────────────────────────────────────────────────────────────────────────────────────────────────────■─────────────────────────────────■─────────────────────┤ X ├───────────────────────────────■───────────────────────────────■───┤ T ├──────┤ X ├┤ Tdg ├┤ X ├─────┤ X ├────────────■──────────────────────────────────────────────────────────■─────■───┤ T ├───■──────┤ Ry(-2.1846) ├─────────────────────────────────────────────────────────────────────────────────────────────────────────────────────────────────────────────■──────────────────────────■───────────────■───┤ T ├────────■──────────────────■─────────────────────────────────────■───┤ T ├──────┤ X ├┤ Tdg ├┤ X ├┤ Rz(1.30629747996744) ├───────────────────■──────────────────────────────────■─────────■──────────────────────────────■────■───┤ T ├────────────■────────────┤ Rz(-1.3651) ├───────┤ Ry(π/2) ├───────┤ Rz(-2.4141) ├───────────────┤ X ├┤ Rz(-0.838728781856755) ├┤ X ├┤ Rz(4.22380907548478) ├──────────────────────────■─────────────────────────────────────■───────────────────────────────────────────────────────────────────────────────────────────────────────────────────────────────────────────────────────────────\n",
       "     ┌─────┴──────────┴─────┐                                                                                       ┌─┴─┐     └───┘   └─┬─┘     └─────┘  └─┬─┘ └───┘ └─┬─┘└┬───┬┘└─┬─┘ ├───┤ ┌┴───┴┐┌───┐┌─┴─┐┌───┐┌─┴─┐┌─────┐          ┌───┐┌───┐ ┌─┴─┐ ┌┴───┴┐┌───┐┌───┐ └─┬─┘ └┬───┬┘└─┬─┘              │  └────────────┘└────────────┘└───┬───┬────┘                                                 ┌───┐           ┌───┐┌─────┐┌───┐     ┌───┐               ┌──────────────┐  │  ┌───┐     ┌────────────┐       │  ┌───────────┐ ┌───┐└─┬─┘┌──────────────┐┌───────────┐  │  ┌─────────────┐              │   └───┘      └─┬─┘└─────┘└─┬─┘     └─┬─┘            │                                                 ┌───┐    │   ┌─┴─┐┌┴───┴┐┌─┴─┐┌───┴─────────────┴────┐┌───┐┌───────────────────────┐ ┌───┐                                                                                                    │                          │               │   ├───┤        │      ┌───┐       │                                     │   └───┘      └─┬─┘└─────┘└─┬─┘└──────────────────────┘                   │                                  │         │                      ┌───┐   │  ┌─┴─┐┌┴───┴┐         ┌─┴─┐          └────┬───┬────┘       └──┬───┬──┘       └────┬───┬────┘               └─┬─┘└────────────────────────┘└─┬─┘└──────────────────────┘                          │                             ┌───┐   │                  ┌───┐  ┌─────┐  ┌───┐     ┌────────────┐                                                        ┌───┐┌───────────────────────┐     ┌───┐     \n",
       "q_1: ┤ Rz(6.13001602516006) ├────────────────────────────────────────────────────────────────────────────X──────────┤ X ├───────────────■──────────────────┼───────────■───┤ T ├───┼───┤ X ├─┤ Tdg ├┤ X ├┤ X ├┤ H ├┤ X ├┤ Tdg ├──────────┤ X ├┤ T ├─┤ X ├─┤ Tdg ├┤ X ├┤ T ├───┼────┤ H ├───┼────────────────┼──────────────────────────────────┤ X ├────────────────────■─────────────────────────────■───┤ T ├───────────┤ X ├┤ Tdg ├┤ X ├─────┤ X ├──────────X────┤ Rz(-0.15782) ├──┼──┤ X ├─────┤ Rz(2.1041) ├───────┼──┤ Ry(-1.48) ├─┤ X ├──┼──┤ Rz(-0.28426) ├┤ Ry(1.712) ├──┼──┤ Rz(0.87374) ├──■───────────┼────────────────┼───────────┼─────────┼──────────────┼───────────────────────────────────■─────────────┤ T ├────┼───┤ X ├┤ Tdg ├┤ X ├┤ Rz(1.40164127769636) ├┤ X ├┤ Rz(-1.40164127769636) ├─┤ X ├──■────────────────────────────────────────────────────────────────────────────────────────────■────┼─────────────────────■────┼───────■───────┼───┤ T ├───■────┼──────┤ T ├───────┼─────────────────────────────────────┼────────────────┼───────────┼─────────────■──────────────────────────■────┼──────────────────────────────────┼─────────┼──────────────────■───┤ T ├───┼──┤ X ├┤ Tdg ├─────────┤ X ├───────────────┤ H ├───────────────┤ X ├───────────────┤ H ├────────────■─────────┼──────────────────────────────┼────────────────────────────────────────────────────┼──────────────■──────────────┤ T ├───┼──────────────────┤ X ├──┤ Tdg ├──┤ X ├─────┤ Rz(1.0361) ├────────────────────────────────────────────────────────┤ X ├┤ Rz(-2.60686136104895) ├─────┤ X ├─────\n",
       "     └──────────────────────┘     ┌───┐┌───┐┌─────┐┌───┐┌───┐┌───┐┌─────┐┌───┐┌───┐ ┌───┐                │      ┌───┴───┴────┐                             │               └───┘   │   └─┬─┘ └─────┘└─┬─┘└───┘└───┘└───┘└┬───┬┘          └─┬─┘└───┘ └───┘ └─────┘└─┬─┘└───┘   │    └───┘   │                │      ┌───┐                       └─┬─┘         ┌───┐    ┌─┴─┐   ┌─────┐    ┌───┐ ┌───┐┌─┴─┐┌┴───┴┐┌───┐┌───┐└─┬─┘└┬───┬┘└─┬─┘     └─┬─┘          │    └───┬─────┬────┘┌─┴─┐└─┬─┘┌────┴────────────┴────┐┌─┴─┐├───────────┴┐└─┬─┘  │  └─┬─────────┬──┘└───────────┘  │  └─────────────┘┌─┴─┐┌─────┐  │                │           │         │            ┌─┴─┐             ┌───┐             ┌─┴─┐          ┌┴───┴┐ ┌─┴─┐ ├───┤└┬───┬┘└───┘└──────────────────────┘└─┬─┘└───────────────────────┘ └─┬─┘  │ZZ(0.74145)                                                                                 │    │             ┌───┐   │    │     ┌─┴─┐     │  ┌┴───┴┐┌─┴─┐  │  ┌───┴───┴────┐  │  ┌────────────┐┌────────────┐       │                │           │             │            ┌───┐ ┌───┐   │    │                                  │         │                  │   └───┘   │  └───┘└─────┘         └───┘               └───┘               └─┬─┘               ├───┤          ┌─┴─┐       │           ┌─────┐            │           ┌───┐                   ┌───┐            │            ┌─┴─┐           ┌┴───┴┐  │  ┌───┐┌─────────┐└─┬─┘┌─┴─────┴─┐└─┬─┘     └────────────┘                                                        └─┬─┘└───────────────────────┘     └─┬─┘     \n",
       "q_2: ──────────────────────────■──┤ H ├┤ X ├┤ Tdg ├┤ X ├┤ T ├┤ X ├┤ Tdg ├┤ X ├┤ T ├─┤ H ├────────■───────┼──────┤ Ry(4.0455) ├─────────────────────────────┼───────────■───────────┼─────┼────────────┼────■─────────■───┤ T ├───■─────────┼─────────────────■─────┼──────────┼────────────┼────■─────■─────┼──────┤ T ├───────────■─────────────■───────────┤ H ├────┤ X ├───┤ Tdg ├────┤ X ├─┤ T ├┤ X ├┤ Tdg ├┤ X ├┤ T ├──┼───┤ H ├───┼─────────■────────────X────────┤ Sdg ├─────┤ X ├──┼──┤ Rz(-1.7391209782858) ├┤ X ├┤ Rz(1.7391) ├──┼────┼────┤ Ry(π/2) ├──────────────────┼─────────────────┤ X ├┤ Tdg ├──┼────────────────┼───────────┼─────────┼────────────┤ X ├─────────────┤ T ├─────────────┤ X ├──────────┤ Tdg ├─┤ X ├─┤ T ├─┤ H ├────────────────────────────────■──────────────────────────────■────■────────────────────────────────────────────────────────────────────────────────■───────────┼────┼─────────■───┤ T ├───┼────┼─────┤ X ├─────┼──┤ Tdg ├┤ X ├──┼──┤ Rz(1.1107) ├──┼──┤ Ry(1.9224) ├┤ Rz(2.0685) ├───────┼────────────────┼───────────┼─────────────┼────────────┤ X ├─┤ S ├───┼────┼──────────────■───────────────────┼─────────┼──────────────────┼───────────┼─────────────────────────────────────────────────────────────────■─────────────────┤ H ├──────────┤ X ├───────┼───────────┤ Tdg ├────────────┼───────────┤ X ├───────────────────┤ T ├────────────┼────────────┤ X ├───────────┤ Tdg ├──┼──┤ X ├┤ Rz(π/4) ├──┼──┤ Ry(π/2) ├──┼───────────────────────────────────────────────────────────────────────────────┼─────────────────────────────■────┼───────\n",
       "              ┌───┐            │  └───┘└─┬─┘└─────┘└─┬─┘└───┘└─┬─┘└─────┘└─┬─┘└───┘ └───┘        │       │      └────────────┘                             │           │           │     │    ┌───┐   │    │         │   └───┘   │  ┌───┐  │                 │     │          │    ┌───┐   │    │   ┌─┴─┐   │     ┌┴───┴┐        ┌─┴─┐         ┌───┐         └───┘    └───┘   └─────┘    └─┬─┘ └───┘└───┘└─────┘└─┬─┘└───┘  │   ├───┤   │  ┌──────────────┐┌───────┐    └─────┘     └───┘  │  └──────────────────────┘└───┘└────────────┘  │    │    ├─────────┤    ┌──────────┐  │                 └───┘└─────┘  │                │           │  ┌───┐  │         ┌──┴───┴───┐      ┌──┴───┴───┐         └───┘          └┬───┬┘┌┴───┴┐├───┤ ├───┤ ┌───┐        ┌─────┐         ┌───┐          ┌───┐           ┌───┐                                                                 ┌───┐      ┌───┐┌─┴─┐┌─────┐┌─┴─┐  │  ┌───┐┌─┴─┐┌┴───┴┐┌─┴─┐  │     ├───┤     │  └┬───┬┘└───┘  │  └────────────┘  │  └────────────┘└────────────┘       │                │   ┌───┐   │             │            └─┬─┘┌┴───┴┐  │    │            ┌─┴─┐          ┌───┐  │         │                  │           │                                                                                   └───┘          └───┘       │           └─────┘            │           └─┬─┘          ┌────────┴───┴─────────┐  │            └───┘           └─────┘  │  └─┬─┘└─────────┘  │  └─────────┘  │                         ┌───┐┌───────────┐┌─────────────┐┌───┐┌────────────┐  │       ┌──────────────┐    ┌─┴─┐  │  ┌───┐\n",
       "q_3: ─────────┤ T ├────────────┼─────────┼───────────┼─────────┼───────────┼─────────────────────┼───────┼──────────────────────■──────────────────────────■───────────┼───────────■─────■────┤ T ├───■────┼─────────┼───────────┼──┤ X ├──┼────■────────────┼─────┼────■─────┼────┤ T ├───┼────┼───┤ X ├───┼─────┤ Tdg ├────────┤ X ├─────────┤ X ├───────────────────────────────────────■──────────────────────■─────────■───┤ T ├───■──┤ Rz(-0.25207) ├┤ Ry(π) ├───────────────────────■───────────────────────────────────────────────■────┼────┤ Rx(π/2) ├────┤ Rz(3π/4) ├──┼───────────────────────────────┼────────────────┼───────────┼──┤ X ├──┼─────────┤ Rz(-π/4) ├──────┤ Rx(-π/2) ├─────────────────────────┤ X ├─┤ Tdg ├┤ X ├─┤ T ├─┤ X ├────────┤ Tdg ├─────────┤ X ├──────────┤ T ├───────────┤ H ├──────────────────────────────────■─────────────────────■────■───┤ T ├───■──┤ H ├┤ X ├┤ Tdg ├┤ X ├──┼──┤ T ├┤ X ├┤ Tdg ├┤ X ├──┼─────┤ T ├─────┼───┤ H ├────────┼──────────────────┼──────────────────────■──────────────┼───────────■────■───┤ T ├───■─────────────┼──────────────■──┤ Sdg ├──┼────┼────────────┤ X ├──────────┤ S ├──┼─────────┼──────────────────┼───────────┼─────────────────────────────────────────────■───────────────────────────────────────■────────────────────────■──────────────────────────────■─────────────┼────────────┤ Rz(2.53925791897968) ├──┼─────────────────────────────────────┼────┼───────────────┼───────────────┼─────────────────────────┤ X ├┤ Rz(3.067) ├┤ Ry(-2.4148) ├┤ X ├┤ Ry(2.4148) ├──┼───────┤ Rz(-0.89384) ├────┤ X ├──┼──┤ S ├\n",
       "              └───┘            │         │           │         │           │        ┌───┐        │       │          ┌───┐       │                        ┌───┐┌─────┐┌─┴─┐ ┌───┐ ┌───┐┌─────┐ └───┘      ┌─┴─┐┌───┐  │   ┌───┐   │  └─┬─┘  │    │            │     │    │     │    ├───┤   │    │  ┌┴───┴┐┌─┴─┐ ┌─┴─────┴──┐     └───┘         └─┬─┘                                    ┌─────┐                                 └───┘      └──────────────┘└───────┘                                                                            │    └─────────┘    └──────────┘  │                               │                │   ┌───┐   │  └─┬─┘  │         └──────────┘      └──────────┘                         └─┬─┘ └─────┘└─┬─┘ └───┘ └─┬─┘        └─────┘         └─┬─┘          └───┘           ├───┤                                  │             ┌───┐   │  ┌─┴─┐┌┴───┴┐┌─┴─┐├───┤├───┤├─────┤└───┘┌─┴─┐├───┤├───┤├─────┤└───┘┌─┴─┐┌──┴───┴──┐  │   └───┘        │                ┌─┴─┐   ┌─────┐        ┌─┴─┐     ┌───┐┌─┴─┐┌─────┐┌─┴─┐┌───┐ ├───┤               ┌─┴─┐          ┌───┐└─────┘┌─┴─┐  │           ┌┴───┴┐         └───┘  │       ┌─┴─┐       ┌───┐  ┌─┴─┐┌─────┐┌─┴─┐┌───┐ ┌───┐ ┌──────────────────────┐     ┌─┴─┐     ┌───────────────────────┐     ┌─┴─┐     ┌─────────────┐                                               │            └──────────────────────┘┌─┴─┐┌────────────────────────┐       ┌─┴─┐  │               │               │                         └─┬─┘└───────────┘└─────────────┘└─┬─┘└────────────┘  │       └──────────────┘    └───┘  │  └───┘\n",
       "q_4: ──────────────────────────┼─────────┼───────────■─────────┼───────────■────■───┤ T ├───■────┼───────X──────────┤ H ├───────┼────────────────────────┤ X ├┤ Tdg ├┤ X ├─┤ T ├─┤ X ├┤ Tdg ├────────────┤ X ├┤ T ├──┼───┤ H ├───┼────┼────■────┼────────────┼─────■────┼─────■────┤ T ├───■────┼──┤ Sdg ├┤ X ├─┤ Rz(3π/4) ├─────────────────────┼──────────────────────────■───────────┤ Tdg ├─────────────────────────────────────────────────────────────────────────────────────────────────────────────────────────────────────────────────┼─────────────────────────────────┼───────────────────■───────────┼───────────■────■───┤ T ├───■────■────┼──────────────────────────────────────────────────────────────────┼────────────■───────────┼────────────────────────────■──────────────■─────────────┤ T ├───────■──────────────■───────────┼─────────■───┤ T ├───┼──┤ X ├┤ Tdg ├┤ X ├┤ H ├┤ X ├┤ Tdg ├─────┤ X ├┤ T ├┤ X ├┤ Tdg ├─────┤ X ├┤ Rz(π/4) ├──┼────────────────┼────────────────┤ X ├───┤ Tdg ├────────┤ X ├─────┤ T ├┤ X ├┤ Tdg ├┤ X ├┤ T ├─┤ H ├───────────────┤ X ├──────────┤ H ├───────┤ X ├──┼───────────┤ Tdg ├────────────────┼───────┤ X ├───────┤ T ├──┤ X ├┤ Tdg ├┤ X ├┤ T ├─┤ H ├─┤ Rz(1.85641576693042) ├─────┤ X ├─────┤ Rz(-1.85641576693042) ├─────┤ X ├─────┤ Rz(-2.1453) ├───────────────────────────────────────────────┼────────────────────────────────────┤ X ├┤ Rz(-0.996321215859445) ├───────┤ X ├──┼───────────────┼───────────────┼───────────────────────────┼────────────────────────────────┼──────────────────┼──────────────────────────────────┼───────\n",
       "                             ┌─┴─┐       │                     │   ┌───┐      ┌─┴─┐┌┴───┴┐┌─┴─┐┌─┴─┐┌──────────┐ ┌──┴───┴───┐ ┌─┴─┐┌─────────┐┌─────────┐└─┬─┘└─────┘└───┘ └───┘ └─┬─┘└┬───┬┘            └───┘└───┘┌─┴─┐┌┴───┴┐┌─┴─┐  │  ┌───┐┌─┴─┐┌─────┐ ┌─┴─┐ ┌───┐┌─┴─┐┌─────┐ └───┘      ┌─┴─┐└┬───┬┘├───┤ └──────────┘                     │       ┌───────────┐┌───┐ │ZZ(4.2882) └┬───┬┘                                                                                                                                                 │       ┌───┐                   ┌─┴─┐    ┌─────┐    ┌─┴─┐ ┌───┐ ┌─┴─┐┌─────┐┌─┴─┐┌───┐ ├───┤             │  ┌───────────────────────┐   ┌────┐   ┌──────────────────────┐   │                        │           ┌───┐                         ┌─┴─┐          ┌┴───┴┐    ┌─┴─┐     ┌───┐┌─┴─┐┌─────┐┌─┴─┐┌───┐┌─┴─┐┌┴───┴┐┌─┴─┐├───┤└┬───┬┘└───┘└───┘└─┬─┘└─────┘     └───┘└───┘└─┬─┘└┬───┬┘     └───┘└─────────┘┌─┴─┐┌─────┐     ┌─┴─┐    ┌───┐     └───┘   └─────┘        └───┘     └───┘└───┘└─────┘└───┘└───┘ └───┘               └───┘          └───┘       └───┘┌─┴─┐┌────────┴─────┴────────┐     ┌─┴─┐┌────┴───┴────┐┌─┴───┴─┐└───┘└─────┘└───┘└───┘ └───┘ └──────────────────────┘     └───┘     └───────────────────────┘     └───┘     └─────────────┘                                               │                                    └───┘└────────────────────────┘       └───┘  │               │     ┌───┐     │  ┌─────────────────────┐  │                                │                  │                                  │       \n",
       "q_5: ────────────────────────┤ X ├───────■─────────────────────■───┤ T ├──────┤ X ├┤ Tdg ├┤ X ├┤ X ├┤ Rx(-π/2) ├─┤ Rz(-π/4) ├─┤ X ├┤ Rz(π/4) ├┤ Rx(π/2) ├──■───────────────────────■───┤ T ├───────────────────────┤ X ├┤ Tdg ├┤ X ├──■──┤ H ├┤ X ├┤ Tdg ├─┤ X ├─┤ T ├┤ X ├┤ Tdg ├────────────┤ X ├─┤ T ├─┤ H ├──────────────────────────────────■───────┤ Ry(6.079) ├┤ Z ├─■────────────┤ S ├──────────────────────────────────────────────────────────────────────────────────────────────────────────────────────────────────────────────────■───────┤ H ├───────────────────┤ X ├────┤ Tdg ├────┤ X ├─┤ T ├─┤ X ├┤ Tdg ├┤ X ├┤ T ├─┤ H ├─────────────■──┤ Rz(-1.00500893102643) ├───┤ √X ├───┤ Rz(1.71350049100516) ├───■────────────────────────■───────────┤ T ├─────────────────────────┤ X ├──────────┤ Tdg ├────┤ X ├─────┤ H ├┤ X ├┤ Tdg ├┤ X ├┤ T ├┤ X ├┤ Tdg ├┤ X ├┤ T ├─┤ H ├─────────────■──────────────────────────■───┤ T ├──────────────────────┤ X ├┤ Tdg ├─────┤ X ├────┤ Z ├──────────────────────────────────────────────────────────────────────────────────────────────────────────────────────┤ X ├┤ Rz(-1.30629747996744) ├─────┤ X ├┤ Rz(-2.3551) ├┤ Ry(π) ├──────────────────────────────────────────────────────────────────────────────────────────────────────────────────────────────────────────────────────────────────────────■─────────────────────────────────────────────────────────────────────────────────■───────────────■─────┤ T ├─────■──┤ Rz(3.2162142475914) ├──■────────────────────────────────■──────────────────■──────────────────────────────────■───────\n",
       "                             └───┘                                 └───┘      └───┘└─────┘└───┘└───┘└──────────┘ └──────────┘ └───┘└─────────┘└─────────┘                              └───┘                       └───┘└─────┘└───┘     └───┘└───┘└─────┘ └───┘ └───┘└───┘└─────┘            └───┘ └───┘ └───┘                                          └───────────┘└───┘              └───┘                                                                                                                                                          └───┘                   └───┘    └─────┘    └───┘ └───┘ └───┘└─────┘└───┘└───┘ └───┘                └───────────────────────┘   └────┘   └──────────────────────┘                                        └───┘                         └───┘          └─────┘    └───┘     └───┘└───┘└─────┘└───┘└───┘└───┘└─────┘└───┘└───┘ └───┘                                            └───┘                      └───┘└─────┘     └───┘    └───┘                                                                                                                      └───┘└───────────────────────┘     └───┘└─────────────┘└───────┘                                                                                                                                                                                                                                                                                  └───┘        └─────────────────────┘                                                                                                 "
      ]
     },
     "execution_count": 11,
     "metadata": {},
     "output_type": "execute_result"
    }
   ],
   "source": [
    "transpiled_circuit = transpile(circuit, backend=ionq_device, seed_transpiler=42)\n",
    "transpiled_circuit.draw(idle_wires=False, fold=-1)"
   ]
  },
  {
   "cell_type": "markdown",
   "id": "c698ffb1",
   "metadata": {},
   "source": [
    "We can run our circuit and get job object back, which will store information about execution: job id, status of job and results when it will be available"
   ]
  },
  {
   "cell_type": "code",
   "execution_count": null,
   "id": "dfad043a",
   "metadata": {
    "slideshow": {
     "slide_type": "slide"
    }
   },
   "outputs": [],
   "source": [
    "ionq_job = ionq_device.run(transpiled_circuit, shots=10)\n",
    "ionq_job.job_id()"
   ]
  },
  {
   "cell_type": "markdown",
   "id": "1c129b43",
   "metadata": {},
   "source": [
    "If we do not want to wait for a job completion and return to it later, we can use `retrieve_job` method on device to get job object"
   ]
  },
  {
   "cell_type": "code",
   "execution_count": 28,
   "id": "34787aad",
   "metadata": {},
   "outputs": [
    {
     "data": {
      "text/plain": [
       "<qiskit_braket_provider.providers.braket_job.AWSBraketJob at 0x7f9c13fd4d10>"
      ]
     },
     "execution_count": 28,
     "metadata": {},
     "output_type": "execute_result"
    }
   ],
   "source": [
    "retrieved_job = ionq_device.retrieve_job(job_id=\"<TASK_ARN>\")\n",
    "retrieved_job"
   ]
  },
  {
   "cell_type": "markdown",
   "id": "d28a2001",
   "metadata": {},
   "source": [
    "Check status"
   ]
  },
  {
   "cell_type": "code",
   "execution_count": 29,
   "id": "764d4828",
   "metadata": {},
   "outputs": [
    {
     "data": {
      "text/plain": [
       "<JobStatus.DONE: 'job has successfully run'>"
      ]
     },
     "execution_count": 29,
     "metadata": {},
     "output_type": "execute_result"
    }
   ],
   "source": [
    "retrieved_job.status()"
   ]
  },
  {
   "cell_type": "markdown",
   "id": "6ce860f0",
   "metadata": {},
   "source": [
    "And plot histogram of results"
   ]
  },
  {
   "cell_type": "code",
   "execution_count": 30,
   "id": "4a8a8760",
   "metadata": {},
   "outputs": [
    {
     "data": {
      "image/png": "[encoded data removed]",
      "text/plain": [
       "<Figure size 700x500 with 1 Axes>"
      ]
     },
     "execution_count": 30,
     "metadata": {},
     "output_type": "execute_result"
    }
   ],
   "source": [
    "plot_histogram(retrieved_job.result().get_counts())"
   ]
  },
  {
   "cell_type": "markdown",
   "id": "939ec324",
   "metadata": {
    "slideshow": {
     "slide_type": "slide"
    }
   },
   "source": [
    "### Running algorithms\n",
    "\n",
    "Let's review an example of running algorithms using Qiskit on Braket devices.\n",
    "\n",
    "Qiskit provides a number of Algorithms and they are grouped by category according to the task they can perform. For instance Minimum Eigensolvers to find the smallest eigen value of an operator, for example ground state energy of a chemistry Hamiltonian or a solution to an optimization problem when expressed as an Ising Hamiltonian.\n",
    "\n",
    "Algorithms are configurable and often part of the configuration will be in the form of smaller building blocks, of which different instances of the building block type can be given. For instance with `VQE`, the Variational Quantum Eigensolver, it takes a trial wavefunction, in the form of a `QuantumCircuit` and a classical optimizer among other things.\n",
    "\n",
    "Let’s take a look at an example to construct a VQE instance. Here `TwoLocal` is the variational form (trial wavefunction), a parameterized circuit which can be varied, and SLSQP a classical optimizer. Then we pass hamiltonian to `compute_minimum_eigenvalue` method of `VQE` to get result.\n",
    "\n",
    "Full example and explanation of algorithm detail you can find [here](https://qiskit.org/documentation/tutorials/algorithms/01_algorithms_introduction.html#An-Introduction-to-Algorithms-in-Qiskit).\n",
    "\n"
   ]
  },
  {
   "cell_type": "code",
   "execution_count": 19,
   "id": "02ad6d3e",
   "metadata": {},
   "outputs": [
    {
     "name": "stdout",
     "output_type": "stream",
     "text": [
      "{   'aux_operator_eigenvalues': None,\n",
      "    'cost_function_evals': 9,\n",
      "    'eigenstate': {   '00': 0.04419417382415922,\n",
      "                      '01': 0.94631274560792,\n",
      "                      '10': 0.19515618744994995,\n",
      "                      '11': 0.2538762001448738},\n",
      "    'eigenvalue': (-1.6891153397630962+0j),\n",
      "    'optimal_parameters': {   ParameterVectorElement(θ[0]): -1.5057852302979455,\n",
      "                              ParameterVectorElement(θ[1]): 0.17806892747075853,\n",
      "                              ParameterVectorElement(θ[2]): -2.9377191205349478,\n",
      "                              ParameterVectorElement(θ[3]): -6.1111063638168925,\n",
      "                              ParameterVectorElement(θ[4]): 0.5757868603404876,\n",
      "                              ParameterVectorElement(θ[5]): 0.6859617452099496,\n",
      "                              ParameterVectorElement(θ[6]): -5.657884129072659,\n",
      "                              ParameterVectorElement(θ[7]): 0.7981284053630464},\n",
      "    'optimal_point': array([-1.50578523,  0.17806893, -2.93771912, -6.11110636,  0.57578686,\n",
      "        0.68596175, -5.65788413,  0.79812841]),\n",
      "    'optimal_value': -1.6891153397630962,\n",
      "    'optimizer_evals': None,\n",
      "    'optimizer_time': 0.29915356636047363}\n"
     ]
    }
   ],
   "source": [
    "H2_op = (\n",
    "    (-1.052373245772859 * I ^ I)\n",
    "    + (0.39793742484318045 * I ^ Z)\n",
    "    + (-0.39793742484318045 * Z ^ I)\n",
    "    + (-0.01128010425623538 * Z ^ Z)\n",
    "    + (0.18093119978423156 * X ^ X)\n",
    ")\n",
    "\n",
    "qi = QuantumInstance(local_simulator, seed_transpiler=42, seed_simulator=42)\n",
    "ansatz = TwoLocal(rotation_blocks=\"ry\", entanglement_blocks=\"cz\")\n",
    "slsqp = SLSQP(maxiter=1)\n",
    "\n",
    "vqe = VQE(ansatz, optimizer=slsqp, quantum_instance=qi)\n",
    "\n",
    "result = vqe.compute_minimum_eigenvalue(H2_op)\n",
    "print(result)"
   ]
  },
  {
   "cell_type": "markdown",
   "id": "86c36457",
   "metadata": {
    "slideshow": {
     "slide_type": "slide"
    }
   },
   "source": [
    "### Running Hybrid Jobs\n",
    "\n",
    "Amazon Braket Hybrid Jobs enables you to easily run hybrid quantum-classical algorithms, such as the Variational Quantum Eigensolver (VQE) and the Quantum Approximate Optimization Algorithm (QAOA), that combine classical compute resources with quantum computing devices to optimize the performance of today’s quantum systems. \n",
    "\n",
    "In order to run Hybrid Job we need to acomplish couple of step:\n",
    "\n",
    "1. Prepare script"
   ]
  },
  {
   "cell_type": "code",
   "execution_count": 4,
   "id": "5968d451",
   "metadata": {},
   "outputs": [
    {
     "name": "stdout",
     "output_type": "stream",
     "text": [
      "\"\"\"Example of Hybrid Job payload with VQE.\"\"\"\r\n",
      "from braket.jobs import save_job_result\r\n",
      "from qiskit.opflow import (\r\n",
      "    I,\r\n",
      "    X,\r\n",
      "    Z,\r\n",
      ")\r\n",
      "from qiskit.algorithms import VQE\r\n",
      "from qiskit.algorithms.optimizers import SLSQP\r\n",
      "from qiskit.circuit.library import TwoLocal\r\n",
      "from qiskit.utils import QuantumInstance\r\n",
      "\r\n",
      "from qiskit_braket_provider import AWSBraketProvider\r\n",
      "\r\n",
      "\r\n",
      "def main():\r\n",
      "    backend = AWSBraketProvider().get_backend(\"SV1\")\r\n",
      "\r\n",
      "    h2_op = (\r\n",
      "        (-1.052373245772859 * I ^ I)\r\n",
      "        + (0.39793742484318045 * I ^ Z)\r\n",
      "        + (-0.39793742484318045 * Z ^ I)\r\n",
      "        + (-0.01128010425623538 * Z ^ Z)\r\n",
      "        + (0.18093119978423156 * X ^ X)\r\n",
      "    )\r\n",
      "\r\n",
      "    quantum_instance = QuantumInstance(\r\n",
      "        backend, seed_transpiler=42, seed_simulator=42, shots=10\r\n",
      "    )\r\n",
      "    ansatz = TwoLocal(rotation_blocks=\"ry\", entanglement_blocks=\"cz\")\r\n",
      "    slsqp = SLSQP(maxiter=1)\r\n",
      "\r\n",
      "    vqe = VQE(ansatz, optimizer=slsqp, quantum_instance=quantum_instance)\r\n",
      "\r\n",
      "    vqe_result = vqe.compute_minimum_eigenvalue(h2_op)\r\n",
      "\r\n",
      "    save_job_result(\r\n",
      "        {\r\n",
      "            \"VQE\": {\r\n",
      "                \"eigenstate\": vqe_result.eigenstate,\r\n",
      "                \"eigenvalue\": vqe_result.eigenvalue.real,\r\n",
      "                \"optimal_parameters\": list(vqe_result.optimal_parameters.values()),\r\n",
      "                \"optimal_point\": vqe_result.optimal_point.tolist(),\r\n",
      "                \"optimal_value\": vqe_result.optimal_value.real,\r\n",
      "            }\r\n",
      "        }\r\n",
      "    )\r\n"
     ]
    }
   ],
   "source": [
    "! cat ./data/2_hybrid_jobs/job_script.py"
   ]
  },
  {
   "cell_type": "markdown",
   "id": "9b1aa5f7",
   "metadata": {
    "slideshow": {
     "slide_type": "slide"
    }
   },
   "source": [
    "2. Prepare image"
   ]
  },
  {
   "cell_type": "code",
   "execution_count": 5,
   "id": "646bfb43",
   "metadata": {
    "slideshow": {
     "slide_type": "-"
    }
   },
   "outputs": [
    {
     "name": "stdout",
     "output_type": "stream",
     "text": [
      "FROM 292282985366.dkr.ecr.us-west-2.amazonaws.com/amazon-braket-base-jobs:1.0-cpu-py37-ubuntu18.04\r\n",
      "\r\n",
      "RUN python3 -m pip install --upgrade pip\r\n",
      "\r\n",
      "RUN python3 -m pip install --no-cache --upgrade git+https://github.com/qiskit-community/qiskit-braket-provider\r\n"
     ]
    }
   ],
   "source": [
    "! cat ./data/2_hybrid_jobs/Dockerfile"
   ]
  },
  {
   "cell_type": "markdown",
   "id": "1bcded1f",
   "metadata": {},
   "source": [
    "3. Run Hybrid Job"
   ]
  },
  {
   "cell_type": "code",
   "execution_count": null,
   "id": "55cd14e3",
   "metadata": {
    "slideshow": {
     "slide_type": "slide"
    }
   },
   "outputs": [],
   "source": [
    "image_uri = \"<ACCOUNT_ID>.dkr.ecr.<AWS_REGION>.amazonaws.com/amazon-braket-qiskit-provider:latest\"\n",
    "\n",
    "job = AwsQuantumJob.create(\n",
    "    device=\"arn:aws:braket:::device/quantum-simulator/amazon/sv1\",\n",
    "    source_module=\"data/2_hybrid_jobs/job_script.py\",\n",
    "    entry_point=\"job_script:main\",\n",
    "    wait_until_complete=False,\n",
    "    job_name=\"qiskit-braket-vqe\",\n",
    "    image_uri=image_uri,\n",
    ")"
   ]
  },
  {
   "cell_type": "code",
   "execution_count": null,
   "id": "1ec1b936",
   "metadata": {
    "slideshow": {
     "slide_type": "slide"
    }
   },
   "outputs": [],
   "source": [
    "# print(job.result())\n",
    "AwsQuantumJob(\"<JOB_ARN>\").result()"
   ]
  }
 ],
 "metadata": {
  "kernelspec": {
   "display_name": "Python 3 (ipykernel)",
   "language": "python",
   "name": "python3"
  },
  "language_info": {
   "codemirror_mode": {
    "name": "ipython",
    "version": 3
   },
   "file_extension": ".py",
   "mimetype": "text/x-python",
   "name": "python",
   "nbconvert_exporter": "python",
   "pygments_lexer": "ipython3",
   "version": "3.9.7"
  }
 },
 "nbformat": 4,
 "nbformat_minor": 5
}
