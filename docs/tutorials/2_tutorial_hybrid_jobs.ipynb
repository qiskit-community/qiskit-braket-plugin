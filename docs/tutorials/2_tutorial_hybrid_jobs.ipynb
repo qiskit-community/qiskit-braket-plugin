{
 "cells": [
  {
   "cell_type": "markdown",
   "id": "adc318c6",
   "metadata": {},
   "source": [
    "# Tutorial: Variational algorithms on Hybrid jobs"
   ]
  },
  {
   "cell_type": "markdown",
   "id": "8e36b315",
   "metadata": {},
   "source": [
    "## Hybrid Jobs"
   ]
  },
  {
   "cell_type": "markdown",
   "id": "a6c9025e",
   "metadata": {},
   "source": [
    "Amazon Braket Hybrid Jobs, a capability of Amazon Braket that simplifies the process of setting up and executing quantum algorithms on quantum cpus with classical computing capability like preprocessing data, post-processing the results, logging, and scheduling."
   ]
  },
  {
   "cell_type": "markdown",
   "id": "5f46c9fe",
   "metadata": {},
   "source": [
    "## Prepare Files"
   ]
  },
  {
   "cell_type": "markdown",
   "id": "3f2c43fc",
   "metadata": {},
   "source": [
    "### Prepare Hybrid Job Script"
   ]
  },
  {
   "cell_type": "code",
   "execution_count": null,
   "id": "b9184273",
   "metadata": {},
   "outputs": [
    {
     "name": "stdout",
     "output_type": "stream",
     "text": [
      "\"\"\"Example of Hybrid Job payload with VQE.\"\"\"\n",
      "from braket.jobs import save_job_result\n",
      "from qiskit.quantum_info import SparsePauliOp\n",
      "from qiskit.algorithms.minimum_eigensolvers import VQE\n",
      "from qiskit.algorithms.optimizers import SLSQP\n",
      "from qiskit.circuit.library import TwoLocal\n",
      "from qiskit.primitives import BackendEstimator\n",
      "\n",
      "from qiskit_braket_provider import AWSBraketProvider\n",
      "\n",
      "\n",
      "def main():\n",
      "    backend = AWSBraketProvider().get_backend(\"SV1\")\n",
      "\n",
      "    h2_op = SparsePauliOp(\n",
      "        [\"II\", \"IZ\", \"ZI\", \"ZZ\", \"XX\"],\n",
      "        coeffs=[\n",
      "            -1.052373245772859,\n",
      "            0.39793742484318045,\n",
      "            -0.39793742484318045,\n",
      "            -0.01128010425623538,\n",
      "            0.18093119978423156,\n",
      "        ],\n",
      "    )\n",
      "\n",
      "    estimator = BackendEstimator(\n",
      "        backend=backend,\n",
      "        options={\"seed_simulator\": 42, \"seed_transpiler\": 42, \"shots\": 10},\n",
      "        skip_transpilation=False,\n",
      "    )\n",
      "    ansatz = TwoLocal(rotation_blocks=\"ry\", entanglement_blocks=\"cz\")\n",
      "    slsqp = SLSQP(maxiter=1)\n",
      "\n",
      "    vqe = VQE(estimator=estimator, ansatz=ansatz, optimizer=slsqp)\n",
      "\n",
      "    vqe_result = vqe.compute_minimum_eigenvalue(h2_op)\n",
      "\n",
      "    save_job_result(\n",
      "        {\n",
      "            \"VQE\": {\n",
      "                \"eigenvalue\": vqe_result.eigenvalue.real,\n",
      "                \"optimal_parameters\": list(vqe_result.optimal_parameters.values()),\n",
      "                \"optimal_point\": vqe_result.optimal_point.tolist(),\n",
      "                \"optimal_value\": vqe_result.optimal_value.real,\n",
      "            }\n",
      "        }\n",
      "    )\n"
     ]
    }
   ],
   "source": [
    "! cat ./data/2_hybrid_jobs/job_script.py"
   ]
  },
  {
   "cell_type": "markdown",
   "id": "6010160f",
   "metadata": {},
   "source": [
    "## Running your job\n",
    "The Braket-managed base container have `qiskit-braket-provider` preinstalled and ready to use for running your variational algorithms. To use the base container, call retrieve_image(Framework.BASE, AwsSession().region) as demonstrated below:"
   ]
  },
  {
   "cell_type": "code",
   "execution_count": null,
   "id": "5e644a0f",
   "metadata": {},
   "outputs": [],
   "source": [
    "from pprint import pprint\n",
    "from braket.aws import AwsQuantumJob, AwsSession\n",
    "from braket.jobs.image_uris import Framework, retrieve_image\n",
    "\n",
    "job = AwsQuantumJob.create(\n",
    "    device=\"arn:aws:braket:::device/quantum-simulator/amazon/sv1\",\n",
    "    source_module=\"data/2_hybrid_jobs/job_script.py\",\n",
    "    entry_point=\"job_script:main\",\n",
    "    wait_until_complete=False,\n",
    "    job_name=\"qiskit-braket-vqe-6\",\n",
    "    image_uri=retrieve_image(Framework.BASE, AwsSession().region),\n",
    ")"
   ]
  },
  {
   "cell_type": "code",
   "execution_count": null,
   "id": "23e007d1",
   "metadata": {},
   "outputs": [
    {
     "name": "stdout",
     "output_type": "stream",
     "text": [
      "{'VQE': {'eigenstate': {'01': 0.8366600265340756, '11': 0.5477225575051661},\n",
      "         'eigenvalue': -1.6823050629682066,\n",
      "         'optimal_parameters': [2.965910707685307,\n",
      "                                -4.658133055892289,\n",
      "                                -4.3956015975227265,\n",
      "                                -3.682189424847994,\n",
      "                                0.3499389384822065,\n",
      "                                -2.55160387237748,\n",
      "                                2.0897918250881915,\n",
      "                                1.0061448749802206],\n",
      "         'optimal_point': [2.965910707685307,\n",
      "                           -4.658133055892289,\n",
      "                           -4.3956015975227265,\n",
      "                           -3.682189424847994,\n",
      "                           0.3499389384822065,\n",
      "                           -2.55160387237748,\n",
      "                           2.0897918250881915,\n",
      "                           1.0061448749802206],\n",
      "         'optimal_value': -1.6823050629682066}}\n"
     ]
    }
   ],
   "source": [
    "pprint(job.result())"
   ]
  }
 ],
 "metadata": {
  "kernelspec": {
   "display_name": "Python 3 (ipykernel)",
   "language": "python",
   "name": "python3"
  },
  "language_info": {
   "codemirror_mode": {
    "name": "ipython",
    "version": 3
   },
   "file_extension": ".py",
   "mimetype": "text/x-python",
   "name": "python",
   "nbconvert_exporter": "python",
   "pygments_lexer": "ipython3",
   "version": "3.11.4"
  }
 },
 "nbformat": 4,
 "nbformat_minor": 5
}
